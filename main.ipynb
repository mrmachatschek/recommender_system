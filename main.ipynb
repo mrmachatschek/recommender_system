{
 "cells": [
  {
   "cell_type": "code",
   "execution_count": 1,
   "metadata": {},
   "outputs": [],
   "source": [
    "import pandas as pd \n",
    "from scipy import spatial\n",
    "import datetime as dt\n",
    "import numpy as np"
   ]
  },
  {
   "cell_type": "code",
   "execution_count": 2,
   "metadata": {},
   "outputs": [],
   "source": [
    "df = pd.read_csv(\"BigBasketDataset.tsv\", sep=\"\\t\")"
   ]
  },
  {
   "cell_type": "code",
   "execution_count": 3,
   "metadata": {},
   "outputs": [
    {
     "output_type": "execute_result",
     "data": {
      "text/plain": "   Member    Order       SKU        Created On   Description\n0  M09736  6468572  34993740  22-09-2014 22:45  Other Sauces\n1  M09736  6468572  15669800  22-09-2014 22:45       Cashews\n2  M09736  6468572  34989501  22-09-2014 22:45    Other Dals\n3  M09736  6468572   7572303  22-09-2014 22:45       Namkeen\n4  M09736  6468572  15669856  22-09-2014 22:45         Sugar",
      "text/html": "<div>\n<style scoped>\n    .dataframe tbody tr th:only-of-type {\n        vertical-align: middle;\n    }\n\n    .dataframe tbody tr th {\n        vertical-align: top;\n    }\n\n    .dataframe thead th {\n        text-align: right;\n    }\n</style>\n<table border=\"1\" class=\"dataframe\">\n  <thead>\n    <tr style=\"text-align: right;\">\n      <th></th>\n      <th>Member</th>\n      <th>Order</th>\n      <th>SKU</th>\n      <th>Created On</th>\n      <th>Description</th>\n    </tr>\n  </thead>\n  <tbody>\n    <tr>\n      <td>0</td>\n      <td>M09736</td>\n      <td>6468572</td>\n      <td>34993740</td>\n      <td>22-09-2014 22:45</td>\n      <td>Other Sauces</td>\n    </tr>\n    <tr>\n      <td>1</td>\n      <td>M09736</td>\n      <td>6468572</td>\n      <td>15669800</td>\n      <td>22-09-2014 22:45</td>\n      <td>Cashews</td>\n    </tr>\n    <tr>\n      <td>2</td>\n      <td>M09736</td>\n      <td>6468572</td>\n      <td>34989501</td>\n      <td>22-09-2014 22:45</td>\n      <td>Other Dals</td>\n    </tr>\n    <tr>\n      <td>3</td>\n      <td>M09736</td>\n      <td>6468572</td>\n      <td>7572303</td>\n      <td>22-09-2014 22:45</td>\n      <td>Namkeen</td>\n    </tr>\n    <tr>\n      <td>4</td>\n      <td>M09736</td>\n      <td>6468572</td>\n      <td>15669856</td>\n      <td>22-09-2014 22:45</td>\n      <td>Sugar</td>\n    </tr>\n  </tbody>\n</table>\n</div>"
     },
     "metadata": {},
     "execution_count": 3
    }
   ],
   "source": [
    "df.head()"
   ]
  },
  {
   "cell_type": "code",
   "execution_count": 4,
   "metadata": {},
   "outputs": [
    {
     "output_type": "stream",
     "name": "stdout",
     "text": "<class 'pandas.core.frame.DataFrame'>\nRangeIndex: 62141 entries, 0 to 62140\nData columns (total 5 columns):\nMember         62141 non-null object\nOrder          62141 non-null int64\nSKU            62141 non-null int64\nCreated On     62141 non-null object\nDescription    62141 non-null object\ndtypes: int64(2), object(3)\nmemory usage: 2.4+ MB\n"
    }
   ],
   "source": [
    "df.info()"
   ]
  },
  {
   "cell_type": "code",
   "execution_count": 5,
   "metadata": {},
   "outputs": [],
   "source": [
    "df.rename(columns={\"Created On\": \"Date\"}, inplace=True)"
   ]
  },
  {
   "cell_type": "code",
   "execution_count": 6,
   "metadata": {},
   "outputs": [],
   "source": [
    "df.Date = pd.to_datetime(df.Date)"
   ]
  },
  {
   "cell_type": "code",
   "execution_count": 7,
   "metadata": {},
   "outputs": [
    {
     "output_type": "stream",
     "name": "stdout",
     "text": "Number of customers: 106\nNumber of Orders: 8387\nNumber of Product Designations: 216\nNumber of SKU: 1732\nFirst Order: 2011-12-03 10:18:00\nLast Order: 2014-10-06 14:21:00\n"
    }
   ],
   "source": [
    "print(\"Number of customers:\", len(df.Member.unique()))\n",
    "print(\"Number of Orders:\", len(df.Order.unique()))\n",
    "print(\"Number of Product Designations:\", len(df.Description.unique()))\n",
    "print(\"Number of SKU:\", len(df.SKU.unique()))\n",
    "print(\"First Order:\", df.Date.min())\n",
    "print(\"Last Order:\", df.Date.max())"
   ]
  },
  {
   "cell_type": "code",
   "execution_count": 8,
   "metadata": {},
   "outputs": [
    {
     "output_type": "display_data",
     "data": {
      "application/vnd.plotly.v1+json": {
       "config": {
        "plotlyServerURL": "https://plot.ly"
       },
       "data": [
        {
         "type": "histogram",
         "x": [
          132,
          55,
          105,
          62,
          39,
          38,
          71,
          92,
          62,
          79,
          55,
          55,
          83,
          79,
          109,
          69,
          137,
          81,
          73,
          119,
          116,
          78,
          178,
          107,
          156,
          86,
          24,
          55,
          83,
          54,
          42,
          115,
          90,
          39,
          203,
          69,
          90,
          53,
          82,
          139,
          48,
          79,
          50,
          106,
          107,
          139,
          133,
          80,
          72,
          113,
          55,
          68,
          81,
          126,
          81,
          94,
          70,
          41,
          36,
          124,
          78,
          75,
          76,
          75,
          29,
          69,
          32,
          121,
          95,
          54,
          60,
          71,
          87,
          108,
          94,
          73,
          47,
          118,
          81,
          35,
          79,
          39,
          39,
          55,
          101,
          75,
          123,
          25,
          66,
          87,
          86,
          56,
          63,
          87,
          45,
          70,
          63,
          62,
          63,
          63,
          68,
          79,
          66,
          73,
          78,
          41
         ],
         "xbins": {
          "size": 10
         }
        }
       ],
       "layout": {
        "plot_bgcolor": "white",
        "showlegend": false,
        "template": {
         "data": {
          "bar": [
           {
            "error_x": {
             "color": "#2a3f5f"
            },
            "error_y": {
             "color": "#2a3f5f"
            },
            "marker": {
             "line": {
              "color": "#E5ECF6",
              "width": 0.5
             }
            },
            "type": "bar"
           }
          ],
          "barpolar": [
           {
            "marker": {
             "line": {
              "color": "#E5ECF6",
              "width": 0.5
             }
            },
            "type": "barpolar"
           }
          ],
          "carpet": [
           {
            "aaxis": {
             "endlinecolor": "#2a3f5f",
             "gridcolor": "white",
             "linecolor": "white",
             "minorgridcolor": "white",
             "startlinecolor": "#2a3f5f"
            },
            "baxis": {
             "endlinecolor": "#2a3f5f",
             "gridcolor": "white",
             "linecolor": "white",
             "minorgridcolor": "white",
             "startlinecolor": "#2a3f5f"
            },
            "type": "carpet"
           }
          ],
          "choropleth": [
           {
            "colorbar": {
             "outlinewidth": 0,
             "ticks": ""
            },
            "type": "choropleth"
           }
          ],
          "contour": [
           {
            "colorbar": {
             "outlinewidth": 0,
             "ticks": ""
            },
            "colorscale": [
             [
              0,
              "#0d0887"
             ],
             [
              0.1111111111111111,
              "#46039f"
             ],
             [
              0.2222222222222222,
              "#7201a8"
             ],
             [
              0.3333333333333333,
              "#9c179e"
             ],
             [
              0.4444444444444444,
              "#bd3786"
             ],
             [
              0.5555555555555556,
              "#d8576b"
             ],
             [
              0.6666666666666666,
              "#ed7953"
             ],
             [
              0.7777777777777778,
              "#fb9f3a"
             ],
             [
              0.8888888888888888,
              "#fdca26"
             ],
             [
              1,
              "#f0f921"
             ]
            ],
            "type": "contour"
           }
          ],
          "contourcarpet": [
           {
            "colorbar": {
             "outlinewidth": 0,
             "ticks": ""
            },
            "type": "contourcarpet"
           }
          ],
          "heatmap": [
           {
            "colorbar": {
             "outlinewidth": 0,
             "ticks": ""
            },
            "colorscale": [
             [
              0,
              "#0d0887"
             ],
             [
              0.1111111111111111,
              "#46039f"
             ],
             [
              0.2222222222222222,
              "#7201a8"
             ],
             [
              0.3333333333333333,
              "#9c179e"
             ],
             [
              0.4444444444444444,
              "#bd3786"
             ],
             [
              0.5555555555555556,
              "#d8576b"
             ],
             [
              0.6666666666666666,
              "#ed7953"
             ],
             [
              0.7777777777777778,
              "#fb9f3a"
             ],
             [
              0.8888888888888888,
              "#fdca26"
             ],
             [
              1,
              "#f0f921"
             ]
            ],
            "type": "heatmap"
           }
          ],
          "heatmapgl": [
           {
            "colorbar": {
             "outlinewidth": 0,
             "ticks": ""
            },
            "colorscale": [
             [
              0,
              "#0d0887"
             ],
             [
              0.1111111111111111,
              "#46039f"
             ],
             [
              0.2222222222222222,
              "#7201a8"
             ],
             [
              0.3333333333333333,
              "#9c179e"
             ],
             [
              0.4444444444444444,
              "#bd3786"
             ],
             [
              0.5555555555555556,
              "#d8576b"
             ],
             [
              0.6666666666666666,
              "#ed7953"
             ],
             [
              0.7777777777777778,
              "#fb9f3a"
             ],
             [
              0.8888888888888888,
              "#fdca26"
             ],
             [
              1,
              "#f0f921"
             ]
            ],
            "type": "heatmapgl"
           }
          ],
          "histogram": [
           {
            "marker": {
             "colorbar": {
              "outlinewidth": 0,
              "ticks": ""
             }
            },
            "type": "histogram"
           }
          ],
          "histogram2d": [
           {
            "colorbar": {
             "outlinewidth": 0,
             "ticks": ""
            },
            "colorscale": [
             [
              0,
              "#0d0887"
             ],
             [
              0.1111111111111111,
              "#46039f"
             ],
             [
              0.2222222222222222,
              "#7201a8"
             ],
             [
              0.3333333333333333,
              "#9c179e"
             ],
             [
              0.4444444444444444,
              "#bd3786"
             ],
             [
              0.5555555555555556,
              "#d8576b"
             ],
             [
              0.6666666666666666,
              "#ed7953"
             ],
             [
              0.7777777777777778,
              "#fb9f3a"
             ],
             [
              0.8888888888888888,
              "#fdca26"
             ],
             [
              1,
              "#f0f921"
             ]
            ],
            "type": "histogram2d"
           }
          ],
          "histogram2dcontour": [
           {
            "colorbar": {
             "outlinewidth": 0,
             "ticks": ""
            },
            "colorscale": [
             [
              0,
              "#0d0887"
             ],
             [
              0.1111111111111111,
              "#46039f"
             ],
             [
              0.2222222222222222,
              "#7201a8"
             ],
             [
              0.3333333333333333,
              "#9c179e"
             ],
             [
              0.4444444444444444,
              "#bd3786"
             ],
             [
              0.5555555555555556,
              "#d8576b"
             ],
             [
              0.6666666666666666,
              "#ed7953"
             ],
             [
              0.7777777777777778,
              "#fb9f3a"
             ],
             [
              0.8888888888888888,
              "#fdca26"
             ],
             [
              1,
              "#f0f921"
             ]
            ],
            "type": "histogram2dcontour"
           }
          ],
          "mesh3d": [
           {
            "colorbar": {
             "outlinewidth": 0,
             "ticks": ""
            },
            "type": "mesh3d"
           }
          ],
          "parcoords": [
           {
            "line": {
             "colorbar": {
              "outlinewidth": 0,
              "ticks": ""
             }
            },
            "type": "parcoords"
           }
          ],
          "pie": [
           {
            "automargin": true,
            "type": "pie"
           }
          ],
          "scatter": [
           {
            "marker": {
             "colorbar": {
              "outlinewidth": 0,
              "ticks": ""
             }
            },
            "type": "scatter"
           }
          ],
          "scatter3d": [
           {
            "line": {
             "colorbar": {
              "outlinewidth": 0,
              "ticks": ""
             }
            },
            "marker": {
             "colorbar": {
              "outlinewidth": 0,
              "ticks": ""
             }
            },
            "type": "scatter3d"
           }
          ],
          "scattercarpet": [
           {
            "marker": {
             "colorbar": {
              "outlinewidth": 0,
              "ticks": ""
             }
            },
            "type": "scattercarpet"
           }
          ],
          "scattergeo": [
           {
            "marker": {
             "colorbar": {
              "outlinewidth": 0,
              "ticks": ""
             }
            },
            "type": "scattergeo"
           }
          ],
          "scattergl": [
           {
            "marker": {
             "colorbar": {
              "outlinewidth": 0,
              "ticks": ""
             }
            },
            "type": "scattergl"
           }
          ],
          "scattermapbox": [
           {
            "marker": {
             "colorbar": {
              "outlinewidth": 0,
              "ticks": ""
             }
            },
            "type": "scattermapbox"
           }
          ],
          "scatterpolar": [
           {
            "marker": {
             "colorbar": {
              "outlinewidth": 0,
              "ticks": ""
             }
            },
            "type": "scatterpolar"
           }
          ],
          "scatterpolargl": [
           {
            "marker": {
             "colorbar": {
              "outlinewidth": 0,
              "ticks": ""
             }
            },
            "type": "scatterpolargl"
           }
          ],
          "scatterternary": [
           {
            "marker": {
             "colorbar": {
              "outlinewidth": 0,
              "ticks": ""
             }
            },
            "type": "scatterternary"
           }
          ],
          "surface": [
           {
            "colorbar": {
             "outlinewidth": 0,
             "ticks": ""
            },
            "colorscale": [
             [
              0,
              "#0d0887"
             ],
             [
              0.1111111111111111,
              "#46039f"
             ],
             [
              0.2222222222222222,
              "#7201a8"
             ],
             [
              0.3333333333333333,
              "#9c179e"
             ],
             [
              0.4444444444444444,
              "#bd3786"
             ],
             [
              0.5555555555555556,
              "#d8576b"
             ],
             [
              0.6666666666666666,
              "#ed7953"
             ],
             [
              0.7777777777777778,
              "#fb9f3a"
             ],
             [
              0.8888888888888888,
              "#fdca26"
             ],
             [
              1,
              "#f0f921"
             ]
            ],
            "type": "surface"
           }
          ],
          "table": [
           {
            "cells": {
             "fill": {
              "color": "#EBF0F8"
             },
             "line": {
              "color": "white"
             }
            },
            "header": {
             "fill": {
              "color": "#C8D4E3"
             },
             "line": {
              "color": "white"
             }
            },
            "type": "table"
           }
          ]
         },
         "layout": {
          "annotationdefaults": {
           "arrowcolor": "#2a3f5f",
           "arrowhead": 0,
           "arrowwidth": 1
          },
          "coloraxis": {
           "colorbar": {
            "outlinewidth": 0,
            "ticks": ""
           }
          },
          "colorscale": {
           "diverging": [
            [
             0,
             "#8e0152"
            ],
            [
             0.1,
             "#c51b7d"
            ],
            [
             0.2,
             "#de77ae"
            ],
            [
             0.3,
             "#f1b6da"
            ],
            [
             0.4,
             "#fde0ef"
            ],
            [
             0.5,
             "#f7f7f7"
            ],
            [
             0.6,
             "#e6f5d0"
            ],
            [
             0.7,
             "#b8e186"
            ],
            [
             0.8,
             "#7fbc41"
            ],
            [
             0.9,
             "#4d9221"
            ],
            [
             1,
             "#276419"
            ]
           ],
           "sequential": [
            [
             0,
             "#0d0887"
            ],
            [
             0.1111111111111111,
             "#46039f"
            ],
            [
             0.2222222222222222,
             "#7201a8"
            ],
            [
             0.3333333333333333,
             "#9c179e"
            ],
            [
             0.4444444444444444,
             "#bd3786"
            ],
            [
             0.5555555555555556,
             "#d8576b"
            ],
            [
             0.6666666666666666,
             "#ed7953"
            ],
            [
             0.7777777777777778,
             "#fb9f3a"
            ],
            [
             0.8888888888888888,
             "#fdca26"
            ],
            [
             1,
             "#f0f921"
            ]
           ],
           "sequentialminus": [
            [
             0,
             "#0d0887"
            ],
            [
             0.1111111111111111,
             "#46039f"
            ],
            [
             0.2222222222222222,
             "#7201a8"
            ],
            [
             0.3333333333333333,
             "#9c179e"
            ],
            [
             0.4444444444444444,
             "#bd3786"
            ],
            [
             0.5555555555555556,
             "#d8576b"
            ],
            [
             0.6666666666666666,
             "#ed7953"
            ],
            [
             0.7777777777777778,
             "#fb9f3a"
            ],
            [
             0.8888888888888888,
             "#fdca26"
            ],
            [
             1,
             "#f0f921"
            ]
           ]
          },
          "colorway": [
           "#636efa",
           "#EF553B",
           "#00cc96",
           "#ab63fa",
           "#FFA15A",
           "#19d3f3",
           "#FF6692",
           "#B6E880",
           "#FF97FF",
           "#FECB52"
          ],
          "font": {
           "color": "#2a3f5f"
          },
          "geo": {
           "bgcolor": "white",
           "lakecolor": "white",
           "landcolor": "#E5ECF6",
           "showlakes": true,
           "showland": true,
           "subunitcolor": "white"
          },
          "hoverlabel": {
           "align": "left"
          },
          "hovermode": "closest",
          "mapbox": {
           "style": "light"
          },
          "paper_bgcolor": "white",
          "plot_bgcolor": "#E5ECF6",
          "polar": {
           "angularaxis": {
            "gridcolor": "white",
            "linecolor": "white",
            "ticks": ""
           },
           "bgcolor": "#E5ECF6",
           "radialaxis": {
            "gridcolor": "white",
            "linecolor": "white",
            "ticks": ""
           }
          },
          "scene": {
           "xaxis": {
            "backgroundcolor": "#E5ECF6",
            "gridcolor": "white",
            "gridwidth": 2,
            "linecolor": "white",
            "showbackground": true,
            "ticks": "",
            "zerolinecolor": "white"
           },
           "yaxis": {
            "backgroundcolor": "#E5ECF6",
            "gridcolor": "white",
            "gridwidth": 2,
            "linecolor": "white",
            "showbackground": true,
            "ticks": "",
            "zerolinecolor": "white"
           },
           "zaxis": {
            "backgroundcolor": "#E5ECF6",
            "gridcolor": "white",
            "gridwidth": 2,
            "linecolor": "white",
            "showbackground": true,
            "ticks": "",
            "zerolinecolor": "white"
           }
          },
          "shapedefaults": {
           "line": {
            "color": "#2a3f5f"
           }
          },
          "ternary": {
           "aaxis": {
            "gridcolor": "white",
            "linecolor": "white",
            "ticks": ""
           },
           "baxis": {
            "gridcolor": "white",
            "linecolor": "white",
            "ticks": ""
           },
           "bgcolor": "#E5ECF6",
           "caxis": {
            "gridcolor": "white",
            "linecolor": "white",
            "ticks": ""
           }
          },
          "title": {
           "x": 0.05
          },
          "xaxis": {
           "automargin": true,
           "gridcolor": "white",
           "linecolor": "white",
           "ticks": "",
           "title": {
            "standoff": 15
           },
           "zerolinecolor": "white",
           "zerolinewidth": 2
          },
          "yaxis": {
           "automargin": true,
           "gridcolor": "white",
           "linecolor": "white",
           "ticks": "",
           "title": {
            "standoff": 15
           },
           "zerolinecolor": "white",
           "zerolinewidth": 2
          }
         }
        },
        "title": {
         "text": "Number of orders by customers"
        }
       }
      }
     },
     "metadata": {}
    }
   ],
   "source": [
    "import plotly.graph_objects as go\n",
    "x = pd.DataFrame(df[[\"Member\", \"Order\"]].groupby(\"Member\").agg({\"Order\": \"nunique\"})).Order\n",
    "\n",
    "fig = go.Figure(data=[go.Histogram(x=x, xbins=dict(size=10))])\n",
    "fig.update_layout(title_text=\"Number of orders by customers\", plot_bgcolor=\"white\", showlegend=False)\n",
    "\n",
    "fig.show()"
   ]
  },
  {
   "cell_type": "code",
   "execution_count": 9,
   "metadata": {},
   "outputs": [
    {
     "output_type": "display_data",
     "data": {
      "application/vnd.plotly.v1+json": {
       "config": {
        "plotlyServerURL": "https://plot.ly"
       },
       "data": [
        {
         "type": "histogram",
         "x": [
          9,
          11,
          12,
          4,
          4,
          5,
          1,
          17,
          3,
          1,
          7,
          8,
          10,
          8,
          6,
          8,
          5,
          6,
          9,
          5,
          6,
          6,
          17,
          6,
          1,
          11,
          8,
          12,
          2,
          7,
          2,
          8,
          7,
          19,
          13,
          33,
          8,
          18,
          10,
          8,
          4,
          13,
          4,
          3,
          41,
          3,
          8,
          29,
          13,
          7,
          4,
          12,
          15,
          7,
          18,
          3,
          8,
          8,
          9,
          14,
          10,
          22,
          3,
          8,
          7,
          5,
          2,
          13,
          2,
          4,
          3,
          5,
          5,
          5,
          7,
          9,
          9,
          5,
          3,
          9,
          31,
          3,
          6,
          13,
          8,
          4,
          5,
          4,
          10,
          11,
          4,
          6,
          14,
          7,
          6,
          6,
          4,
          5,
          12,
          3,
          5,
          1,
          4,
          3,
          7,
          9,
          8,
          1,
          1,
          8,
          16,
          10,
          17,
          1,
          11,
          7,
          6,
          6,
          11,
          8,
          12,
          5,
          9,
          12,
          6,
          8,
          12,
          6,
          8,
          4,
          6,
          3,
          10,
          8,
          16,
          2,
          3,
          12,
          15,
          3,
          6,
          6,
          2,
          12,
          8,
          3,
          9,
          5,
          1,
          14,
          9,
          9,
          13,
          3,
          26,
          4,
          2,
          7,
          7,
          5,
          8,
          4,
          7,
          3,
          5,
          5,
          8,
          2,
          5,
          3,
          1,
          2,
          1,
          7,
          3,
          5,
          7,
          4,
          5,
          11,
          2,
          6,
          4,
          11,
          10,
          16,
          10,
          10,
          9,
          9,
          3,
          1,
          18,
          8,
          9,
          7,
          11,
          1,
          9,
          4,
          12,
          6,
          5,
          7,
          4,
          5,
          4,
          10,
          3,
          15,
          11,
          8,
          3,
          5,
          10,
          5,
          8,
          5,
          10,
          8,
          12,
          32,
          5,
          1,
          9,
          5,
          1,
          9,
          7,
          1,
          11,
          2,
          1,
          10,
          37,
          11,
          5,
          5,
          12,
          5,
          8,
          8,
          9,
          10,
          5,
          1,
          6,
          9,
          3,
          11,
          10,
          7,
          5,
          15,
          6,
          12,
          1,
          4,
          11,
          6,
          14,
          6,
          15,
          7,
          2,
          9,
          4,
          7,
          2,
          1,
          6,
          3,
          10,
          2,
          7,
          8,
          4,
          4,
          8,
          7,
          15,
          17,
          10,
          2,
          8,
          8,
          9,
          8,
          3,
          7,
          2,
          8,
          5,
          22,
          9,
          11,
          4,
          4,
          11,
          15,
          9,
          4,
          9,
          19,
          15,
          23,
          4,
          4,
          1,
          13,
          11,
          33,
          6,
          15,
          6,
          13,
          1,
          5,
          15,
          11,
          15,
          6,
          2,
          12,
          1,
          11,
          10,
          23,
          3,
          9,
          10,
          7,
          1,
          4,
          7,
          17,
          9,
          7,
          6,
          10,
          12,
          3,
          13,
          9,
          3,
          6,
          9,
          4,
          8,
          3,
          5,
          15,
          2,
          3,
          5,
          2,
          10,
          3,
          12,
          5,
          7,
          19,
          12,
          20,
          16,
          11,
          7,
          1,
          1,
          2,
          12,
          9,
          7,
          1,
          11,
          15,
          4,
          2,
          10,
          21,
          7,
          2,
          5,
          9,
          12,
          2,
          4,
          7,
          5,
          2,
          14,
          5,
          4,
          6,
          4,
          5,
          8,
          14,
          12,
          5,
          2,
          13,
          12,
          2,
          16,
          11,
          13,
          1,
          11,
          12,
          11,
          11,
          2,
          26,
          3,
          8,
          7,
          8,
          1,
          8,
          1,
          4,
          7,
          9,
          7,
          2,
          13,
          20,
          6,
          1,
          23,
          7,
          2,
          3,
          7,
          25,
          13,
          10,
          14,
          4,
          12,
          7,
          15,
          4,
          7,
          2,
          11,
          9,
          4,
          4,
          7,
          10,
          16,
          6,
          9,
          4,
          6,
          10,
          1,
          9,
          8,
          10,
          3,
          6,
          5,
          5,
          7,
          8,
          16,
          3,
          4,
          14,
          5,
          8,
          11,
          10,
          1,
          8,
          10,
          17,
          10,
          3,
          3,
          6,
          1,
          4,
          6,
          6,
          9,
          5,
          2,
          7,
          22,
          3,
          14,
          4,
          14,
          1,
          3,
          14,
          3,
          10,
          12,
          5,
          8,
          10,
          5,
          23,
          12,
          6,
          4,
          7,
          6,
          10,
          2,
          1,
          10,
          4,
          10,
          6,
          8,
          10,
          1,
          1,
          14,
          12,
          10,
          15,
          5,
          4,
          2,
          4,
          20,
          13,
          3,
          4,
          8,
          4,
          7,
          5,
          9,
          9,
          8,
          3,
          4,
          5,
          11,
          11,
          6,
          6,
          9,
          6,
          9,
          8,
          4,
          9,
          1,
          5,
          2,
          6,
          4,
          4,
          11,
          15,
          5,
          10,
          12,
          16,
          4,
          11,
          16,
          5,
          8,
          8,
          2,
          9,
          9,
          8,
          11,
          1,
          9,
          6,
          7,
          5,
          6,
          9,
          1,
          3,
          8,
          4,
          3,
          1,
          1,
          6,
          3,
          1,
          4,
          17,
          7,
          3,
          3,
          1,
          5,
          7,
          7,
          6,
          9,
          6,
          8,
          5,
          7,
          6,
          12,
          10,
          8,
          13,
          9,
          4,
          7,
          6,
          3,
          12,
          7,
          6,
          2,
          4,
          16,
          9,
          3,
          10,
          6,
          23,
          4,
          17,
          6,
          4,
          8,
          7,
          3,
          1,
          4,
          6,
          11,
          10,
          8,
          7,
          16,
          4,
          9,
          8,
          10,
          7,
          2,
          3,
          1,
          10,
          27,
          1,
          2,
          7,
          8,
          16,
          9,
          8,
          12,
          6,
          18,
          19,
          9,
          8,
          14,
          7,
          7,
          2,
          9,
          11,
          10,
          3,
          1,
          7,
          8,
          16,
          8,
          5,
          11,
          6,
          9,
          3,
          4,
          2,
          6,
          5,
          9,
          3,
          8,
          7,
          9,
          13,
          4,
          11,
          2,
          4,
          4,
          9,
          6,
          8,
          1,
          2,
          4,
          13,
          3,
          5,
          10,
          1,
          5,
          1,
          6,
          8,
          8,
          34,
          8,
          1,
          6,
          16,
          1,
          3,
          8,
          12,
          8,
          3,
          1,
          7,
          1,
          12,
          15,
          6,
          7,
          2,
          1,
          9,
          9,
          2,
          23,
          8,
          8,
          4,
          4,
          14,
          13,
          9,
          14,
          6,
          16,
          33,
          20,
          6,
          17,
          4,
          4,
          9,
          6,
          6,
          22,
          4,
          6,
          13,
          3,
          13,
          6,
          1,
          15,
          16,
          9,
          8,
          8,
          6,
          1,
          2,
          13,
          4,
          3,
          11,
          8,
          10,
          13,
          2,
          12,
          7,
          7,
          12,
          6,
          7,
          24,
          2,
          1,
          11,
          7,
          5,
          7,
          8,
          3,
          7,
          13,
          1,
          2,
          14,
          3,
          13,
          5,
          5,
          5,
          4,
          5,
          7,
          27,
          1,
          2,
          7,
          13,
          7,
          9,
          5,
          3,
          1,
          7,
          4,
          10,
          5,
          7,
          5,
          10,
          3,
          7,
          13,
          5,
          1,
          1,
          7,
          12,
          20,
          3,
          8,
          1,
          4,
          5,
          3,
          5,
          5,
          12,
          12,
          6,
          5,
          11,
          4,
          10,
          6,
          11,
          1,
          2,
          5,
          4,
          11,
          9,
          8,
          8,
          4,
          3,
          14,
          2,
          4,
          7,
          4,
          12,
          1,
          5,
          7,
          21,
          5,
          3,
          9,
          6,
          4,
          9,
          3,
          4,
          3,
          16,
          22,
          14,
          2,
          9,
          10,
          10,
          17,
          2,
          7,
          12,
          16,
          7,
          9,
          3,
          3,
          3,
          7,
          3,
          11,
          7,
          9,
          2,
          9,
          1,
          2,
          11,
          7,
          1,
          2,
          6,
          6,
          6,
          4,
          3,
          1,
          8,
          11,
          13,
          12,
          4,
          12,
          8,
          3,
          1,
          3,
          11,
          9,
          10,
          4,
          1,
          8,
          4,
          7,
          3,
          10,
          8,
          9,
          8,
          4,
          4,
          4,
          14,
          1,
          4,
          10,
          9,
          10,
          7,
          2,
          25,
          8,
          42,
          7,
          7,
          6,
          5,
          8,
          2,
          1,
          30,
          7,
          4,
          15,
          5,
          8,
          6,
          3,
          7,
          3,
          6,
          7,
          6,
          4,
          8,
          8,
          7,
          4,
          5,
          4,
          14,
          4,
          3,
          12,
          4,
          19,
          5,
          5,
          4,
          5,
          1,
          10,
          5,
          9,
          3,
          15,
          3,
          8,
          1,
          7,
          12,
          7,
          5,
          3,
          2,
          1,
          8,
          7,
          3,
          2,
          10,
          5,
          10,
          11,
          3,
          1,
          1,
          4,
          10,
          15,
          3,
          7,
          3,
          17,
          1,
          6,
          7,
          5,
          2,
          3,
          4,
          9,
          2,
          4,
          11,
          20,
          7,
          7,
          5,
          9,
          8,
          5,
          5,
          4,
          10,
          12,
          2,
          3,
          26,
          3,
          3,
          3,
          2,
          12,
          2,
          5,
          6,
          1,
          11,
          7,
          1,
          5,
          2,
          10,
          4,
          8,
          4,
          13,
          4,
          6,
          7,
          1,
          7,
          12,
          3,
          1,
          7,
          4,
          14,
          16,
          25,
          3,
          14,
          13,
          15,
          9,
          3,
          9,
          5,
          6,
          10,
          4,
          10,
          9,
          2,
          7,
          6,
          11,
          6,
          20,
          5,
          7,
          1,
          4,
          7,
          3,
          2,
          6,
          9,
          4,
          6,
          8,
          12,
          10,
          6,
          2,
          4,
          5,
          1,
          20,
          7,
          2,
          1,
          13,
          9,
          4,
          7,
          3,
          2,
          6,
          5,
          5,
          3,
          12,
          3,
          2,
          2,
          10,
          2,
          6,
          5,
          12,
          10,
          3,
          9,
          7,
          7,
          2,
          1,
          10,
          8,
          3,
          9,
          13,
          13,
          6,
          22,
          8,
          3,
          5,
          17,
          4,
          4,
          1,
          12,
          1,
          15,
          18,
          2,
          8,
          8,
          9,
          4,
          7,
          12,
          12,
          3,
          12,
          14,
          11,
          6,
          1,
          5,
          25,
          9,
          4,
          4,
          9,
          6,
          3,
          4,
          4,
          12,
          17,
          1,
          3,
          5,
          12,
          8,
          10,
          20,
          3,
          6,
          6,
          7,
          3,
          6,
          1,
          7,
          5,
          2,
          1,
          3,
          4,
          7,
          17,
          15,
          10,
          8,
          18,
          2,
          3,
          3,
          6,
          5,
          9,
          12,
          2,
          12,
          10,
          5,
          20,
          11,
          1,
          12,
          5,
          14,
          1,
          8,
          7,
          9,
          15,
          7,
          12,
          4,
          2,
          6,
          13,
          6,
          14,
          14,
          8,
          5,
          5,
          13,
          7,
          8,
          4,
          4,
          2,
          6,
          10,
          4,
          4,
          7,
          3,
          1,
          4,
          8,
          9,
          4,
          10,
          2,
          11,
          4,
          5,
          9,
          9,
          7,
          8,
          9,
          4,
          6,
          6,
          3,
          11,
          3,
          7,
          25,
          12,
          6,
          8,
          1,
          11,
          3,
          9,
          7,
          9,
          6,
          10,
          5,
          10,
          22,
          6,
          4,
          4,
          8,
          2,
          2,
          3,
          7,
          7,
          14,
          6,
          5,
          8,
          7,
          9,
          8,
          5,
          8,
          16,
          6,
          11,
          11,
          4,
          2,
          16,
          10,
          3,
          9,
          7,
          8,
          9,
          3,
          9,
          12,
          11,
          5,
          10,
          6,
          4,
          8,
          6,
          15,
          4,
          8,
          6,
          15,
          3,
          11,
          6,
          13,
          13,
          6,
          5,
          5,
          3,
          3,
          8,
          8,
          1,
          2,
          4,
          15,
          2,
          1,
          6,
          14,
          4,
          8,
          6,
          8,
          2,
          5,
          10,
          15,
          7,
          11,
          11,
          5,
          1,
          5,
          8,
          7,
          3,
          4,
          4,
          11,
          3,
          5,
          3,
          11,
          10,
          7,
          6,
          7,
          11,
          4,
          4,
          9,
          4,
          7,
          9,
          11,
          10,
          6,
          12,
          6,
          10,
          9,
          4,
          13,
          10,
          6,
          18,
          7,
          6,
          3,
          7,
          15,
          5,
          6,
          12,
          17,
          7,
          19,
          9,
          6,
          5,
          2,
          8,
          4,
          4,
          3,
          4,
          11,
          9,
          6,
          5,
          7,
          5,
          1,
          13,
          5,
          5,
          5,
          13,
          3,
          11,
          12,
          14,
          7,
          9,
          9,
          5,
          3,
          9,
          9,
          1,
          6,
          5,
          5,
          3,
          13,
          12,
          6,
          10,
          4,
          3,
          5,
          6,
          8,
          3,
          2,
          15,
          2,
          13,
          11,
          5,
          10,
          2,
          13,
          5,
          7,
          12,
          6,
          7,
          3,
          8,
          7,
          6,
          3,
          9,
          1,
          4,
          8,
          9,
          7,
          6,
          11,
          5,
          8,
          5,
          19,
          6,
          4,
          13,
          13,
          3,
          1,
          6,
          12,
          6,
          8,
          8,
          9,
          5,
          2,
          10,
          5,
          10,
          10,
          16,
          1,
          6,
          5,
          14,
          13,
          8,
          7,
          12,
          9,
          12,
          7,
          5,
          19,
          7,
          17,
          16,
          9,
          1,
          11,
          13,
          7,
          6,
          6,
          12,
          1,
          3,
          5,
          5,
          4,
          14,
          10,
          5,
          6,
          4,
          9,
          18,
          9,
          11,
          1,
          4,
          5,
          5,
          1,
          5,
          6,
          12,
          1,
          4,
          7,
          7,
          4,
          6,
          5,
          21,
          3,
          4,
          5,
          7,
          12,
          6,
          1,
          1,
          7,
          3,
          10,
          6,
          12,
          6,
          8,
          18,
          6,
          5,
          11,
          5,
          2,
          18,
          7,
          5,
          2,
          6,
          7,
          9,
          9,
          26,
          11,
          9,
          8,
          13,
          8,
          7,
          11,
          28,
          6,
          8,
          9,
          8,
          10,
          10,
          5,
          3,
          2,
          8,
          4,
          7,
          9,
          10,
          3,
          5,
          5,
          5,
          5,
          1,
          9,
          2,
          1,
          1,
          5,
          3,
          5,
          7,
          4,
          8,
          3,
          3,
          6,
          1,
          3,
          9,
          14,
          9,
          7,
          5,
          9,
          9,
          5,
          3,
          4,
          4,
          13,
          8,
          19,
          1,
          8,
          13,
          3,
          10,
          3,
          4,
          10,
          10,
          5,
          6,
          12,
          6,
          10,
          14,
          8,
          10,
          5,
          4,
          13,
          28,
          7,
          7,
          13,
          6,
          8,
          2,
          12,
          1,
          6,
          4,
          7,
          5,
          4,
          9,
          22,
          5,
          7,
          8,
          8,
          10,
          1,
          1,
          4,
          10,
          9,
          13,
          3,
          7,
          11,
          1,
          7,
          4,
          2,
          2,
          9,
          8,
          1,
          9,
          11,
          4,
          6,
          23,
          16,
          15,
          3,
          8,
          6,
          12,
          17,
          3,
          8,
          4,
          2,
          11,
          2,
          16,
          10,
          10,
          1,
          7,
          7,
          6,
          1,
          5,
          8,
          7,
          5,
          1,
          2,
          3,
          8,
          12,
          7,
          14,
          5,
          6,
          4,
          11,
          6,
          8,
          26,
          2,
          7,
          5,
          6,
          3,
          5,
          7,
          1,
          7,
          33,
          5,
          5,
          9,
          6,
          2,
          7,
          5,
          2,
          1,
          11,
          7,
          5,
          1,
          12,
          6,
          10,
          4,
          11,
          10,
          7,
          8,
          3,
          4,
          4,
          19,
          7,
          5,
          1,
          2,
          13,
          3,
          9,
          8,
          12,
          6,
          3,
          12,
          6,
          3,
          7,
          8,
          8,
          4,
          14,
          9,
          10,
          3,
          4,
          10,
          6,
          7,
          14,
          4,
          11,
          14,
          4,
          11,
          7,
          3,
          21,
          12,
          5,
          6,
          4,
          6,
          4,
          13,
          1,
          12,
          4,
          4,
          6,
          19,
          4,
          8,
          6,
          6,
          3,
          5,
          10,
          8,
          6,
          5,
          12,
          10,
          10,
          6,
          1,
          4,
          6,
          8,
          2,
          4,
          1,
          4,
          11,
          12,
          5,
          5,
          6,
          4,
          6,
          4,
          7,
          3,
          12,
          5,
          6,
          6,
          8,
          6,
          9,
          5,
          5,
          5,
          2,
          18,
          7,
          9,
          3,
          11,
          2,
          10,
          6,
          4,
          10,
          9,
          7,
          9,
          7,
          7,
          2,
          20,
          8,
          5,
          5,
          8,
          1,
          9,
          2,
          7,
          7,
          8,
          6,
          4,
          13,
          9,
          4,
          9,
          7,
          2,
          4,
          3,
          3,
          5,
          15,
          13,
          5,
          14,
          5,
          15,
          3,
          7,
          6,
          10,
          3,
          1,
          1,
          1,
          5,
          6,
          9,
          8,
          17,
          8,
          10,
          9,
          3,
          4,
          6,
          3,
          10,
          19,
          1,
          1,
          6,
          9,
          12,
          7,
          11,
          6,
          7,
          7,
          1,
          11,
          10,
          10,
          5,
          6,
          6,
          8,
          11,
          29,
          4,
          4,
          9,
          4,
          3,
          5,
          5,
          6,
          6,
          10,
          5,
          7,
          8,
          1,
          6,
          9,
          4,
          1,
          4,
          15,
          9,
          3,
          2,
          4,
          5,
          5,
          17,
          10,
          7,
          8,
          1,
          13,
          14,
          11,
          6,
          7,
          2,
          7,
          17,
          11,
          7,
          4,
          16,
          4,
          2,
          3,
          4,
          11,
          3,
          10,
          18,
          6,
          12,
          4,
          9,
          9,
          11,
          9,
          13,
          3,
          5,
          13,
          12,
          6,
          11,
          14,
          1,
          4,
          5,
          1,
          17,
          6,
          12,
          9,
          5,
          7,
          6,
          17,
          5,
          8,
          13,
          7,
          8,
          7,
          14,
          3,
          10,
          8,
          7,
          3,
          8,
          4,
          2,
          26,
          6,
          5,
          6,
          5,
          6,
          8,
          2,
          2,
          20,
          7,
          5,
          9,
          6,
          6,
          9,
          5,
          10,
          8,
          3,
          10,
          8,
          1,
          3,
          8,
          3,
          5,
          21,
          8,
          2,
          2,
          4,
          5,
          10,
          12,
          21,
          4,
          1,
          9,
          1,
          2,
          1,
          9,
          11,
          9,
          11,
          7,
          5,
          9,
          16,
          14,
          9,
          5,
          4,
          10,
          7,
          8,
          8,
          1,
          9,
          12,
          9,
          4,
          21,
          5,
          1,
          5,
          9,
          32,
          6,
          3,
          2,
          1,
          9,
          3,
          6,
          8,
          10,
          9,
          5,
          6,
          5,
          7,
          7,
          6,
          9,
          16,
          2,
          3,
          16,
          3,
          6,
          17,
          8,
          8,
          15,
          6,
          4,
          10,
          2,
          6,
          5,
          5,
          2,
          7,
          7,
          10,
          9,
          7,
          9,
          3,
          7,
          1,
          8,
          7,
          9,
          24,
          8,
          11,
          6,
          14,
          6,
          7,
          7,
          10,
          5,
          9,
          5,
          6,
          8,
          20,
          18,
          4,
          3,
          6,
          4,
          7,
          6,
          7,
          7,
          6,
          7,
          11,
          7,
          3,
          7,
          7,
          22,
          7,
          18,
          6,
          13,
          7,
          2,
          1,
          6,
          4,
          8,
          3,
          8,
          18,
          10,
          9,
          4,
          4,
          9,
          8,
          2,
          4,
          12,
          3,
          8,
          10,
          6,
          4,
          8,
          4,
          2,
          10,
          11,
          6,
          19,
          18,
          4,
          10,
          10,
          20,
          3,
          2,
          8,
          4,
          5,
          2,
          7,
          7,
          3,
          4,
          9,
          8,
          13,
          6,
          5,
          14,
          9,
          1,
          10,
          6,
          7,
          12,
          4,
          15,
          7,
          1,
          6,
          18,
          5,
          7,
          6,
          4,
          2,
          12,
          1,
          1,
          35,
          8,
          1,
          20,
          25,
          15,
          9,
          9,
          6,
          3,
          3,
          20,
          4,
          5,
          11,
          2,
          14,
          3,
          7,
          5,
          12,
          4,
          3,
          4,
          5,
          2,
          6,
          2,
          4,
          11,
          11,
          7,
          4,
          11,
          6,
          4,
          8,
          17,
          13,
          9,
          6,
          8,
          3,
          26,
          7,
          12,
          1,
          6,
          7,
          3,
          1,
          7,
          9,
          7,
          6,
          7,
          18,
          9,
          3,
          6,
          7,
          3,
          21,
          7,
          16,
          10,
          1,
          25,
          3,
          7,
          2,
          1,
          6,
          4,
          9,
          4,
          6,
          9,
          2,
          3,
          7,
          9,
          7,
          5,
          5,
          9,
          3,
          3,
          3,
          2,
          7,
          7,
          14,
          5,
          12,
          5,
          4,
          7,
          3,
          24,
          9,
          6,
          2,
          1,
          5,
          6,
          11,
          11,
          5,
          6,
          6,
          1,
          1,
          17,
          2,
          6,
          3,
          12,
          15,
          4,
          3,
          9,
          5,
          11,
          21,
          1,
          1,
          10,
          4,
          10,
          10,
          12,
          8,
          1,
          5,
          4,
          6,
          7,
          20,
          7,
          1,
          3,
          10,
          3,
          5,
          4,
          9,
          7,
          2,
          7,
          4,
          9,
          12,
          7,
          10,
          1,
          5,
          11,
          5,
          6,
          2,
          13,
          4,
          11,
          7,
          3,
          7,
          6,
          9,
          1,
          1,
          7,
          9,
          6,
          3,
          9,
          17,
          3,
          3,
          5,
          5,
          14,
          6,
          1,
          5,
          6,
          8,
          1,
          9,
          10,
          7,
          4,
          5,
          2,
          3,
          5,
          5,
          12,
          7,
          11,
          4,
          6,
          3,
          9,
          5,
          10,
          20,
          8,
          5,
          14,
          10,
          4,
          12,
          10,
          13,
          13,
          2,
          8,
          6,
          13,
          7,
          8,
          5,
          2,
          6,
          6,
          11,
          3,
          3,
          2,
          5,
          4,
          8,
          3,
          15,
          6,
          10,
          5,
          3,
          4,
          10,
          2,
          4,
          14,
          1,
          17,
          12,
          6,
          5,
          11,
          4,
          8,
          6,
          7,
          8,
          3,
          10,
          7,
          10,
          9,
          5,
          7,
          15,
          3,
          2,
          2,
          7,
          7,
          20,
          2,
          14,
          7,
          6,
          10,
          15,
          17,
          10,
          8,
          19,
          11,
          12,
          8,
          4,
          3,
          13,
          8,
          9,
          7,
          6,
          10,
          8,
          6,
          11,
          10,
          2,
          10,
          8,
          2,
          6,
          9,
          6,
          8,
          5,
          7,
          10,
          20,
          4,
          9,
          28,
          9,
          6,
          1,
          4,
          7,
          5,
          3,
          1,
          8,
          7,
          6,
          4,
          10,
          5,
          6,
          11,
          5,
          10,
          4,
          5,
          8,
          12,
          1,
          7,
          9,
          5,
          5,
          24,
          5,
          1,
          4,
          5,
          1,
          4,
          9,
          11,
          2,
          4,
          4,
          8,
          23,
          7,
          1,
          9,
          8,
          8,
          7,
          6,
          3,
          3,
          14,
          2,
          9,
          6,
          1,
          8,
          4,
          6,
          3,
          5,
          13,
          3,
          14,
          8,
          7,
          5,
          1,
          1,
          8,
          10,
          7,
          4,
          10,
          8,
          5,
          4,
          9,
          13,
          6,
          1,
          1,
          2,
          10,
          8,
          9,
          2,
          2,
          7,
          17,
          2,
          4,
          11,
          8,
          4,
          17,
          2,
          4,
          7,
          4,
          15,
          6,
          8,
          8,
          10,
          5,
          12,
          9,
          1,
          13,
          1,
          9,
          2,
          7,
          4,
          6,
          5,
          3,
          14,
          5,
          3,
          2,
          1,
          10,
          6,
          16,
          7,
          5,
          18,
          12,
          9,
          5,
          7,
          8,
          6,
          6,
          10,
          8,
          8,
          9,
          8,
          7,
          8,
          6,
          2,
          16,
          6,
          3,
          8,
          6,
          15,
          5,
          2,
          6,
          9,
          11,
          5,
          6,
          5,
          6,
          12,
          4,
          6,
          10,
          5,
          5,
          10,
          3,
          8,
          2,
          3,
          6,
          8,
          7,
          5,
          15,
          9,
          10,
          3,
          1,
          18,
          1,
          2,
          15,
          29,
          16,
          14,
          1,
          6,
          14,
          5,
          2,
          4,
          4,
          15,
          6,
          3,
          5,
          5,
          15,
          16,
          10,
          6,
          5,
          7,
          8,
          3,
          21,
          6,
          7,
          9,
          6,
          5,
          7,
          10,
          13,
          1,
          11,
          7,
          17,
          6,
          8,
          15,
          9,
          11,
          5,
          5,
          6,
          8,
          7,
          6,
          4,
          7,
          7,
          10,
          12,
          4,
          1,
          12,
          9,
          14,
          27,
          5,
          6,
          6,
          7,
          6,
          2,
          4,
          2,
          1,
          9,
          7,
          3,
          3,
          5,
          3,
          1,
          10,
          9,
          8,
          8,
          4,
          3,
          14,
          7,
          10,
          8,
          7,
          9,
          7,
          7,
          10,
          6,
          12,
          1,
          8,
          2,
          13,
          5,
          8,
          14,
          4,
          11,
          8,
          9,
          7,
          4,
          4,
          11,
          4,
          8,
          10,
          15,
          8,
          4,
          8,
          3,
          6,
          1,
          6,
          5,
          15,
          6,
          5,
          3,
          5,
          6,
          5,
          3,
          6,
          12,
          9,
          3,
          7,
          3,
          7,
          3,
          3,
          11,
          5,
          2,
          3,
          12,
          7,
          12,
          7,
          12,
          2,
          4,
          5,
          4,
          9,
          10,
          10,
          5,
          9,
          9,
          3,
          6,
          7,
          10,
          11,
          1,
          7,
          7,
          14,
          8,
          4,
          5,
          8,
          10,
          5,
          10,
          5,
          6,
          2,
          6,
          10,
          5,
          9,
          4,
          9,
          11,
          2,
          2,
          8,
          6,
          1,
          4,
          4,
          5,
          5,
          4,
          6,
          8,
          27,
          1,
          8,
          7,
          4,
          7,
          6,
          11,
          6,
          4,
          9,
          1,
          1,
          8,
          7,
          1,
          7,
          1,
          17,
          3,
          3,
          8,
          2,
          7,
          7,
          5,
          3,
          5,
          3,
          1,
          20,
          5,
          11,
          13,
          5,
          10,
          7,
          3,
          6,
          6,
          14,
          4,
          19,
          10,
          4,
          12,
          6,
          7,
          9,
          7,
          4,
          11,
          8,
          8,
          4,
          13,
          6,
          10,
          19,
          5,
          13,
          2,
          5,
          7,
          15,
          6,
          13,
          8,
          5,
          3,
          6,
          13,
          7,
          7,
          3,
          8,
          6,
          5,
          4,
          7,
          1,
          3,
          8,
          11,
          9,
          1,
          11,
          4,
          7,
          10,
          3,
          15,
          1,
          14,
          1,
          3,
          9,
          7,
          7,
          3,
          18,
          1,
          4,
          15,
          3,
          1,
          8,
          7,
          5,
          9,
          8,
          16,
          6,
          6,
          4,
          4,
          5,
          3,
          9,
          3,
          8,
          3,
          15,
          22,
          5,
          21,
          13,
          7,
          7,
          9,
          2,
          8,
          26,
          6,
          11,
          7,
          10,
          3,
          7,
          6,
          3,
          36,
          15,
          7,
          8,
          9,
          4,
          8,
          2,
          1,
          14,
          11,
          9,
          5,
          6,
          23,
          1,
          2,
          6,
          7,
          17,
          8,
          7,
          9,
          8,
          6,
          5,
          1,
          3,
          6,
          1,
          8,
          2,
          7,
          13,
          2,
          5,
          2,
          2,
          6,
          4,
          1,
          3,
          8,
          9,
          6,
          5,
          7,
          7,
          4,
          8,
          23,
          5,
          13,
          6,
          9,
          6,
          12,
          18,
          6,
          10,
          10,
          6,
          14,
          13,
          2,
          13,
          5,
          9,
          2,
          8,
          2,
          9,
          12,
          5,
          4,
          8,
          8,
          2,
          7,
          18,
          10,
          5,
          6,
          4,
          11,
          9,
          10,
          14,
          5,
          4,
          10,
          14,
          9,
          8,
          23,
          6,
          4,
          1,
          9,
          12,
          1,
          6,
          5,
          3,
          11,
          10,
          3,
          1,
          3,
          18,
          5,
          9,
          9,
          22,
          15,
          8,
          12,
          5,
          5,
          3,
          3,
          4,
          5,
          15,
          4,
          6,
          12,
          1,
          8,
          20,
          1,
          7,
          9,
          10,
          5,
          12,
          1,
          5,
          3,
          4,
          6,
          12,
          2,
          6,
          5,
          12,
          1,
          5,
          7,
          1,
          3,
          4,
          25,
          13,
          8,
          8,
          2,
          9,
          3,
          9,
          8,
          5,
          9,
          9,
          1,
          5,
          3,
          8,
          4,
          3,
          7,
          19,
          16,
          7,
          9,
          4,
          9,
          10,
          3,
          4,
          11,
          6,
          8,
          1,
          13,
          12,
          6,
          1,
          5,
          16,
          11,
          8,
          9,
          12,
          1,
          4,
          1,
          2,
          14,
          6,
          8,
          6,
          6,
          2,
          5,
          4,
          8,
          8,
          1,
          7,
          14,
          12,
          9,
          4,
          3,
          6,
          4,
          2,
          9,
          8,
          1,
          5,
          2,
          6,
          29,
          6,
          1,
          5,
          9,
          7,
          6,
          1,
          3,
          6,
          4,
          6,
          6,
          5,
          3,
          4,
          2,
          22,
          3,
          6,
          7,
          2,
          6,
          18,
          6,
          6,
          4,
          6,
          7,
          13,
          5,
          4,
          9,
          2,
          4,
          14,
          7,
          1,
          18,
          13,
          6,
          14,
          2,
          8,
          8,
          8,
          8,
          4,
          4,
          3,
          13,
          6,
          1,
          7,
          11,
          11,
          4,
          7,
          12,
          8,
          8,
          5,
          10,
          5,
          7,
          5,
          2,
          6,
          14,
          9,
          2,
          1,
          13,
          8,
          20,
          11,
          3,
          9,
          8,
          7,
          9,
          8,
          19,
          3,
          5,
          2,
          6,
          6,
          8,
          5,
          8,
          9,
          12,
          1,
          8,
          11,
          3,
          15,
          8,
          9,
          6,
          7,
          4,
          19,
          6,
          2,
          2,
          7,
          4,
          2,
          22,
          2,
          6,
          1,
          16,
          1,
          7,
          2,
          8,
          6,
          3,
          3,
          12,
          2,
          4,
          22,
          2,
          14,
          11,
          11,
          11,
          10,
          3,
          10,
          9,
          4,
          11,
          6,
          7,
          4,
          11,
          8,
          2,
          8,
          19,
          11,
          8,
          5,
          16,
          7,
          8,
          8,
          13,
          22,
          8,
          7,
          27,
          3,
          4,
          9,
          7,
          11,
          10,
          7,
          6,
          6,
          9,
          2,
          6,
          6,
          4,
          7,
          3,
          15,
          5,
          2,
          7,
          9,
          6,
          6,
          5,
          4,
          8,
          7,
          7,
          7,
          1,
          1,
          12,
          3,
          9,
          1,
          9,
          4,
          2,
          2,
          6,
          13,
          21,
          2,
          14,
          11,
          11,
          7,
          16,
          7,
          4,
          9,
          9,
          10,
          6,
          4,
          1,
          1,
          4,
          6,
          7,
          17,
          3,
          11,
          6,
          8,
          13,
          2,
          7,
          10,
          10,
          3,
          7,
          12,
          2,
          11,
          2,
          4,
          2,
          7,
          14,
          2,
          10,
          10,
          5,
          19,
          5,
          8,
          5,
          5,
          6,
          8,
          12,
          10,
          3,
          9,
          9,
          9,
          6,
          12,
          2,
          7,
          5,
          5,
          8,
          6,
          3,
          10,
          13,
          27,
          18,
          1,
          10,
          7,
          12,
          2,
          8,
          7,
          10,
          9,
          4,
          3,
          3,
          7,
          7,
          11,
          6,
          5,
          5,
          10,
          1,
          5,
          5,
          5,
          3,
          9,
          7,
          1,
          13,
          6,
          7,
          8,
          11,
          6,
          5,
          8,
          5,
          3,
          8,
          11,
          1,
          8,
          3,
          9,
          21,
          7,
          9,
          8,
          10,
          7,
          4,
          12,
          21,
          7,
          5,
          12,
          9,
          2,
          3,
          1,
          1,
          5,
          2,
          17,
          11,
          10,
          3,
          4,
          9,
          9,
          2,
          13,
          9,
          2,
          3,
          9,
          9,
          5,
          5,
          10,
          4,
          6,
          15,
          14,
          18,
          2,
          10,
          6,
          5,
          5,
          3,
          6,
          5,
          17,
          10,
          15,
          2,
          22,
          4,
          6,
          3,
          2,
          6,
          6,
          9,
          5,
          4,
          12,
          6,
          4,
          10,
          11,
          8,
          4,
          1,
          5,
          1,
          6,
          15,
          13,
          5,
          7,
          12,
          15,
          12,
          6,
          1,
          4,
          5,
          10,
          5,
          1,
          9,
          9,
          13,
          22,
          14,
          7,
          4,
          7,
          1,
          4,
          10,
          4,
          8,
          8,
          8,
          8,
          3,
          6,
          10,
          4,
          1,
          5,
          7,
          14,
          3,
          1,
          8,
          12,
          6,
          4,
          11,
          8,
          9,
          6,
          7,
          6,
          15,
          7,
          9,
          3,
          34,
          3,
          8,
          19,
          13,
          4,
          6,
          11,
          1,
          12,
          5,
          3,
          14,
          7,
          7,
          8,
          9,
          1,
          17,
          7,
          6,
          1,
          4,
          9,
          8,
          8,
          9,
          7,
          6,
          7,
          7,
          2,
          5,
          1,
          3,
          8,
          3,
          9,
          7,
          4,
          14,
          6,
          12,
          5,
          9,
          8,
          1,
          3,
          17,
          4,
          1,
          1,
          11,
          3,
          2,
          6,
          3,
          6,
          9,
          8,
          5,
          6,
          6,
          4,
          3,
          7,
          9,
          6,
          7,
          4,
          6,
          3,
          8,
          3,
          3,
          10,
          6,
          5,
          6,
          3,
          10,
          9,
          4,
          9,
          18,
          7,
          13,
          8,
          3,
          5,
          7,
          22,
          7,
          13,
          10,
          5,
          12,
          7,
          11,
          10,
          1,
          15,
          7,
          3,
          5,
          11,
          38,
          7,
          7,
          6,
          9,
          4,
          13,
          3,
          8,
          1,
          2,
          3,
          3,
          4,
          7,
          8,
          11,
          4,
          1,
          1,
          15,
          5,
          20,
          5,
          6,
          10,
          5,
          2,
          12,
          3,
          8,
          4,
          7,
          12,
          8,
          16,
          10,
          3,
          2,
          8,
          5,
          13,
          12,
          14,
          2,
          8,
          4,
          2,
          9,
          13,
          2,
          4,
          1,
          1,
          3,
          6,
          7,
          9,
          6,
          10,
          17,
          15,
          5,
          7,
          1,
          5,
          4,
          4,
          11,
          7,
          1,
          15,
          6,
          12,
          13,
          11,
          2,
          27,
          8,
          8,
          5,
          5,
          5,
          3,
          15,
          5,
          12,
          7,
          9,
          11,
          8,
          12,
          7,
          4,
          4,
          8,
          4,
          4,
          7,
          5,
          4,
          4,
          7,
          21,
          7,
          4,
          5,
          1,
          3,
          6,
          11,
          3,
          3,
          1,
          5,
          3,
          6,
          8,
          11,
          5,
          8,
          6,
          11,
          4,
          6,
          16,
          3,
          6,
          14,
          15,
          18,
          2,
          6,
          8,
          8,
          1,
          5,
          10,
          33,
          10,
          1,
          2,
          33,
          6,
          10,
          6,
          10,
          1,
          7,
          8,
          8,
          26,
          10,
          9,
          4,
          6,
          6,
          5,
          7,
          9,
          4,
          8,
          5,
          6,
          5,
          2,
          17,
          5,
          12,
          6,
          7,
          3,
          5,
          8,
          8,
          17,
          9,
          2,
          9,
          16,
          6,
          4,
          7,
          15,
          9,
          5,
          6,
          7,
          5,
          14,
          6,
          5,
          27,
          13,
          11,
          10,
          13,
          20,
          2,
          12,
          5,
          8,
          6,
          7,
          1,
          21,
          6,
          1,
          7,
          3,
          5,
          9,
          2,
          4,
          9,
          8,
          16,
          6,
          6,
          6,
          5,
          1,
          6,
          10,
          21,
          6,
          6,
          5,
          11,
          3,
          8,
          5,
          7,
          3,
          1,
          17,
          5,
          4,
          3,
          6,
          5,
          8,
          6,
          8,
          9,
          6,
          3,
          17,
          13,
          5,
          17,
          15,
          9,
          1,
          12,
          4,
          6,
          11,
          5,
          18,
          8,
          4,
          7,
          1,
          7,
          8,
          5,
          6,
          3,
          6,
          8,
          2,
          6,
          11,
          8,
          12,
          9,
          4,
          6,
          2,
          4,
          5,
          6,
          1,
          4,
          4,
          2,
          7,
          5,
          4,
          10,
          8,
          5,
          14,
          13,
          4,
          4,
          8,
          9,
          11,
          4,
          12,
          7,
          13,
          5,
          5,
          8,
          6,
          5,
          2,
          5,
          4,
          2,
          6,
          2,
          13,
          7,
          12,
          1,
          6,
          7,
          9,
          7,
          6,
          3,
          10,
          5,
          10,
          10,
          21,
          2,
          7,
          4,
          4,
          2,
          5,
          1,
          1,
          7,
          9,
          18,
          5,
          4,
          11,
          7,
          6,
          12,
          19,
          17,
          6,
          1,
          5,
          7,
          2,
          8,
          5,
          1,
          1,
          22,
          7,
          14,
          5,
          5,
          2,
          7,
          6,
          16,
          6,
          10,
          23,
          8,
          9,
          2,
          11,
          9,
          19,
          10,
          9,
          3,
          22,
          7,
          1,
          9,
          4,
          5,
          15,
          4,
          6,
          7,
          7,
          12,
          5,
          2,
          23,
          15,
          6,
          10,
          13,
          10,
          8,
          7,
          12,
          7,
          2,
          2,
          10,
          6,
          13,
          6,
          13,
          4,
          4,
          4,
          2,
          10,
          11,
          10,
          10,
          9,
          1,
          2,
          8,
          8,
          2,
          5,
          13,
          9,
          8,
          7,
          7,
          7,
          5,
          4,
          18,
          12,
          3,
          23,
          3,
          5,
          8,
          5,
          4,
          8,
          12,
          2,
          6,
          23,
          10,
          12,
          8,
          8,
          6,
          1,
          2,
          6,
          7,
          7,
          10,
          6,
          2,
          1,
          5,
          13,
          10,
          9,
          6,
          13,
          4,
          2,
          16,
          10,
          5,
          7,
          8,
          3,
          5,
          9,
          6,
          7,
          6,
          12,
          15,
          8,
          1,
          7,
          9,
          5,
          12,
          9,
          7,
          3,
          21,
          4,
          12,
          12,
          7,
          1,
          10,
          10,
          9,
          4,
          13,
          6,
          13,
          5,
          1,
          6,
          5,
          11,
          2,
          5,
          8,
          7,
          9,
          8,
          6,
          6,
          1,
          27,
          6,
          14,
          15,
          5,
          9,
          6,
          6,
          10,
          8,
          7,
          18,
          10,
          1,
          4,
          17,
          15,
          14,
          3,
          9,
          21,
          3,
          10,
          1,
          8,
          9,
          23,
          12,
          4,
          10,
          14,
          12,
          12,
          5,
          9,
          15,
          14,
          10,
          11,
          6,
          5,
          3,
          2,
          4,
          11,
          4,
          2,
          11,
          8,
          24,
          8,
          2,
          9,
          4,
          3,
          10,
          20,
          7,
          4,
          12,
          3,
          15,
          5,
          5,
          12,
          10,
          19,
          10,
          17,
          4,
          7,
          12,
          4,
          19,
          17,
          7,
          5,
          16,
          7,
          6,
          2,
          5,
          9,
          7,
          5,
          12,
          9,
          9,
          12,
          6,
          5,
          10,
          3,
          17,
          7,
          5,
          6,
          7,
          10,
          4,
          5,
          10,
          1,
          4,
          17,
          16,
          12,
          9,
          7,
          6,
          8,
          11,
          17,
          9,
          9,
          8,
          4,
          11,
          5,
          6,
          8,
          10,
          10,
          7,
          7,
          13,
          9,
          7,
          12,
          1,
          9,
          8,
          4,
          1,
          6,
          18,
          7,
          10,
          9,
          8,
          7,
          2,
          27,
          5,
          10,
          4,
          7,
          1,
          13,
          12,
          2,
          15,
          6,
          7,
          6,
          3,
          10,
          3,
          4,
          11,
          18,
          6,
          13,
          10,
          2,
          4,
          5,
          22,
          9,
          6,
          2,
          8,
          11,
          6,
          2,
          4,
          6,
          6,
          6,
          13,
          4,
          1,
          5,
          4,
          3,
          8,
          8,
          14,
          6,
          8,
          6,
          5,
          12,
          13,
          8,
          13,
          5,
          19,
          3,
          4,
          9,
          10,
          6,
          3,
          3,
          2,
          10,
          1,
          7,
          17,
          11,
          3,
          1,
          7,
          2,
          10,
          7,
          10,
          21,
          17,
          6,
          5,
          9,
          10,
          7,
          1,
          2,
          8,
          6,
          1,
          10,
          3,
          3,
          4,
          3,
          8,
          11,
          8,
          11,
          3,
          14,
          6,
          10,
          1,
          13,
          14,
          7,
          6,
          1,
          1,
          7,
          10,
          5,
          13,
          7,
          7,
          5,
          8,
          2,
          5,
          4,
          8,
          9,
          6,
          7,
          10,
          5,
          5,
          12,
          6,
          12,
          2,
          14,
          15,
          14,
          3,
          9,
          12,
          3,
          7,
          7,
          12,
          7,
          9,
          2,
          2,
          25,
          7,
          7,
          7,
          6,
          2,
          4,
          6,
          8,
          5,
          9,
          1,
          4,
          8,
          8,
          15,
          7,
          12,
          3,
          2,
          1,
          2,
          9,
          10,
          12,
          13,
          5,
          13,
          21,
          27,
          21,
          12,
          14,
          1,
          5,
          2,
          4,
          4,
          1,
          12,
          17,
          2,
          21,
          18,
          1,
          11,
          6,
          8,
          8,
          12,
          4,
          1,
          8,
          7,
          7,
          10,
          6,
          15,
          1,
          5,
          10,
          8,
          6,
          4,
          3,
          28,
          7,
          6,
          8,
          8,
          10,
          14,
          4,
          14,
          3,
          16,
          16,
          14,
          4,
          6,
          5,
          7,
          4,
          1,
          5,
          8,
          9,
          10,
          7,
          8,
          8,
          1,
          24,
          5,
          12,
          8,
          2,
          3,
          10,
          6,
          3,
          6,
          5,
          6,
          10,
          8,
          6,
          5,
          8,
          10,
          11,
          4,
          10,
          11,
          2,
          7,
          7,
          4,
          8,
          6,
          13,
          16,
          6,
          8,
          14,
          2,
          3,
          7,
          1,
          12,
          8,
          7,
          3,
          10,
          11,
          9,
          3,
          5,
          2,
          4,
          1,
          12,
          7,
          4,
          3,
          7,
          8,
          8,
          9,
          4,
          16,
          5,
          4,
          7,
          1,
          1,
          4,
          7,
          3,
          8,
          3,
          10,
          3,
          10,
          5,
          10,
          6,
          2,
          13,
          6,
          12,
          10,
          2,
          4,
          15,
          3,
          5,
          6,
          17,
          4,
          5,
          8,
          6,
          4,
          6,
          7,
          11,
          11,
          5,
          6,
          5,
          2,
          7,
          1,
          11,
          13,
          6,
          3,
          10,
          5,
          4,
          3,
          8,
          6,
          7,
          8,
          9,
          8,
          8,
          9,
          9,
          32,
          8,
          4,
          3,
          7,
          10,
          14,
          11,
          15,
          7,
          9,
          3,
          11,
          3,
          3,
          14,
          2,
          9,
          7,
          14,
          10,
          8,
          15,
          4,
          4,
          6,
          15,
          5,
          9,
          17,
          8,
          15,
          9,
          10,
          2,
          3,
          9,
          1,
          9,
          6,
          7,
          7,
          7,
          7,
          7,
          6,
          7,
          7,
          5,
          11,
          3,
          8,
          6,
          5,
          5,
          8,
          7,
          1,
          4,
          7,
          9,
          9,
          14,
          6,
          10,
          14,
          7,
          4,
          1,
          9,
          13,
          13,
          2,
          7,
          15,
          6,
          8,
          16,
          7,
          3,
          6,
          1,
          4,
          9,
          4,
          5,
          10,
          1,
          4,
          7,
          8,
          2,
          6,
          1,
          6,
          12,
          10,
          5,
          19,
          5,
          5,
          19,
          13,
          16,
          15,
          2,
          11,
          12,
          6,
          5,
          10,
          6,
          5,
          4,
          8,
          2,
          16,
          6,
          5,
          11,
          9,
          2,
          1,
          10,
          5,
          2,
          2,
          5,
          15,
          6,
          18,
          8,
          27,
          11,
          9,
          18,
          2,
          4,
          5,
          1,
          5,
          7,
          4,
          9,
          6,
          6,
          1,
          23,
          5,
          13,
          20,
          1,
          10,
          1,
          5,
          9,
          12,
          6,
          7,
          17,
          4,
          3,
          3,
          9,
          7,
          5,
          5,
          3,
          4,
          10,
          8,
          20,
          7,
          15,
          2,
          5,
          6,
          4,
          5,
          12,
          5,
          9,
          7,
          7,
          16,
          12,
          8,
          8,
          4,
          3,
          7,
          7,
          19,
          8,
          5,
          6,
          7,
          16,
          9,
          11,
          4,
          4,
          15,
          10,
          3,
          10,
          3,
          5,
          6,
          6,
          4,
          13,
          6,
          3,
          9,
          11,
          4,
          18,
          11,
          8,
          1,
          10,
          4,
          4,
          22,
          4,
          4,
          13,
          1,
          1,
          12,
          10,
          17,
          9,
          10,
          19,
          2,
          7,
          5,
          9,
          9,
          2,
          8,
          11,
          7,
          10,
          18,
          5,
          28,
          18,
          4,
          5,
          8,
          8,
          10,
          31,
          5,
          4,
          2,
          9,
          4,
          3,
          10,
          4,
          9,
          17,
          3,
          14,
          4,
          15,
          9,
          5,
          8,
          3,
          4,
          16,
          13,
          6,
          2,
          6,
          7,
          12,
          1,
          5,
          8,
          3,
          4,
          2,
          12,
          1,
          6,
          9,
          12,
          9,
          10,
          6,
          8,
          14,
          12,
          2,
          1,
          7,
          6,
          15,
          3,
          4,
          6,
          1,
          7,
          13,
          3,
          7,
          1,
          5,
          1,
          4,
          6,
          17,
          7,
          6,
          9,
          5,
          4,
          18,
          6,
          5,
          3,
          3,
          10,
          4,
          5,
          2,
          1,
          11,
          10,
          10,
          16,
          18,
          5,
          7,
          13,
          1,
          7,
          3,
          13,
          15,
          8,
          14,
          9,
          14,
          5,
          1,
          10,
          10,
          7,
          7,
          13,
          4,
          7,
          3,
          10,
          8,
          5,
          7,
          10,
          6,
          10,
          3,
          8,
          3,
          1,
          12,
          5,
          11,
          9,
          5,
          8,
          11,
          11,
          10,
          10,
          17,
          3,
          6,
          4,
          8,
          8,
          5,
          6,
          8,
          35,
          23,
          12,
          12,
          11,
          10,
          13,
          5,
          6,
          7,
          8,
          1,
          6,
          4,
          12,
          1,
          2,
          15,
          7,
          4,
          10,
          2,
          9,
          7,
          2,
          5,
          3,
          11,
          4,
          9,
          2,
          5,
          19,
          4,
          3,
          3,
          11,
          2,
          5,
          6,
          5,
          5,
          3,
          13,
          4,
          11,
          12,
          2,
          2,
          1,
          3,
          10,
          8,
          3,
          5,
          7,
          6,
          19,
          2,
          1,
          10,
          13,
          7,
          6,
          8,
          6,
          10,
          7,
          7,
          6,
          9,
          4,
          4,
          1,
          7,
          26,
          5,
          12,
          6,
          4,
          18,
          2,
          7,
          11,
          4,
          12,
          7,
          7,
          11,
          8,
          8,
          10,
          10,
          5,
          5,
          7,
          6,
          5,
          5,
          6,
          8,
          10,
          10,
          9,
          4,
          11,
          2,
          8,
          3,
          8,
          4,
          6,
          3,
          2,
          6,
          4,
          7,
          1,
          4,
          7,
          18,
          2,
          6,
          4,
          3,
          9,
          9,
          11,
          7,
          10,
          4,
          2,
          2,
          10,
          3,
          4,
          4,
          3,
          15,
          9,
          9,
          17,
          17,
          4,
          1,
          9,
          3,
          11,
          5,
          2,
          3,
          9,
          1,
          6,
          1,
          9,
          14,
          13,
          5,
          12,
          2,
          8,
          2,
          6,
          3,
          4,
          15,
          5,
          1,
          5,
          7,
          1,
          1,
          9,
          4,
          6,
          6,
          6,
          7,
          4,
          13,
          3,
          4,
          7,
          6,
          15,
          6,
          9,
          9,
          3,
          4,
          5,
          10,
          1,
          5,
          5,
          10,
          13,
          16,
          9,
          8,
          5,
          8,
          4,
          4,
          2,
          7,
          4,
          7,
          2,
          2,
          4,
          13,
          4,
          4,
          2,
          6,
          2,
          2,
          2,
          3,
          2,
          5,
          14,
          10,
          11,
          7,
          1,
          7,
          7,
          9,
          8,
          8,
          10,
          9,
          5,
          10,
          12,
          3,
          3,
          2,
          1,
          6,
          26,
          1,
          11,
          10,
          4,
          3,
          5,
          7,
          22,
          6,
          5,
          8,
          2,
          15,
          2,
          5,
          18,
          1,
          3,
          8,
          3,
          11,
          13,
          8,
          2,
          8,
          7,
          3,
          1,
          9,
          8,
          1,
          5,
          8,
          8,
          12,
          2,
          10,
          4,
          3,
          4,
          6,
          3,
          1,
          4,
          9,
          9,
          8,
          4,
          8,
          15,
          1,
          3,
          7,
          5,
          5,
          2,
          7,
          4,
          7,
          5,
          5,
          2,
          6,
          3,
          5,
          9,
          7,
          6,
          3,
          1,
          8,
          1,
          9,
          5,
          4,
          14,
          6,
          12,
          10,
          2,
          12,
          6,
          32,
          4,
          8,
          5,
          9,
          6,
          1,
          1,
          8,
          6,
          4,
          6,
          5,
          5,
          15,
          26,
          19,
          4,
          5,
          8,
          4,
          12,
          9,
          6,
          7,
          3,
          12,
          1,
          6,
          15,
          2,
          9,
          10,
          6,
          4,
          4,
          11,
          16,
          16,
          6,
          3,
          9,
          2,
          2,
          7,
          4,
          1,
          3,
          3,
          11,
          9,
          6,
          2,
          9,
          4,
          8,
          14,
          7,
          6,
          9,
          15,
          13,
          12,
          4,
          2,
          9,
          4,
          9,
          3,
          5,
          1,
          6,
          7,
          8,
          3,
          4,
          7,
          18,
          14,
          2,
          6,
          1,
          4,
          17,
          1,
          5,
          1,
          2,
          6,
          8,
          27,
          9,
          1,
          9,
          4,
          8,
          7,
          4,
          6,
          2,
          5,
          8,
          6,
          7,
          2,
          18,
          1,
          14,
          8,
          7,
          13,
          4,
          7,
          2,
          4,
          5,
          5,
          20,
          6,
          5,
          4,
          7,
          22,
          2,
          4,
          3,
          14,
          7,
          8,
          6,
          4,
          15,
          5,
          10,
          10,
          3,
          6,
          4,
          19,
          9,
          1,
          2,
          22,
          8,
          10,
          6,
          8,
          4,
          7,
          4,
          4,
          16,
          4,
          9,
          3,
          3,
          2,
          7,
          5,
          5,
          6,
          4,
          4,
          1,
          12,
          8,
          6,
          1,
          12,
          4,
          1,
          4,
          6,
          5,
          4,
          12,
          8,
          2,
          13,
          6,
          14,
          3,
          3,
          11,
          6,
          5,
          5,
          9,
          7,
          1,
          4,
          6,
          4,
          12,
          2,
          17,
          14,
          8,
          8,
          17,
          1,
          7,
          3,
          7,
          9,
          11,
          5,
          17,
          5,
          14,
          1,
          24,
          12,
          8,
          4,
          6,
          1,
          3,
          9,
          5,
          5,
          13,
          1,
          3,
          1,
          11,
          5,
          25,
          2,
          3,
          7,
          2,
          6,
          4,
          10,
          2,
          3,
          7,
          4,
          3,
          4,
          24,
          2,
          4,
          14,
          19,
          4,
          33,
          14,
          7,
          16,
          5,
          1,
          3,
          4,
          6,
          4,
          1,
          5,
          10,
          11,
          7,
          10,
          11,
          12,
          2,
          4,
          6,
          5,
          1,
          7,
          22,
          3,
          4,
          12,
          7,
          15,
          8,
          13,
          6,
          16,
          8,
          9,
          5,
          5,
          7,
          7,
          24,
          4,
          1,
          7,
          29,
          9,
          4,
          4,
          9,
          11,
          2,
          5,
          3,
          5,
          9,
          3,
          2,
          6,
          1,
          11,
          6,
          9,
          1,
          12,
          3,
          6,
          6,
          3,
          7,
          8,
          6,
          2,
          9,
          3,
          14,
          3,
          10,
          9,
          13,
          9,
          15,
          3,
          6,
          9,
          3,
          8,
          3,
          16,
          10,
          7,
          5,
          16,
          12,
          6,
          3,
          4,
          3,
          9,
          8,
          6,
          5,
          1,
          2,
          11,
          1,
          4,
          4,
          1,
          2,
          8,
          2,
          5,
          7,
          14,
          7,
          1,
          4,
          10,
          12,
          9,
          9,
          3,
          15,
          5,
          16,
          4,
          12,
          2,
          8,
          3,
          1,
          3,
          5,
          9,
          1,
          7,
          12,
          8,
          1,
          16,
          12,
          5,
          3,
          2,
          3,
          4,
          9,
          8,
          7,
          8,
          6,
          1,
          3,
          4,
          5,
          7,
          7,
          3,
          11,
          9,
          4,
          12,
          8,
          6,
          17,
          11,
          6,
          16,
          13,
          7,
          5,
          9,
          17,
          2,
          9,
          9,
          6,
          5,
          10,
          7,
          2,
          11,
          1,
          5,
          9,
          9,
          15,
          4,
          13,
          4,
          10,
          2,
          7,
          17,
          5,
          6,
          5,
          6,
          7,
          6,
          3,
          10,
          9,
          5,
          7,
          1,
          2,
          2,
          12,
          8,
          3,
          3,
          10,
          3,
          12,
          18,
          8,
          4,
          2,
          7,
          19,
          25,
          3,
          7,
          1,
          2,
          8,
          2,
          10,
          2,
          14,
          7,
          3,
          8,
          11,
          2,
          6,
          10,
          9,
          5,
          19,
          4,
          4,
          5,
          16,
          11,
          27,
          3,
          4,
          3,
          17,
          2,
          8,
          12,
          16,
          7,
          19,
          12,
          2,
          10,
          5,
          2,
          8,
          10,
          10,
          6,
          2,
          9,
          7,
          9,
          5,
          11,
          6,
          4,
          10,
          4,
          10,
          11,
          7,
          11,
          2,
          4,
          1,
          4,
          2,
          4,
          7,
          3,
          6,
          4,
          4,
          5,
          4,
          6,
          19,
          13,
          4,
          5,
          5,
          15,
          4,
          2,
          12,
          9,
          5,
          5,
          10,
          5,
          10,
          3,
          10,
          11,
          4,
          3,
          3,
          6,
          8,
          3,
          7,
          8,
          9,
          4,
          3,
          4,
          8,
          6,
          7,
          6,
          7,
          16,
          7,
          1,
          12,
          4,
          5,
          3,
          3,
          19,
          11,
          1,
          9,
          6,
          1,
          3,
          3,
          5,
          4,
          1,
          3,
          2,
          25,
          2,
          5,
          5,
          6,
          1,
          9,
          10,
          3,
          2,
          3,
          5,
          2,
          8,
          11,
          5,
          5,
          9,
          10,
          7,
          3,
          5,
          12,
          10,
          8,
          9,
          4,
          4,
          12,
          10,
          4,
          2,
          6,
          18,
          17,
          4,
          18,
          2,
          7,
          15,
          10,
          4,
          7,
          8,
          3,
          7,
          4,
          6,
          4,
          10,
          5,
          9,
          2,
          3,
          2,
          2,
          6,
          2,
          1,
          16,
          8,
          7,
          3,
          8,
          6,
          5,
          1,
          21,
          1,
          4,
          18,
          6,
          7,
          5,
          6,
          4,
          6,
          10,
          9,
          7,
          1,
          1,
          15,
          1,
          8,
          2,
          3,
          1,
          3,
          3,
          8,
          2,
          1,
          1,
          5,
          9,
          17,
          7,
          6,
          9,
          10,
          8,
          16,
          7,
          6,
          4,
          4,
          8,
          8,
          10,
          13,
          11,
          11,
          6,
          9,
          5,
          19,
          9,
          2,
          3,
          7,
          9,
          7,
          10,
          10,
          5,
          6,
          7,
          11,
          19,
          2,
          8,
          4,
          11,
          2,
          18,
          4,
          1,
          2,
          1,
          2,
          5,
          5,
          11,
          17,
          3,
          4,
          2,
          2,
          14,
          9,
          1,
          9,
          5,
          7,
          1,
          7,
          11,
          28,
          11,
          14,
          10,
          13,
          9,
          9,
          12,
          5,
          8,
          9,
          3,
          8,
          12,
          5,
          11,
          29,
          1,
          9,
          18,
          16,
          9,
          16,
          5,
          5,
          8,
          1,
          6,
          12,
          6,
          2,
          11,
          2,
          6,
          9,
          2,
          9,
          3,
          9,
          1,
          17,
          7,
          2,
          16,
          7,
          10,
          6,
          1,
          4,
          1,
          4,
          8,
          3,
          2,
          2,
          6,
          2,
          3,
          1,
          10,
          7,
          5,
          2,
          2,
          14,
          11,
          4,
          5,
          17,
          16,
          7,
          1,
          9,
          5,
          6,
          2,
          7,
          1,
          4,
          6,
          7,
          8,
          7,
          2,
          7,
          5,
          3,
          4,
          14,
          3,
          9,
          5,
          2,
          1,
          4,
          11,
          1,
          1,
          2,
          2,
          3,
          2,
          6,
          10,
          2,
          3,
          9,
          4,
          4,
          5,
          10,
          4,
          10,
          11,
          10,
          9,
          2,
          1,
          8,
          9,
          5,
          2,
          1,
          3,
          9,
          4,
          10,
          9,
          1,
          6,
          12,
          1,
          7,
          5,
          10,
          4,
          7,
          5,
          5,
          10,
          11,
          12,
          2,
          7,
          7,
          1,
          4,
          1,
          7,
          6,
          4,
          4,
          7,
          8,
          7,
          9,
          20,
          12,
          6,
          3,
          5,
          10,
          6,
          6,
          6,
          4,
          11,
          10,
          13,
          3,
          3,
          6,
          10,
          5,
          3,
          4,
          4,
          6,
          3,
          11,
          10,
          6,
          7,
          21,
          14,
          9,
          13,
          6,
          2,
          3,
          10,
          10,
          7,
          11,
          1,
          11,
          16,
          17,
          3,
          10,
          5,
          8,
          4,
          2,
          3,
          1,
          9,
          1,
          5,
          5,
          11,
          13,
          6,
          3,
          7,
          7,
          9,
          8,
          11,
          7,
          6,
          2,
          2,
          4,
          19,
          3,
          2,
          14,
          4,
          5,
          4,
          1,
          1,
          6,
          22,
          1,
          3,
          3,
          10,
          12,
          19,
          15,
          13,
          14,
          13,
          7,
          4,
          5,
          3,
          2,
          2,
          3,
          5,
          8,
          1,
          6,
          4,
          1,
          12,
          18,
          7,
          20,
          17,
          7,
          11,
          2,
          11,
          4,
          4,
          5,
          3,
          4,
          9,
          5,
          4,
          5,
          6,
          6,
          3,
          2,
          1,
          4,
          3,
          1,
          9,
          4,
          13,
          4,
          12,
          11,
          3,
          11,
          6,
          12,
          10,
          5,
          3,
          2,
          9,
          7,
          2,
          5,
          7,
          3,
          8,
          4,
          8,
          8,
          17,
          5,
          4,
          13,
          5,
          3,
          8,
          6,
          9,
          9,
          6,
          8,
          5,
          5,
          24,
          10,
          7,
          3,
          6,
          1,
          11,
          9,
          2,
          8,
          9,
          7,
          12,
          10,
          12,
          4,
          26,
          4,
          9,
          4,
          12,
          6,
          7,
          17,
          6,
          2,
          17,
          5,
          3,
          2,
          12,
          13,
          9,
          7,
          11,
          2,
          11,
          9,
          13,
          2,
          9,
          1,
          1,
          10,
          3,
          7,
          13,
          4,
          12,
          4,
          3,
          9,
          6,
          9,
          2,
          8,
          11,
          19,
          7,
          10,
          4,
          18,
          13,
          2,
          5,
          8,
          13,
          4,
          2,
          3,
          6,
          3,
          8,
          5,
          16,
          8,
          9,
          8,
          6,
          3,
          6,
          11,
          9,
          5,
          5,
          3,
          12,
          8,
          5,
          7,
          14,
          17,
          10,
          7,
          4,
          1,
          14,
          4,
          14,
          15,
          8,
          15,
          6,
          14,
          8,
          11,
          6,
          7,
          7,
          7,
          8,
          5,
          10,
          8,
          7,
          12,
          11,
          7,
          14,
          5,
          5,
          11,
          6,
          7,
          7,
          3,
          4,
          5,
          10,
          2,
          7,
          2,
          6,
          8,
          16,
          6,
          2,
          4,
          10,
          1,
          5,
          3,
          7,
          1,
          3,
          8,
          11,
          2,
          5,
          10,
          5,
          18,
          11,
          11,
          2,
          9,
          11,
          11,
          19,
          6,
          2,
          11,
          7,
          9,
          8,
          1,
          5,
          4,
          27,
          7,
          7,
          8,
          14,
          17,
          4,
          1,
          13,
          6,
          5,
          2,
          9,
          4,
          5,
          3,
          7,
          11,
          1,
          15,
          4,
          14,
          12,
          11,
          5,
          13,
          1,
          17,
          7,
          10,
          5,
          3,
          4,
          10,
          1,
          5,
          6,
          1,
          14,
          7,
          11,
          7,
          2,
          2,
          8,
          4,
          10,
          23,
          7,
          1,
          3,
          1,
          19,
          3,
          6,
          18,
          3,
          13,
          4,
          6,
          1,
          13,
          5,
          5,
          8,
          8,
          10,
          5,
          10,
          5,
          3,
          4,
          2,
          10,
          18,
          8,
          8,
          7,
          6,
          6,
          2,
          6,
          8,
          5,
          8,
          22,
          7,
          8,
          7,
          5,
          13,
          7,
          3,
          1,
          12,
          5,
          4,
          7,
          11,
          6,
          9,
          18,
          9,
          14,
          17,
          14,
          5,
          7,
          1,
          1,
          12,
          2,
          5,
          9,
          1,
          4,
          3,
          2,
          2,
          7,
          19,
          6,
          3,
          4,
          11,
          4,
          3,
          7,
          4,
          4,
          12,
          10,
          8,
          10,
          11,
          2,
          6,
          7,
          6,
          18,
          3,
          4,
          7,
          11,
          10,
          4,
          2,
          5,
          1,
          2,
          2,
          8,
          4,
          2,
          5,
          9,
          4,
          4,
          2,
          5,
          3,
          7,
          3,
          5,
          16,
          4,
          1,
          9,
          7,
          9,
          11,
          4,
          1,
          11,
          9,
          20,
          14,
          8,
          7,
          6,
          4,
          13,
          11,
          2,
          7,
          12,
          1,
          3,
          5,
          8,
          11,
          13,
          8,
          9,
          2,
          8,
          9,
          14,
          3,
          11,
          10,
          9,
          4,
          2,
          6,
          4,
          5,
          19,
          3,
          6,
          3,
          1,
          1,
          3,
          2,
          15,
          4,
          4,
          6,
          2,
          11,
          11,
          11,
          6,
          4,
          7,
          13,
          4,
          8,
          8,
          4,
          6,
          6,
          7,
          3,
          1,
          13,
          9,
          4,
          14,
          11,
          1,
          5,
          3,
          17,
          3,
          5,
          9,
          4,
          7,
          10,
          4,
          4,
          8,
          8,
          6,
          7,
          3,
          4,
          7,
          3,
          9,
          5,
          8,
          6,
          6,
          4,
          5,
          8,
          12,
          8,
          8,
          4,
          5,
          8,
          9,
          7,
          2,
          25,
          5,
          11,
          4,
          15,
          10,
          15,
          2,
          8,
          4,
          10,
          3,
          3,
          4,
          6,
          2,
          10,
          8,
          2,
          7,
          28,
          15,
          11,
          12,
          8,
          7,
          2,
          10,
          11,
          11,
          8,
          13,
          5,
          4,
          18,
          11,
          2,
          7,
          1,
          6,
          9,
          10,
          5,
          8,
          3,
          9,
          9,
          16,
          7,
          7,
          3,
          2,
          13,
          6,
          6,
          15,
          12,
          11,
          7,
          9,
          5,
          3,
          3,
          15,
          2,
          4,
          3,
          4,
          9,
          1,
          12,
          1,
          10,
          9,
          5,
          8,
          7,
          18,
          1,
          3,
          2,
          5,
          1,
          9,
          9,
          1,
          8,
          9,
          8,
          2,
          9,
          17,
          8,
          8,
          4,
          2,
          7,
          6,
          7,
          27,
          14,
          6,
          6,
          12,
          1,
          1,
          2,
          6,
          2,
          6,
          8,
          3,
          7,
          8,
          1,
          11,
          10,
          1,
          2,
          6,
          6,
          10,
          3,
          1,
          19,
          15,
          14,
          5,
          11,
          11,
          9,
          20,
          2,
          2,
          1,
          6,
          8,
          19,
          4,
          3,
          6,
          10,
          14,
          8,
          8,
          25,
          13,
          14,
          14,
          15,
          6,
          5,
          7,
          12,
          17,
          8,
          9,
          7,
          3,
          12,
          9,
          9,
          6,
          2,
          11,
          11,
          3,
          5,
          6,
          8,
          3,
          2,
          19,
          10,
          2,
          16,
          2,
          9,
          4,
          10,
          1,
          1,
          10,
          19,
          11,
          7,
          2,
          7,
          11,
          8,
          14,
          13,
          4,
          4,
          14,
          9,
          7,
          2,
          3,
          10,
          8,
          3,
          4,
          6,
          7,
          2,
          2,
          4,
          1,
          7,
          1,
          3,
          9,
          1,
          2,
          1,
          2,
          10,
          8,
          10,
          8,
          5,
          1,
          4,
          4,
          5,
          26,
          12,
          8,
          19,
          6,
          4,
          8,
          1,
          7,
          1,
          13,
          7,
          12,
          2,
          8,
          1,
          17,
          7,
          1,
          12,
          17,
          5,
          5,
          13,
          19,
          8,
          13,
          11,
          1,
          13,
          6,
          7,
          14,
          7,
          6,
          7,
          3,
          8,
          7,
          6,
          11,
          13,
          3,
          1,
          6,
          7,
          4,
          7,
          2,
          9,
          4,
          6,
          3,
          5,
          7,
          5,
          11,
          16,
          15,
          9,
          10,
          2,
          7,
          11,
          1,
          14,
          1,
          8,
          16,
          7,
          12,
          11,
          3,
          16,
          8,
          2,
          2,
          3,
          12,
          8,
          1,
          10,
          7,
          4,
          3,
          4,
          2,
          1,
          16,
          8,
          3,
          1,
          10,
          5,
          6,
          13,
          5,
          5,
          9,
          4,
          6,
          4,
          9,
          13,
          3,
          7,
          4,
          6,
          5,
          4,
          1,
          14,
          2,
          18,
          19,
          4,
          4,
          7,
          2,
          10,
          8,
          11,
          6,
          4,
          4,
          7,
          3,
          6,
          4,
          8,
          11,
          9,
          18,
          8,
          7,
          3,
          8,
          6,
          18,
          1,
          14,
          2,
          4,
          6,
          5,
          5,
          5,
          3,
          3,
          12,
          12,
          1,
          2,
          1,
          5,
          6,
          2,
          10,
          6,
          5,
          6,
          8,
          18,
          6,
          16,
          3,
          10,
          13,
          9,
          3,
          6,
          6,
          12,
          18,
          13,
          3,
          10,
          10,
          10,
          1,
          2,
          12,
          14,
          1,
          14,
          9,
          15,
          2,
          8,
          17,
          8,
          7,
          6,
          1,
          7,
          14,
          1,
          3,
          3,
          1,
          17,
          6,
          9,
          1,
          1,
          19,
          5,
          11,
          7,
          8,
          4,
          11,
          11,
          16,
          1,
          11,
          8,
          30,
          8,
          1,
          7,
          2,
          18,
          6,
          8,
          9,
          8,
          6,
          10,
          8,
          5,
          3,
          4,
          22,
          10,
          3,
          5,
          11,
          9,
          9,
          4,
          7,
          21,
          8,
          9,
          6,
          35,
          2,
          1,
          14,
          1,
          4,
          4,
          9,
          5,
          4,
          6,
          5,
          8,
          4,
          17,
          8,
          5,
          21,
          10,
          7,
          8,
          8,
          4,
          14,
          7,
          3,
          16,
          11,
          15,
          8,
          19,
          8,
          2,
          7,
          5,
          11,
          5,
          4,
          4,
          3,
          8,
          5,
          1,
          6,
          6,
          2,
          8,
          4,
          5,
          6,
          10,
          5,
          1,
          13,
          13,
          11,
          3,
          6,
          17,
          5,
          7,
          18,
          9,
          23,
          11,
          10,
          5,
          5,
          6,
          4,
          8,
          14,
          8,
          3,
          14,
          6,
          13,
          15,
          15,
          1,
          10,
          15,
          4,
          6,
          6,
          1,
          16,
          4,
          9,
          12,
          5,
          6,
          9,
          7,
          7,
          4,
          7,
          3,
          9,
          10,
          6,
          15,
          14,
          5,
          9,
          6,
          5,
          3,
          3,
          6,
          16,
          20,
          4,
          8,
          7,
          9,
          8,
          3,
          8,
          4,
          12,
          2,
          8,
          7,
          1,
          2,
          9,
          4,
          19,
          7,
          12,
          4,
          3,
          2,
          13,
          3,
          13,
          6,
          11,
          13,
          10,
          7,
          9,
          7,
          4,
          8,
          13,
          5,
          5,
          11,
          10,
          4,
          4,
          10,
          1,
          8,
          6,
          5,
          7,
          6,
          14,
          2,
          20,
          10,
          8,
          5,
          10,
          8,
          6,
          10,
          2,
          8,
          7,
          17,
          8,
          22,
          15,
          10,
          9,
          8,
          8,
          6,
          7,
          6,
          2,
          5,
          2,
          13,
          2,
          3,
          9,
          3,
          11,
          8,
          6,
          4,
          15,
          1,
          6,
          4,
          5,
          3,
          6,
          14,
          2,
          6,
          12,
          8,
          1,
          5,
          4,
          6,
          3,
          9,
          5,
          11,
          9,
          2,
          1,
          1,
          1,
          5,
          7,
          10,
          8,
          13,
          11,
          19,
          6,
          8,
          13,
          13,
          4,
          8,
          10,
          6,
          3,
          13,
          8,
          5,
          4,
          5,
          3,
          2,
          4,
          4,
          9,
          13,
          4,
          7,
          5,
          4,
          11,
          4,
          1,
          12,
          9,
          5,
          7,
          7,
          15,
          5,
          10,
          7,
          2,
          10,
          6,
          13,
          8,
          1,
          13,
          5,
          12,
          3,
          9,
          3,
          4,
          4,
          6,
          3,
          9,
          11,
          5,
          6,
          17,
          9,
          2,
          8,
          8,
          10,
          16,
          7,
          8,
          9,
          11,
          5,
          8,
          2,
          10,
          7,
          14,
          4,
          9,
          6,
          5,
          11,
          6,
          1,
          5,
          4,
          6,
          10,
          1,
          17,
          4,
          9,
          7,
          1,
          10,
          8,
          6,
          7,
          10,
          4,
          6,
          29,
          8,
          12,
          3,
          21,
          11,
          8,
          3,
          6,
          7,
          3,
          13,
          5,
          12,
          5,
          12,
          17,
          8,
          5,
          15,
          1,
          9,
          9,
          9,
          11,
          4,
          2,
          8,
          5,
          8,
          6,
          2,
          7,
          5,
          7,
          1,
          7,
          2,
          8,
          1,
          4,
          1,
          8,
          6,
          11,
          3,
          4,
          5,
          6,
          7,
          7,
          1,
          2,
          15,
          8,
          4,
          1,
          5,
          3,
          5,
          10,
          3,
          2,
          10,
          11,
          6,
          4,
          1,
          4,
          5,
          14,
          8,
          2,
          8,
          9,
          2,
          4,
          15,
          7,
          9,
          6,
          1,
          2,
          10,
          8,
          6,
          3,
          2,
          2,
          2,
          12,
          2,
          2,
          8,
          10,
          5,
          4,
          6,
          8,
          2,
          21,
          9,
          1,
          9,
          11,
          16,
          10,
          6,
          8,
          20,
          8,
          7,
          6,
          8,
          3,
          11,
          13,
          11,
          15,
          8,
          8,
          7,
          10,
          12,
          2,
          7,
          8,
          9,
          3,
          15,
          6,
          12,
          8,
          7,
          8,
          19,
          3,
          2,
          5,
          14,
          5,
          10,
          4,
          4,
          7,
          8,
          5,
          4,
          5,
          6,
          5,
          5,
          2,
          4,
          5,
          7,
          7,
          5,
          2,
          3,
          5,
          1,
          12,
          6,
          3,
          12,
          7,
          16,
          30,
          15,
          6,
          11,
          3,
          10,
          7,
          17,
          7,
          8,
          6,
          6,
          6,
          5,
          8,
          5,
          14,
          8,
          4,
          6,
          10,
          6,
          12,
          29,
          6,
          4,
          5,
          25,
          8,
          2,
          4,
          8,
          16,
          4,
          1,
          6,
          7,
          13,
          6,
          8,
          1,
          7,
          2,
          8,
          1,
          10,
          15,
          1,
          2,
          8,
          11,
          5,
          4,
          7,
          6,
          5,
          3,
          6,
          5,
          11,
          3,
          19,
          6,
          10,
          6,
          15,
          16,
          7,
          9,
          4,
          4,
          1,
          5,
          9,
          3,
          5,
          4,
          10,
          2,
          4,
          6,
          21,
          3,
          7,
          7,
          12,
          6,
          9,
          6,
          10,
          20,
          5,
          4,
          5,
          5,
          5,
          6,
          3,
          7,
          16,
          2,
          8,
          15,
          1,
          8,
          5,
          9,
          8,
          4,
          5,
          1,
          6,
          11,
          7,
          10,
          7,
          4,
          4,
          2,
          5,
          9,
          9,
          4,
          8,
          6,
          23,
          7,
          11,
          4,
          7,
          12,
          5,
          1,
          5,
          7,
          9,
          3,
          8,
          8,
          1,
          1,
          7,
          12,
          6,
          7,
          4,
          3,
          6,
          13,
          9,
          2,
          11,
          2,
          17,
          4,
          12,
          8,
          4,
          14,
          11,
          2,
          8,
          1,
          14,
          8,
          9,
          3,
          4,
          2,
          6,
          4,
          7,
          2,
          9,
          6,
          2,
          6,
          6,
          3,
          5,
          12,
          4,
          1,
          2,
          1,
          7,
          11,
          6,
          3,
          8,
          2,
          2,
          1,
          16,
          1,
          6,
          15,
          10,
          4,
          5,
          5,
          1,
          7,
          10,
          4,
          8,
          9,
          14,
          11,
          6,
          6,
          24,
          4,
          1,
          5,
          7,
          3,
          11,
          12,
          1,
          8,
          7,
          10,
          12,
          4,
          4,
          7,
          3,
          9,
          10,
          7,
          2,
          10,
          7,
          5,
          5,
          11,
          6,
          6,
          2,
          4,
          10,
          2,
          1,
          2,
          4,
          12,
          2,
          4,
          15,
          3,
          5,
          11,
          6,
          6,
          8,
          3,
          4,
          4,
          7,
          8,
          15,
          8,
          11,
          5,
          5,
          3,
          5,
          3,
          6,
          7,
          24,
          13
         ],
         "xbins": {
          "size": 1
         }
        }
       ],
       "layout": {
        "plot_bgcolor": "white",
        "showlegend": false,
        "template": {
         "data": {
          "bar": [
           {
            "error_x": {
             "color": "#2a3f5f"
            },
            "error_y": {
             "color": "#2a3f5f"
            },
            "marker": {
             "line": {
              "color": "#E5ECF6",
              "width": 0.5
             }
            },
            "type": "bar"
           }
          ],
          "barpolar": [
           {
            "marker": {
             "line": {
              "color": "#E5ECF6",
              "width": 0.5
             }
            },
            "type": "barpolar"
           }
          ],
          "carpet": [
           {
            "aaxis": {
             "endlinecolor": "#2a3f5f",
             "gridcolor": "white",
             "linecolor": "white",
             "minorgridcolor": "white",
             "startlinecolor": "#2a3f5f"
            },
            "baxis": {
             "endlinecolor": "#2a3f5f",
             "gridcolor": "white",
             "linecolor": "white",
             "minorgridcolor": "white",
             "startlinecolor": "#2a3f5f"
            },
            "type": "carpet"
           }
          ],
          "choropleth": [
           {
            "colorbar": {
             "outlinewidth": 0,
             "ticks": ""
            },
            "type": "choropleth"
           }
          ],
          "contour": [
           {
            "colorbar": {
             "outlinewidth": 0,
             "ticks": ""
            },
            "colorscale": [
             [
              0,
              "#0d0887"
             ],
             [
              0.1111111111111111,
              "#46039f"
             ],
             [
              0.2222222222222222,
              "#7201a8"
             ],
             [
              0.3333333333333333,
              "#9c179e"
             ],
             [
              0.4444444444444444,
              "#bd3786"
             ],
             [
              0.5555555555555556,
              "#d8576b"
             ],
             [
              0.6666666666666666,
              "#ed7953"
             ],
             [
              0.7777777777777778,
              "#fb9f3a"
             ],
             [
              0.8888888888888888,
              "#fdca26"
             ],
             [
              1,
              "#f0f921"
             ]
            ],
            "type": "contour"
           }
          ],
          "contourcarpet": [
           {
            "colorbar": {
             "outlinewidth": 0,
             "ticks": ""
            },
            "type": "contourcarpet"
           }
          ],
          "heatmap": [
           {
            "colorbar": {
             "outlinewidth": 0,
             "ticks": ""
            },
            "colorscale": [
             [
              0,
              "#0d0887"
             ],
             [
              0.1111111111111111,
              "#46039f"
             ],
             [
              0.2222222222222222,
              "#7201a8"
             ],
             [
              0.3333333333333333,
              "#9c179e"
             ],
             [
              0.4444444444444444,
              "#bd3786"
             ],
             [
              0.5555555555555556,
              "#d8576b"
             ],
             [
              0.6666666666666666,
              "#ed7953"
             ],
             [
              0.7777777777777778,
              "#fb9f3a"
             ],
             [
              0.8888888888888888,
              "#fdca26"
             ],
             [
              1,
              "#f0f921"
             ]
            ],
            "type": "heatmap"
           }
          ],
          "heatmapgl": [
           {
            "colorbar": {
             "outlinewidth": 0,
             "ticks": ""
            },
            "colorscale": [
             [
              0,
              "#0d0887"
             ],
             [
              0.1111111111111111,
              "#46039f"
             ],
             [
              0.2222222222222222,
              "#7201a8"
             ],
             [
              0.3333333333333333,
              "#9c179e"
             ],
             [
              0.4444444444444444,
              "#bd3786"
             ],
             [
              0.5555555555555556,
              "#d8576b"
             ],
             [
              0.6666666666666666,
              "#ed7953"
             ],
             [
              0.7777777777777778,
              "#fb9f3a"
             ],
             [
              0.8888888888888888,
              "#fdca26"
             ],
             [
              1,
              "#f0f921"
             ]
            ],
            "type": "heatmapgl"
           }
          ],
          "histogram": [
           {
            "marker": {
             "colorbar": {
              "outlinewidth": 0,
              "ticks": ""
             }
            },
            "type": "histogram"
           }
          ],
          "histogram2d": [
           {
            "colorbar": {
             "outlinewidth": 0,
             "ticks": ""
            },
            "colorscale": [
             [
              0,
              "#0d0887"
             ],
             [
              0.1111111111111111,
              "#46039f"
             ],
             [
              0.2222222222222222,
              "#7201a8"
             ],
             [
              0.3333333333333333,
              "#9c179e"
             ],
             [
              0.4444444444444444,
              "#bd3786"
             ],
             [
              0.5555555555555556,
              "#d8576b"
             ],
             [
              0.6666666666666666,
              "#ed7953"
             ],
             [
              0.7777777777777778,
              "#fb9f3a"
             ],
             [
              0.8888888888888888,
              "#fdca26"
             ],
             [
              1,
              "#f0f921"
             ]
            ],
            "type": "histogram2d"
           }
          ],
          "histogram2dcontour": [
           {
            "colorbar": {
             "outlinewidth": 0,
             "ticks": ""
            },
            "colorscale": [
             [
              0,
              "#0d0887"
             ],
             [
              0.1111111111111111,
              "#46039f"
             ],
             [
              0.2222222222222222,
              "#7201a8"
             ],
             [
              0.3333333333333333,
              "#9c179e"
             ],
             [
              0.4444444444444444,
              "#bd3786"
             ],
             [
              0.5555555555555556,
              "#d8576b"
             ],
             [
              0.6666666666666666,
              "#ed7953"
             ],
             [
              0.7777777777777778,
              "#fb9f3a"
             ],
             [
              0.8888888888888888,
              "#fdca26"
             ],
             [
              1,
              "#f0f921"
             ]
            ],
            "type": "histogram2dcontour"
           }
          ],
          "mesh3d": [
           {
            "colorbar": {
             "outlinewidth": 0,
             "ticks": ""
            },
            "type": "mesh3d"
           }
          ],
          "parcoords": [
           {
            "line": {
             "colorbar": {
              "outlinewidth": 0,
              "ticks": ""
             }
            },
            "type": "parcoords"
           }
          ],
          "pie": [
           {
            "automargin": true,
            "type": "pie"
           }
          ],
          "scatter": [
           {
            "marker": {
             "colorbar": {
              "outlinewidth": 0,
              "ticks": ""
             }
            },
            "type": "scatter"
           }
          ],
          "scatter3d": [
           {
            "line": {
             "colorbar": {
              "outlinewidth": 0,
              "ticks": ""
             }
            },
            "marker": {
             "colorbar": {
              "outlinewidth": 0,
              "ticks": ""
             }
            },
            "type": "scatter3d"
           }
          ],
          "scattercarpet": [
           {
            "marker": {
             "colorbar": {
              "outlinewidth": 0,
              "ticks": ""
             }
            },
            "type": "scattercarpet"
           }
          ],
          "scattergeo": [
           {
            "marker": {
             "colorbar": {
              "outlinewidth": 0,
              "ticks": ""
             }
            },
            "type": "scattergeo"
           }
          ],
          "scattergl": [
           {
            "marker": {
             "colorbar": {
              "outlinewidth": 0,
              "ticks": ""
             }
            },
            "type": "scattergl"
           }
          ],
          "scattermapbox": [
           {
            "marker": {
             "colorbar": {
              "outlinewidth": 0,
              "ticks": ""
             }
            },
            "type": "scattermapbox"
           }
          ],
          "scatterpolar": [
           {
            "marker": {
             "colorbar": {
              "outlinewidth": 0,
              "ticks": ""
             }
            },
            "type": "scatterpolar"
           }
          ],
          "scatterpolargl": [
           {
            "marker": {
             "colorbar": {
              "outlinewidth": 0,
              "ticks": ""
             }
            },
            "type": "scatterpolargl"
           }
          ],
          "scatterternary": [
           {
            "marker": {
             "colorbar": {
              "outlinewidth": 0,
              "ticks": ""
             }
            },
            "type": "scatterternary"
           }
          ],
          "surface": [
           {
            "colorbar": {
             "outlinewidth": 0,
             "ticks": ""
            },
            "colorscale": [
             [
              0,
              "#0d0887"
             ],
             [
              0.1111111111111111,
              "#46039f"
             ],
             [
              0.2222222222222222,
              "#7201a8"
             ],
             [
              0.3333333333333333,
              "#9c179e"
             ],
             [
              0.4444444444444444,
              "#bd3786"
             ],
             [
              0.5555555555555556,
              "#d8576b"
             ],
             [
              0.6666666666666666,
              "#ed7953"
             ],
             [
              0.7777777777777778,
              "#fb9f3a"
             ],
             [
              0.8888888888888888,
              "#fdca26"
             ],
             [
              1,
              "#f0f921"
             ]
            ],
            "type": "surface"
           }
          ],
          "table": [
           {
            "cells": {
             "fill": {
              "color": "#EBF0F8"
             },
             "line": {
              "color": "white"
             }
            },
            "header": {
             "fill": {
              "color": "#C8D4E3"
             },
             "line": {
              "color": "white"
             }
            },
            "type": "table"
           }
          ]
         },
         "layout": {
          "annotationdefaults": {
           "arrowcolor": "#2a3f5f",
           "arrowhead": 0,
           "arrowwidth": 1
          },
          "coloraxis": {
           "colorbar": {
            "outlinewidth": 0,
            "ticks": ""
           }
          },
          "colorscale": {
           "diverging": [
            [
             0,
             "#8e0152"
            ],
            [
             0.1,
             "#c51b7d"
            ],
            [
             0.2,
             "#de77ae"
            ],
            [
             0.3,
             "#f1b6da"
            ],
            [
             0.4,
             "#fde0ef"
            ],
            [
             0.5,
             "#f7f7f7"
            ],
            [
             0.6,
             "#e6f5d0"
            ],
            [
             0.7,
             "#b8e186"
            ],
            [
             0.8,
             "#7fbc41"
            ],
            [
             0.9,
             "#4d9221"
            ],
            [
             1,
             "#276419"
            ]
           ],
           "sequential": [
            [
             0,
             "#0d0887"
            ],
            [
             0.1111111111111111,
             "#46039f"
            ],
            [
             0.2222222222222222,
             "#7201a8"
            ],
            [
             0.3333333333333333,
             "#9c179e"
            ],
            [
             0.4444444444444444,
             "#bd3786"
            ],
            [
             0.5555555555555556,
             "#d8576b"
            ],
            [
             0.6666666666666666,
             "#ed7953"
            ],
            [
             0.7777777777777778,
             "#fb9f3a"
            ],
            [
             0.8888888888888888,
             "#fdca26"
            ],
            [
             1,
             "#f0f921"
            ]
           ],
           "sequentialminus": [
            [
             0,
             "#0d0887"
            ],
            [
             0.1111111111111111,
             "#46039f"
            ],
            [
             0.2222222222222222,
             "#7201a8"
            ],
            [
             0.3333333333333333,
             "#9c179e"
            ],
            [
             0.4444444444444444,
             "#bd3786"
            ],
            [
             0.5555555555555556,
             "#d8576b"
            ],
            [
             0.6666666666666666,
             "#ed7953"
            ],
            [
             0.7777777777777778,
             "#fb9f3a"
            ],
            [
             0.8888888888888888,
             "#fdca26"
            ],
            [
             1,
             "#f0f921"
            ]
           ]
          },
          "colorway": [
           "#636efa",
           "#EF553B",
           "#00cc96",
           "#ab63fa",
           "#FFA15A",
           "#19d3f3",
           "#FF6692",
           "#B6E880",
           "#FF97FF",
           "#FECB52"
          ],
          "font": {
           "color": "#2a3f5f"
          },
          "geo": {
           "bgcolor": "white",
           "lakecolor": "white",
           "landcolor": "#E5ECF6",
           "showlakes": true,
           "showland": true,
           "subunitcolor": "white"
          },
          "hoverlabel": {
           "align": "left"
          },
          "hovermode": "closest",
          "mapbox": {
           "style": "light"
          },
          "paper_bgcolor": "white",
          "plot_bgcolor": "#E5ECF6",
          "polar": {
           "angularaxis": {
            "gridcolor": "white",
            "linecolor": "white",
            "ticks": ""
           },
           "bgcolor": "#E5ECF6",
           "radialaxis": {
            "gridcolor": "white",
            "linecolor": "white",
            "ticks": ""
           }
          },
          "scene": {
           "xaxis": {
            "backgroundcolor": "#E5ECF6",
            "gridcolor": "white",
            "gridwidth": 2,
            "linecolor": "white",
            "showbackground": true,
            "ticks": "",
            "zerolinecolor": "white"
           },
           "yaxis": {
            "backgroundcolor": "#E5ECF6",
            "gridcolor": "white",
            "gridwidth": 2,
            "linecolor": "white",
            "showbackground": true,
            "ticks": "",
            "zerolinecolor": "white"
           },
           "zaxis": {
            "backgroundcolor": "#E5ECF6",
            "gridcolor": "white",
            "gridwidth": 2,
            "linecolor": "white",
            "showbackground": true,
            "ticks": "",
            "zerolinecolor": "white"
           }
          },
          "shapedefaults": {
           "line": {
            "color": "#2a3f5f"
           }
          },
          "ternary": {
           "aaxis": {
            "gridcolor": "white",
            "linecolor": "white",
            "ticks": ""
           },
           "baxis": {
            "gridcolor": "white",
            "linecolor": "white",
            "ticks": ""
           },
           "bgcolor": "#E5ECF6",
           "caxis": {
            "gridcolor": "white",
            "linecolor": "white",
            "ticks": ""
           }
          },
          "title": {
           "x": 0.05
          },
          "xaxis": {
           "automargin": true,
           "gridcolor": "white",
           "linecolor": "white",
           "ticks": "",
           "title": {
            "standoff": 15
           },
           "zerolinecolor": "white",
           "zerolinewidth": 2
          },
          "yaxis": {
           "automargin": true,
           "gridcolor": "white",
           "linecolor": "white",
           "ticks": "",
           "title": {
            "standoff": 15
           },
           "zerolinecolor": "white",
           "zerolinewidth": 2
          }
         }
        },
        "title": {
         "text": "Order size: Number of items per order"
        }
       }
      }
     },
     "metadata": {}
    }
   ],
   "source": [
    "x = pd.DataFrame(df[[\"SKU\", \"Order\"]].groupby(\"Order\").agg({\"SKU\": \"nunique\"})).SKU\n",
    "\n",
    "fig = go.Figure(data=[go.Histogram(x=x, xbins=dict(size=1))])\n",
    "fig.update_layout(title_text=\"Order size: Number of items per order\", plot_bgcolor=\"white\", showlegend=False)\n",
    "\n",
    "fig.show()"
   ]
  },
  {
   "cell_type": "code",
   "execution_count": 10,
   "metadata": {},
   "outputs": [
    {
     "output_type": "display_data",
     "data": {
      "application/vnd.plotly.v1+json": {
       "config": {
        "plotlyServerURL": "https://plot.ly"
       },
       "data": [
        {
         "type": "histogram",
         "x": [
          "1000+",
          "1000+",
          "1000+",
          "1000+",
          "1000+",
          "1000+",
          "1000+",
          "1000+",
          "1000+",
          "1000+",
          "1000+",
          "1000+",
          "1000+",
          "1000+",
          "1000+",
          "1000+",
          "1000+",
          "501-1000",
          "501-1000",
          "501-1000",
          "501-1000",
          "501-1000",
          "501-1000",
          "501-1000",
          "501-1000",
          "501-1000",
          "501-1000",
          "501-1000",
          "201-500",
          "201-500",
          "201-500",
          "201-500",
          "201-500",
          "201-500",
          "201-500",
          "201-500",
          "201-500",
          "201-500",
          "201-500",
          "201-500",
          "201-500",
          "201-500",
          "201-500",
          "201-500",
          "201-500",
          "201-500",
          "201-500",
          "201-500",
          "201-500",
          "201-500",
          "201-500",
          "201-500",
          "51-200",
          "51-200",
          "51-200",
          "51-200",
          "51-200",
          "51-200",
          "51-200",
          "51-200",
          "51-200",
          "51-200",
          "51-200",
          "51-200",
          "51-200",
          "51-200",
          "51-200",
          "51-200",
          "51-200",
          "51-200",
          "51-200",
          "51-200",
          "51-200",
          "51-200",
          "51-200",
          "51-200",
          "51-200",
          "51-200",
          "51-200",
          "51-200",
          "51-200",
          "51-200",
          "51-200",
          "51-200",
          "51-200",
          "51-200",
          "51-200",
          "51-200",
          "51-200",
          "51-200",
          "51-200",
          "51-200",
          "51-200",
          "0-50",
          "0-50",
          "0-50",
          "0-50",
          "0-50",
          "0-50",
          "0-50",
          "0-50",
          "0-50",
          "0-50",
          "0-50",
          "0-50",
          "0-50",
          "0-50",
          "0-50",
          "0-50",
          "0-50",
          "0-50",
          "0-50",
          "0-50",
          "0-50",
          "0-50",
          "0-50",
          "0-50",
          "0-50",
          "0-50",
          "0-50",
          "0-50",
          "0-50",
          "0-50",
          "0-50",
          "0-50",
          "0-50",
          "0-50",
          "0-50",
          "0-50",
          "0-50",
          "0-50",
          "0-50",
          "0-50",
          "0-50",
          "0-50",
          "0-50",
          "0-50",
          "0-50",
          "0-50",
          "0-50",
          "0-50",
          "0-50",
          "0-50",
          "0-50",
          "0-50",
          "0-50",
          "0-50",
          "0-50",
          "0-50",
          "0-50",
          "0-50",
          "0-50",
          "0-50",
          "0-50",
          "0-50",
          "0-50",
          "0-50",
          "0-50",
          "0-50",
          "0-50",
          "0-50",
          "0-50",
          "0-50",
          "0-50",
          "0-50",
          "0-50",
          "0-50",
          "0-50",
          "0-50",
          "0-50",
          "0-50",
          "0-50",
          "0-50",
          "0-50",
          "0-50",
          "0-50",
          "0-50",
          "0-50",
          "0-50",
          "0-50",
          "0-50",
          "0-50",
          "0-50",
          "0-50",
          "0-50",
          "0-50",
          "0-50",
          "0-50",
          "0-50",
          "0-50",
          "0-50",
          "0-50",
          "0-50",
          "0-50",
          "0-50",
          "0-50",
          "0-50",
          "0-50",
          "0-50",
          "0-50",
          "0-50",
          "0-50",
          "0-50",
          "0-50",
          "0-50",
          "0-50",
          "0-50",
          "0-50",
          "0-50",
          "0-50",
          "0-50",
          "0-50",
          "0-50",
          "0-50",
          "0-50",
          "0-50"
         ]
        }
       ],
       "layout": {
        "plot_bgcolor": "white",
        "showlegend": false,
        "template": {
         "data": {
          "bar": [
           {
            "error_x": {
             "color": "#2a3f5f"
            },
            "error_y": {
             "color": "#2a3f5f"
            },
            "marker": {
             "line": {
              "color": "#E5ECF6",
              "width": 0.5
             }
            },
            "type": "bar"
           }
          ],
          "barpolar": [
           {
            "marker": {
             "line": {
              "color": "#E5ECF6",
              "width": 0.5
             }
            },
            "type": "barpolar"
           }
          ],
          "carpet": [
           {
            "aaxis": {
             "endlinecolor": "#2a3f5f",
             "gridcolor": "white",
             "linecolor": "white",
             "minorgridcolor": "white",
             "startlinecolor": "#2a3f5f"
            },
            "baxis": {
             "endlinecolor": "#2a3f5f",
             "gridcolor": "white",
             "linecolor": "white",
             "minorgridcolor": "white",
             "startlinecolor": "#2a3f5f"
            },
            "type": "carpet"
           }
          ],
          "choropleth": [
           {
            "colorbar": {
             "outlinewidth": 0,
             "ticks": ""
            },
            "type": "choropleth"
           }
          ],
          "contour": [
           {
            "colorbar": {
             "outlinewidth": 0,
             "ticks": ""
            },
            "colorscale": [
             [
              0,
              "#0d0887"
             ],
             [
              0.1111111111111111,
              "#46039f"
             ],
             [
              0.2222222222222222,
              "#7201a8"
             ],
             [
              0.3333333333333333,
              "#9c179e"
             ],
             [
              0.4444444444444444,
              "#bd3786"
             ],
             [
              0.5555555555555556,
              "#d8576b"
             ],
             [
              0.6666666666666666,
              "#ed7953"
             ],
             [
              0.7777777777777778,
              "#fb9f3a"
             ],
             [
              0.8888888888888888,
              "#fdca26"
             ],
             [
              1,
              "#f0f921"
             ]
            ],
            "type": "contour"
           }
          ],
          "contourcarpet": [
           {
            "colorbar": {
             "outlinewidth": 0,
             "ticks": ""
            },
            "type": "contourcarpet"
           }
          ],
          "heatmap": [
           {
            "colorbar": {
             "outlinewidth": 0,
             "ticks": ""
            },
            "colorscale": [
             [
              0,
              "#0d0887"
             ],
             [
              0.1111111111111111,
              "#46039f"
             ],
             [
              0.2222222222222222,
              "#7201a8"
             ],
             [
              0.3333333333333333,
              "#9c179e"
             ],
             [
              0.4444444444444444,
              "#bd3786"
             ],
             [
              0.5555555555555556,
              "#d8576b"
             ],
             [
              0.6666666666666666,
              "#ed7953"
             ],
             [
              0.7777777777777778,
              "#fb9f3a"
             ],
             [
              0.8888888888888888,
              "#fdca26"
             ],
             [
              1,
              "#f0f921"
             ]
            ],
            "type": "heatmap"
           }
          ],
          "heatmapgl": [
           {
            "colorbar": {
             "outlinewidth": 0,
             "ticks": ""
            },
            "colorscale": [
             [
              0,
              "#0d0887"
             ],
             [
              0.1111111111111111,
              "#46039f"
             ],
             [
              0.2222222222222222,
              "#7201a8"
             ],
             [
              0.3333333333333333,
              "#9c179e"
             ],
             [
              0.4444444444444444,
              "#bd3786"
             ],
             [
              0.5555555555555556,
              "#d8576b"
             ],
             [
              0.6666666666666666,
              "#ed7953"
             ],
             [
              0.7777777777777778,
              "#fb9f3a"
             ],
             [
              0.8888888888888888,
              "#fdca26"
             ],
             [
              1,
              "#f0f921"
             ]
            ],
            "type": "heatmapgl"
           }
          ],
          "histogram": [
           {
            "marker": {
             "colorbar": {
              "outlinewidth": 0,
              "ticks": ""
             }
            },
            "type": "histogram"
           }
          ],
          "histogram2d": [
           {
            "colorbar": {
             "outlinewidth": 0,
             "ticks": ""
            },
            "colorscale": [
             [
              0,
              "#0d0887"
             ],
             [
              0.1111111111111111,
              "#46039f"
             ],
             [
              0.2222222222222222,
              "#7201a8"
             ],
             [
              0.3333333333333333,
              "#9c179e"
             ],
             [
              0.4444444444444444,
              "#bd3786"
             ],
             [
              0.5555555555555556,
              "#d8576b"
             ],
             [
              0.6666666666666666,
              "#ed7953"
             ],
             [
              0.7777777777777778,
              "#fb9f3a"
             ],
             [
              0.8888888888888888,
              "#fdca26"
             ],
             [
              1,
              "#f0f921"
             ]
            ],
            "type": "histogram2d"
           }
          ],
          "histogram2dcontour": [
           {
            "colorbar": {
             "outlinewidth": 0,
             "ticks": ""
            },
            "colorscale": [
             [
              0,
              "#0d0887"
             ],
             [
              0.1111111111111111,
              "#46039f"
             ],
             [
              0.2222222222222222,
              "#7201a8"
             ],
             [
              0.3333333333333333,
              "#9c179e"
             ],
             [
              0.4444444444444444,
              "#bd3786"
             ],
             [
              0.5555555555555556,
              "#d8576b"
             ],
             [
              0.6666666666666666,
              "#ed7953"
             ],
             [
              0.7777777777777778,
              "#fb9f3a"
             ],
             [
              0.8888888888888888,
              "#fdca26"
             ],
             [
              1,
              "#f0f921"
             ]
            ],
            "type": "histogram2dcontour"
           }
          ],
          "mesh3d": [
           {
            "colorbar": {
             "outlinewidth": 0,
             "ticks": ""
            },
            "type": "mesh3d"
           }
          ],
          "parcoords": [
           {
            "line": {
             "colorbar": {
              "outlinewidth": 0,
              "ticks": ""
             }
            },
            "type": "parcoords"
           }
          ],
          "pie": [
           {
            "automargin": true,
            "type": "pie"
           }
          ],
          "scatter": [
           {
            "marker": {
             "colorbar": {
              "outlinewidth": 0,
              "ticks": ""
             }
            },
            "type": "scatter"
           }
          ],
          "scatter3d": [
           {
            "line": {
             "colorbar": {
              "outlinewidth": 0,
              "ticks": ""
             }
            },
            "marker": {
             "colorbar": {
              "outlinewidth": 0,
              "ticks": ""
             }
            },
            "type": "scatter3d"
           }
          ],
          "scattercarpet": [
           {
            "marker": {
             "colorbar": {
              "outlinewidth": 0,
              "ticks": ""
             }
            },
            "type": "scattercarpet"
           }
          ],
          "scattergeo": [
           {
            "marker": {
             "colorbar": {
              "outlinewidth": 0,
              "ticks": ""
             }
            },
            "type": "scattergeo"
           }
          ],
          "scattergl": [
           {
            "marker": {
             "colorbar": {
              "outlinewidth": 0,
              "ticks": ""
             }
            },
            "type": "scattergl"
           }
          ],
          "scattermapbox": [
           {
            "marker": {
             "colorbar": {
              "outlinewidth": 0,
              "ticks": ""
             }
            },
            "type": "scattermapbox"
           }
          ],
          "scatterpolar": [
           {
            "marker": {
             "colorbar": {
              "outlinewidth": 0,
              "ticks": ""
             }
            },
            "type": "scatterpolar"
           }
          ],
          "scatterpolargl": [
           {
            "marker": {
             "colorbar": {
              "outlinewidth": 0,
              "ticks": ""
             }
            },
            "type": "scatterpolargl"
           }
          ],
          "scatterternary": [
           {
            "marker": {
             "colorbar": {
              "outlinewidth": 0,
              "ticks": ""
             }
            },
            "type": "scatterternary"
           }
          ],
          "surface": [
           {
            "colorbar": {
             "outlinewidth": 0,
             "ticks": ""
            },
            "colorscale": [
             [
              0,
              "#0d0887"
             ],
             [
              0.1111111111111111,
              "#46039f"
             ],
             [
              0.2222222222222222,
              "#7201a8"
             ],
             [
              0.3333333333333333,
              "#9c179e"
             ],
             [
              0.4444444444444444,
              "#bd3786"
             ],
             [
              0.5555555555555556,
              "#d8576b"
             ],
             [
              0.6666666666666666,
              "#ed7953"
             ],
             [
              0.7777777777777778,
              "#fb9f3a"
             ],
             [
              0.8888888888888888,
              "#fdca26"
             ],
             [
              1,
              "#f0f921"
             ]
            ],
            "type": "surface"
           }
          ],
          "table": [
           {
            "cells": {
             "fill": {
              "color": "#EBF0F8"
             },
             "line": {
              "color": "white"
             }
            },
            "header": {
             "fill": {
              "color": "#C8D4E3"
             },
             "line": {
              "color": "white"
             }
            },
            "type": "table"
           }
          ]
         },
         "layout": {
          "annotationdefaults": {
           "arrowcolor": "#2a3f5f",
           "arrowhead": 0,
           "arrowwidth": 1
          },
          "coloraxis": {
           "colorbar": {
            "outlinewidth": 0,
            "ticks": ""
           }
          },
          "colorscale": {
           "diverging": [
            [
             0,
             "#8e0152"
            ],
            [
             0.1,
             "#c51b7d"
            ],
            [
             0.2,
             "#de77ae"
            ],
            [
             0.3,
             "#f1b6da"
            ],
            [
             0.4,
             "#fde0ef"
            ],
            [
             0.5,
             "#f7f7f7"
            ],
            [
             0.6,
             "#e6f5d0"
            ],
            [
             0.7,
             "#b8e186"
            ],
            [
             0.8,
             "#7fbc41"
            ],
            [
             0.9,
             "#4d9221"
            ],
            [
             1,
             "#276419"
            ]
           ],
           "sequential": [
            [
             0,
             "#0d0887"
            ],
            [
             0.1111111111111111,
             "#46039f"
            ],
            [
             0.2222222222222222,
             "#7201a8"
            ],
            [
             0.3333333333333333,
             "#9c179e"
            ],
            [
             0.4444444444444444,
             "#bd3786"
            ],
            [
             0.5555555555555556,
             "#d8576b"
            ],
            [
             0.6666666666666666,
             "#ed7953"
            ],
            [
             0.7777777777777778,
             "#fb9f3a"
            ],
            [
             0.8888888888888888,
             "#fdca26"
            ],
            [
             1,
             "#f0f921"
            ]
           ],
           "sequentialminus": [
            [
             0,
             "#0d0887"
            ],
            [
             0.1111111111111111,
             "#46039f"
            ],
            [
             0.2222222222222222,
             "#7201a8"
            ],
            [
             0.3333333333333333,
             "#9c179e"
            ],
            [
             0.4444444444444444,
             "#bd3786"
            ],
            [
             0.5555555555555556,
             "#d8576b"
            ],
            [
             0.6666666666666666,
             "#ed7953"
            ],
            [
             0.7777777777777778,
             "#fb9f3a"
            ],
            [
             0.8888888888888888,
             "#fdca26"
            ],
            [
             1,
             "#f0f921"
            ]
           ]
          },
          "colorway": [
           "#636efa",
           "#EF553B",
           "#00cc96",
           "#ab63fa",
           "#FFA15A",
           "#19d3f3",
           "#FF6692",
           "#B6E880",
           "#FF97FF",
           "#FECB52"
          ],
          "font": {
           "color": "#2a3f5f"
          },
          "geo": {
           "bgcolor": "white",
           "lakecolor": "white",
           "landcolor": "#E5ECF6",
           "showlakes": true,
           "showland": true,
           "subunitcolor": "white"
          },
          "hoverlabel": {
           "align": "left"
          },
          "hovermode": "closest",
          "mapbox": {
           "style": "light"
          },
          "paper_bgcolor": "white",
          "plot_bgcolor": "#E5ECF6",
          "polar": {
           "angularaxis": {
            "gridcolor": "white",
            "linecolor": "white",
            "ticks": ""
           },
           "bgcolor": "#E5ECF6",
           "radialaxis": {
            "gridcolor": "white",
            "linecolor": "white",
            "ticks": ""
           }
          },
          "scene": {
           "xaxis": {
            "backgroundcolor": "#E5ECF6",
            "gridcolor": "white",
            "gridwidth": 2,
            "linecolor": "white",
            "showbackground": true,
            "ticks": "",
            "zerolinecolor": "white"
           },
           "yaxis": {
            "backgroundcolor": "#E5ECF6",
            "gridcolor": "white",
            "gridwidth": 2,
            "linecolor": "white",
            "showbackground": true,
            "ticks": "",
            "zerolinecolor": "white"
           },
           "zaxis": {
            "backgroundcolor": "#E5ECF6",
            "gridcolor": "white",
            "gridwidth": 2,
            "linecolor": "white",
            "showbackground": true,
            "ticks": "",
            "zerolinecolor": "white"
           }
          },
          "shapedefaults": {
           "line": {
            "color": "#2a3f5f"
           }
          },
          "ternary": {
           "aaxis": {
            "gridcolor": "white",
            "linecolor": "white",
            "ticks": ""
           },
           "baxis": {
            "gridcolor": "white",
            "linecolor": "white",
            "ticks": ""
           },
           "bgcolor": "#E5ECF6",
           "caxis": {
            "gridcolor": "white",
            "linecolor": "white",
            "ticks": ""
           }
          },
          "title": {
           "x": 0.05
          },
          "xaxis": {
           "automargin": true,
           "gridcolor": "white",
           "linecolor": "white",
           "ticks": "",
           "title": {
            "standoff": 15
           },
           "zerolinecolor": "white",
           "zerolinewidth": 2
          },
          "yaxis": {
           "automargin": true,
           "gridcolor": "white",
           "linecolor": "white",
           "ticks": "",
           "title": {
            "standoff": 15
           },
           "zerolinecolor": "white",
           "zerolinewidth": 2
          }
         }
        },
        "title": {
         "text": "Number of items per order"
        }
       }
      }
     },
     "metadata": {}
    }
   ],
   "source": [
    "bestselling_products = pd.DataFrame(df.Description.value_counts())\n",
    "bestselling_products_bins = [\"0-50\" if i <= 50 else \"51-200\" if i <=200 else \"201-500\" if i <= 500 else \"501-1000\" if i <= 1000 else \"1000+\" for i in bestselling_products.Description.values]\n",
    "\n",
    "fig = go.Figure(data=[go.Histogram(x=bestselling_products_bins)])\n",
    "fig.update_layout(title_text=\"Number of items per order\", plot_bgcolor=\"white\", showlegend=False)\n",
    "\n",
    "fig.show()"
   ]
  },
  {
   "cell_type": "code",
   "execution_count": 11,
   "metadata": {},
   "outputs": [
    {
     "output_type": "display_data",
     "data": {
      "application/vnd.plotly.v1+json": {
       "config": {
        "plotlyServerURL": "https://plot.ly"
       },
       "data": [
        {
         "alignmentgroup": "True",
         "hoverlabel": {
          "namelength": 0
         },
         "hovertemplate": "x=%{x}<br>y=%{y}",
         "legendgroup": "",
         "marker": {
          "color": "#636efa"
         },
         "name": "",
         "offsetgroup": "",
         "orientation": "v",
         "showlegend": false,
         "textposition": "auto",
         "type": "bar",
         "x": [
          "Other Vegetables",
          "Beans",
          "Root Vegetables",
          "Other Dals",
          "Organic F&V",
          "Whole Spices",
          "Gourd & Cucumber",
          "Brinjals",
          "Namkeen",
          "Banana",
          "Exotic Vegetables",
          "Moong Dal",
          "Sugar",
          "Toor Dal",
          "Sooji & Rava",
          "Raw Rice",
          "Bread",
          "Urad Dal",
          "Organic Dals & Pulses",
          "Sunflower Oils",
          "Avalakki / Poha",
          "Other Rice Products",
          "Cream Biscuits",
          "Other Dry Fruits",
          "Boiled Rice",
          "Cashews",
          "Almonds",
          "Health Drinks",
          "Raw Peanuts",
          "Besan",
          "Glucose, Marie & Milk Biscuits",
          "Maida",
          "Organic Masalas & Spices",
          "Raisins",
          "Snacky Nuts",
          "Yogurt & Lassi",
          "Chips",
          "Liquid Soaps & Bars",
          "Organic Rice & Rice Products",
          "Ground Coffee",
          "Jaggery",
          "Ghee",
          "Mosquito Repellent",
          "Cooking Paste",
          "Basmati Rice",
          "Organic Flours",
          "Curd",
          "Ice Creams & Desserts",
          "Cookies",
          "Honey",
          "Regular Pasta",
          "Instant Noodles",
          "Organic Salt,Sugar & Jaggery",
          "Buns & Pavs",
          "Rice Flour",
          "Corn Snacks",
          "Cooking Sauce",
          "Phenyles & Acids",
          "Other Sweets",
          "Healthy & Digestive Biscuits",
          "Other Flours",
          "Other Oils",
          "Aluminium Foil & Cling Wrap",
          "Cakes",
          "Shaving Blade & Razors",
          "Instant Pastas",
          "Toothpaste",
          "Mango Juices",
          "Vermicelli",
          "Ready Mix",
          "Chilli & Soya Sauces",
          "Chinese Noodles",
          "Hair Oil",
          "Other Juices",
          "Oats",
          "Eggs",
          "Health Supplements",
          "Milk",
          "Shampoo",
          "Diapers & Wipes",
          "Shaving Cream, Foam & Gels",
          "Agarbatti",
          "Cut Vegetables",
          "Liquid Detergent",
          "Sanitary Pads",
          "Packaged Drinking Water",
          "Whole Grains",
          "Powdered Spices",
          "Other Sauces",
          "Shoe Polish",
          "Face Wash",
          "Ready Baking Mixes",
          "Tomato Ketchup",
          "Sugar Cubes",
          "Healthy Snacks",
          "Veg & Fruit",
          "Hair Colors & Dyes",
          "Organic Juices",
          "Other Insect Repellent",
          "Butter & Cream",
          "Frozen Chicken",
          "Hand Wash",
          "Face Cream",
          "Rasagulla & Gulab Jamun",
          "Toilet Cleaners",
          "Home & Air Freshener",
          "Salty Biscuits",
          "Pain Relievers",
          "Frozen Veg Food",
          "Cotton & Bandages",
          "Wafers",
          "Pasta & Noodles",
          "Pet Food",
          "Milk Drinks",
          "Mustard Oils",
          "Jams & Sauces",
          "Energy Drinks",
          "Muffins, Cookies & Rusk",
          "Other Pooja Needs",
          "Organic Dry Fruits",
          "Other Spreads",
          "Organic Baby Foods",
          "Vinegar",
          "Buttermilk",
          "Soya Products",
          "Washing Bars",
          "Other Pickle",
          "Bakery & Breads",
          "Face Packs & Scrubs",
          "Body Wash",
          "Other Soft Drinks",
          "Soup",
          "Ayurvedic",
          "Organic Breakfast Cereals",
          "Brooms & Dust Pans",
          "Drain Cleaners",
          "Olive Oils",
          "Car Freshener",
          "Snacks & Sweets",
          "Brushes & Scrubbers",
          "Other Jams",
          "Soups",
          "Flakes",
          "Paneer & Tofu",
          "Disposable Plates & Utensils",
          "Facial Tissues",
          "Hair Conditioner",
          "Cleaning & Dust Cloth",
          "Ready Masalas",
          "Tissue Paper & Napkins",
          "Organic Branded Foods",
          "Mukhwas & Mouth Freshener",
          "Grooming",
          "Baking Ingredients",
          "Antiseptics",
          "Mouthwash",
          "Mens Deo",
          "Pre & Post Wash Care",
          "Fertilizers & Pesticides",
          "Rodent Control",
          "Utensil Scrub Pads",
          "Ayurvedic Food",
          "Containers",
          "Toffee & Candy",
          "CFLs,cfls,7832553,2,0\r\n7831582,Channa Dal,channa-dal,7832491,2,0\r\n7832360,Cheese,cheese,7832363,2,0\r\n7831689,Chewing Gum,chewing-gum,7831685,2,0\r\n7832047,ChildrenS Books",
          "Groundnut Oils",
          "Shaving Brush",
          "Toilet Cleaning",
          "Vanaspati",
          "Green Tea",
          "Festive Gift Packs",
          "Glass Cleaners",
          "Ladles & Spatulas",
          "Ready To Eat & Cook",
          "Scissors, Glue & Tape",
          "Frozen Seafood",
          "Floor Cleaners",
          "Colours ",
          "Pens ",
          "Ice Cream",
          "Battery",
          "Mixed Fruit Jam",
          "Beverages",
          "Chocolate",
          "Hand Sanitizer",
          "Energy Powders",
          "Mango Pickle",
          "Baby Cereal",
          "Tomato Sauce",
          "Printer Cartridges & Printing Paper",
          "Sanitary Aids",
          "After Shave",
          "Office Stationery",
          "Lip Care",
          "Exam Boards",
          "Eye Care & Kajal",
          "Magazine",
          "Organic Edible Oils & Ghee",
          "Cutlery",
          "Womens Deo",
          "Body Lotion",
          "Bottle & Tin Openers",
          "Car Shampoo & Wax",
          "Foot Care",
          "Dishwash Liquids & Pastes",
          "Cutters, Peelers & Scrapers",
          "Baby Care Accessories",
          "Fryums & Papad",
          "Dairy & Cheese",
          "Toilet Paper",
          "Heat & Eat Ready Meals",
          "Tea",
          "Talc",
          "Cookery Books",
          "Biscuits",
          "Festive Gift Pack"
         ],
         "xaxis": "x",
         "y": [
          4606,
          4549,
          4303,
          3272,
          3113,
          3001,
          2973,
          2569,
          2224,
          2188,
          1410,
          1383,
          1344,
          1305,
          1281,
          1056,
          1044,
          919,
          708,
          677,
          667,
          637,
          615,
          596,
          572,
          539,
          528,
          508,
          494,
          482,
          453,
          438,
          429,
          397,
          392,
          380,
          361,
          349,
          317,
          294,
          289,
          285,
          256,
          254,
          247,
          240,
          225,
          221,
          215,
          210,
          205,
          203,
          200,
          196,
          194,
          194,
          189,
          188,
          177,
          153,
          151,
          148,
          136,
          122,
          118,
          111,
          110,
          107,
          100,
          99,
          90,
          84,
          84,
          82,
          78,
          77,
          76,
          75,
          74,
          72,
          71,
          70,
          68,
          65,
          63,
          62,
          61,
          60,
          60,
          60,
          59,
          55,
          51,
          50,
          50,
          48,
          46,
          46,
          44,
          42,
          41,
          41,
          41,
          39,
          39,
          39,
          38,
          38,
          36,
          35,
          35,
          34,
          32,
          32,
          31,
          30,
          29,
          27,
          26,
          25,
          24,
          23,
          22,
          22,
          21,
          19,
          19,
          19,
          18,
          18,
          18,
          18,
          16,
          16,
          15,
          11,
          11,
          11,
          10,
          10,
          9,
          9,
          9,
          9,
          8,
          8,
          8,
          8,
          8,
          8,
          8,
          8,
          7,
          7,
          7,
          6,
          6,
          6,
          6,
          5,
          5,
          5,
          5,
          5,
          5,
          5,
          4,
          4,
          4,
          4,
          4,
          3,
          3,
          3,
          3,
          3,
          3,
          3,
          2,
          2,
          2,
          2,
          2,
          2,
          2,
          2,
          2,
          2,
          2,
          2,
          2,
          2,
          1,
          1,
          1,
          1,
          1,
          1,
          1,
          1,
          1,
          1,
          1,
          1,
          1,
          1,
          1,
          1,
          1,
          1,
          1,
          1,
          1,
          1,
          1,
          1
         ],
         "yaxis": "y"
        }
       ],
       "layout": {
        "barmode": "relative",
        "height": 600,
        "legend": {
         "tracegroupgap": 0
        },
        "margin": {
         "t": 60
        },
        "plot_bgcolor": "white",
        "showlegend": false,
        "template": {
         "data": {
          "bar": [
           {
            "error_x": {
             "color": "#2a3f5f"
            },
            "error_y": {
             "color": "#2a3f5f"
            },
            "marker": {
             "line": {
              "color": "#E5ECF6",
              "width": 0.5
             }
            },
            "type": "bar"
           }
          ],
          "barpolar": [
           {
            "marker": {
             "line": {
              "color": "#E5ECF6",
              "width": 0.5
             }
            },
            "type": "barpolar"
           }
          ],
          "carpet": [
           {
            "aaxis": {
             "endlinecolor": "#2a3f5f",
             "gridcolor": "white",
             "linecolor": "white",
             "minorgridcolor": "white",
             "startlinecolor": "#2a3f5f"
            },
            "baxis": {
             "endlinecolor": "#2a3f5f",
             "gridcolor": "white",
             "linecolor": "white",
             "minorgridcolor": "white",
             "startlinecolor": "#2a3f5f"
            },
            "type": "carpet"
           }
          ],
          "choropleth": [
           {
            "colorbar": {
             "outlinewidth": 0,
             "ticks": ""
            },
            "type": "choropleth"
           }
          ],
          "contour": [
           {
            "colorbar": {
             "outlinewidth": 0,
             "ticks": ""
            },
            "colorscale": [
             [
              0,
              "#0d0887"
             ],
             [
              0.1111111111111111,
              "#46039f"
             ],
             [
              0.2222222222222222,
              "#7201a8"
             ],
             [
              0.3333333333333333,
              "#9c179e"
             ],
             [
              0.4444444444444444,
              "#bd3786"
             ],
             [
              0.5555555555555556,
              "#d8576b"
             ],
             [
              0.6666666666666666,
              "#ed7953"
             ],
             [
              0.7777777777777778,
              "#fb9f3a"
             ],
             [
              0.8888888888888888,
              "#fdca26"
             ],
             [
              1,
              "#f0f921"
             ]
            ],
            "type": "contour"
           }
          ],
          "contourcarpet": [
           {
            "colorbar": {
             "outlinewidth": 0,
             "ticks": ""
            },
            "type": "contourcarpet"
           }
          ],
          "heatmap": [
           {
            "colorbar": {
             "outlinewidth": 0,
             "ticks": ""
            },
            "colorscale": [
             [
              0,
              "#0d0887"
             ],
             [
              0.1111111111111111,
              "#46039f"
             ],
             [
              0.2222222222222222,
              "#7201a8"
             ],
             [
              0.3333333333333333,
              "#9c179e"
             ],
             [
              0.4444444444444444,
              "#bd3786"
             ],
             [
              0.5555555555555556,
              "#d8576b"
             ],
             [
              0.6666666666666666,
              "#ed7953"
             ],
             [
              0.7777777777777778,
              "#fb9f3a"
             ],
             [
              0.8888888888888888,
              "#fdca26"
             ],
             [
              1,
              "#f0f921"
             ]
            ],
            "type": "heatmap"
           }
          ],
          "heatmapgl": [
           {
            "colorbar": {
             "outlinewidth": 0,
             "ticks": ""
            },
            "colorscale": [
             [
              0,
              "#0d0887"
             ],
             [
              0.1111111111111111,
              "#46039f"
             ],
             [
              0.2222222222222222,
              "#7201a8"
             ],
             [
              0.3333333333333333,
              "#9c179e"
             ],
             [
              0.4444444444444444,
              "#bd3786"
             ],
             [
              0.5555555555555556,
              "#d8576b"
             ],
             [
              0.6666666666666666,
              "#ed7953"
             ],
             [
              0.7777777777777778,
              "#fb9f3a"
             ],
             [
              0.8888888888888888,
              "#fdca26"
             ],
             [
              1,
              "#f0f921"
             ]
            ],
            "type": "heatmapgl"
           }
          ],
          "histogram": [
           {
            "marker": {
             "colorbar": {
              "outlinewidth": 0,
              "ticks": ""
             }
            },
            "type": "histogram"
           }
          ],
          "histogram2d": [
           {
            "colorbar": {
             "outlinewidth": 0,
             "ticks": ""
            },
            "colorscale": [
             [
              0,
              "#0d0887"
             ],
             [
              0.1111111111111111,
              "#46039f"
             ],
             [
              0.2222222222222222,
              "#7201a8"
             ],
             [
              0.3333333333333333,
              "#9c179e"
             ],
             [
              0.4444444444444444,
              "#bd3786"
             ],
             [
              0.5555555555555556,
              "#d8576b"
             ],
             [
              0.6666666666666666,
              "#ed7953"
             ],
             [
              0.7777777777777778,
              "#fb9f3a"
             ],
             [
              0.8888888888888888,
              "#fdca26"
             ],
             [
              1,
              "#f0f921"
             ]
            ],
            "type": "histogram2d"
           }
          ],
          "histogram2dcontour": [
           {
            "colorbar": {
             "outlinewidth": 0,
             "ticks": ""
            },
            "colorscale": [
             [
              0,
              "#0d0887"
             ],
             [
              0.1111111111111111,
              "#46039f"
             ],
             [
              0.2222222222222222,
              "#7201a8"
             ],
             [
              0.3333333333333333,
              "#9c179e"
             ],
             [
              0.4444444444444444,
              "#bd3786"
             ],
             [
              0.5555555555555556,
              "#d8576b"
             ],
             [
              0.6666666666666666,
              "#ed7953"
             ],
             [
              0.7777777777777778,
              "#fb9f3a"
             ],
             [
              0.8888888888888888,
              "#fdca26"
             ],
             [
              1,
              "#f0f921"
             ]
            ],
            "type": "histogram2dcontour"
           }
          ],
          "mesh3d": [
           {
            "colorbar": {
             "outlinewidth": 0,
             "ticks": ""
            },
            "type": "mesh3d"
           }
          ],
          "parcoords": [
           {
            "line": {
             "colorbar": {
              "outlinewidth": 0,
              "ticks": ""
             }
            },
            "type": "parcoords"
           }
          ],
          "pie": [
           {
            "automargin": true,
            "type": "pie"
           }
          ],
          "scatter": [
           {
            "marker": {
             "colorbar": {
              "outlinewidth": 0,
              "ticks": ""
             }
            },
            "type": "scatter"
           }
          ],
          "scatter3d": [
           {
            "line": {
             "colorbar": {
              "outlinewidth": 0,
              "ticks": ""
             }
            },
            "marker": {
             "colorbar": {
              "outlinewidth": 0,
              "ticks": ""
             }
            },
            "type": "scatter3d"
           }
          ],
          "scattercarpet": [
           {
            "marker": {
             "colorbar": {
              "outlinewidth": 0,
              "ticks": ""
             }
            },
            "type": "scattercarpet"
           }
          ],
          "scattergeo": [
           {
            "marker": {
             "colorbar": {
              "outlinewidth": 0,
              "ticks": ""
             }
            },
            "type": "scattergeo"
           }
          ],
          "scattergl": [
           {
            "marker": {
             "colorbar": {
              "outlinewidth": 0,
              "ticks": ""
             }
            },
            "type": "scattergl"
           }
          ],
          "scattermapbox": [
           {
            "marker": {
             "colorbar": {
              "outlinewidth": 0,
              "ticks": ""
             }
            },
            "type": "scattermapbox"
           }
          ],
          "scatterpolar": [
           {
            "marker": {
             "colorbar": {
              "outlinewidth": 0,
              "ticks": ""
             }
            },
            "type": "scatterpolar"
           }
          ],
          "scatterpolargl": [
           {
            "marker": {
             "colorbar": {
              "outlinewidth": 0,
              "ticks": ""
             }
            },
            "type": "scatterpolargl"
           }
          ],
          "scatterternary": [
           {
            "marker": {
             "colorbar": {
              "outlinewidth": 0,
              "ticks": ""
             }
            },
            "type": "scatterternary"
           }
          ],
          "surface": [
           {
            "colorbar": {
             "outlinewidth": 0,
             "ticks": ""
            },
            "colorscale": [
             [
              0,
              "#0d0887"
             ],
             [
              0.1111111111111111,
              "#46039f"
             ],
             [
              0.2222222222222222,
              "#7201a8"
             ],
             [
              0.3333333333333333,
              "#9c179e"
             ],
             [
              0.4444444444444444,
              "#bd3786"
             ],
             [
              0.5555555555555556,
              "#d8576b"
             ],
             [
              0.6666666666666666,
              "#ed7953"
             ],
             [
              0.7777777777777778,
              "#fb9f3a"
             ],
             [
              0.8888888888888888,
              "#fdca26"
             ],
             [
              1,
              "#f0f921"
             ]
            ],
            "type": "surface"
           }
          ],
          "table": [
           {
            "cells": {
             "fill": {
              "color": "#EBF0F8"
             },
             "line": {
              "color": "white"
             }
            },
            "header": {
             "fill": {
              "color": "#C8D4E3"
             },
             "line": {
              "color": "white"
             }
            },
            "type": "table"
           }
          ]
         },
         "layout": {
          "annotationdefaults": {
           "arrowcolor": "#2a3f5f",
           "arrowhead": 0,
           "arrowwidth": 1
          },
          "coloraxis": {
           "colorbar": {
            "outlinewidth": 0,
            "ticks": ""
           }
          },
          "colorscale": {
           "diverging": [
            [
             0,
             "#8e0152"
            ],
            [
             0.1,
             "#c51b7d"
            ],
            [
             0.2,
             "#de77ae"
            ],
            [
             0.3,
             "#f1b6da"
            ],
            [
             0.4,
             "#fde0ef"
            ],
            [
             0.5,
             "#f7f7f7"
            ],
            [
             0.6,
             "#e6f5d0"
            ],
            [
             0.7,
             "#b8e186"
            ],
            [
             0.8,
             "#7fbc41"
            ],
            [
             0.9,
             "#4d9221"
            ],
            [
             1,
             "#276419"
            ]
           ],
           "sequential": [
            [
             0,
             "#0d0887"
            ],
            [
             0.1111111111111111,
             "#46039f"
            ],
            [
             0.2222222222222222,
             "#7201a8"
            ],
            [
             0.3333333333333333,
             "#9c179e"
            ],
            [
             0.4444444444444444,
             "#bd3786"
            ],
            [
             0.5555555555555556,
             "#d8576b"
            ],
            [
             0.6666666666666666,
             "#ed7953"
            ],
            [
             0.7777777777777778,
             "#fb9f3a"
            ],
            [
             0.8888888888888888,
             "#fdca26"
            ],
            [
             1,
             "#f0f921"
            ]
           ],
           "sequentialminus": [
            [
             0,
             "#0d0887"
            ],
            [
             0.1111111111111111,
             "#46039f"
            ],
            [
             0.2222222222222222,
             "#7201a8"
            ],
            [
             0.3333333333333333,
             "#9c179e"
            ],
            [
             0.4444444444444444,
             "#bd3786"
            ],
            [
             0.5555555555555556,
             "#d8576b"
            ],
            [
             0.6666666666666666,
             "#ed7953"
            ],
            [
             0.7777777777777778,
             "#fb9f3a"
            ],
            [
             0.8888888888888888,
             "#fdca26"
            ],
            [
             1,
             "#f0f921"
            ]
           ]
          },
          "colorway": [
           "#636efa",
           "#EF553B",
           "#00cc96",
           "#ab63fa",
           "#FFA15A",
           "#19d3f3",
           "#FF6692",
           "#B6E880",
           "#FF97FF",
           "#FECB52"
          ],
          "font": {
           "color": "#2a3f5f"
          },
          "geo": {
           "bgcolor": "white",
           "lakecolor": "white",
           "landcolor": "#E5ECF6",
           "showlakes": true,
           "showland": true,
           "subunitcolor": "white"
          },
          "hoverlabel": {
           "align": "left"
          },
          "hovermode": "closest",
          "mapbox": {
           "style": "light"
          },
          "paper_bgcolor": "white",
          "plot_bgcolor": "#E5ECF6",
          "polar": {
           "angularaxis": {
            "gridcolor": "white",
            "linecolor": "white",
            "ticks": ""
           },
           "bgcolor": "#E5ECF6",
           "radialaxis": {
            "gridcolor": "white",
            "linecolor": "white",
            "ticks": ""
           }
          },
          "scene": {
           "xaxis": {
            "backgroundcolor": "#E5ECF6",
            "gridcolor": "white",
            "gridwidth": 2,
            "linecolor": "white",
            "showbackground": true,
            "ticks": "",
            "zerolinecolor": "white"
           },
           "yaxis": {
            "backgroundcolor": "#E5ECF6",
            "gridcolor": "white",
            "gridwidth": 2,
            "linecolor": "white",
            "showbackground": true,
            "ticks": "",
            "zerolinecolor": "white"
           },
           "zaxis": {
            "backgroundcolor": "#E5ECF6",
            "gridcolor": "white",
            "gridwidth": 2,
            "linecolor": "white",
            "showbackground": true,
            "ticks": "",
            "zerolinecolor": "white"
           }
          },
          "shapedefaults": {
           "line": {
            "color": "#2a3f5f"
           }
          },
          "ternary": {
           "aaxis": {
            "gridcolor": "white",
            "linecolor": "white",
            "ticks": ""
           },
           "baxis": {
            "gridcolor": "white",
            "linecolor": "white",
            "ticks": ""
           },
           "bgcolor": "#E5ECF6",
           "caxis": {
            "gridcolor": "white",
            "linecolor": "white",
            "ticks": ""
           }
          },
          "title": {
           "x": 0.05
          },
          "xaxis": {
           "automargin": true,
           "gridcolor": "white",
           "linecolor": "white",
           "ticks": "",
           "title": {
            "standoff": 15
           },
           "zerolinecolor": "white",
           "zerolinewidth": 2
          },
          "yaxis": {
           "automargin": true,
           "gridcolor": "white",
           "linecolor": "white",
           "ticks": "",
           "title": {
            "standoff": 15
           },
           "zerolinecolor": "white",
           "zerolinewidth": 2
          }
         }
        },
        "title": {
         "text": "Bestselling products"
        },
        "xaxis": {
         "anchor": "y",
         "domain": [
          0,
          1
         ],
         "title": {
          "text": "x"
         }
        },
        "yaxis": {
         "anchor": "x",
         "domain": [
          0,
          1
         ],
         "title": {
          "text": "y"
         }
        }
       }
      }
     },
     "metadata": {}
    }
   ],
   "source": [
    "import plotly.express as px\n",
    "\n",
    "fig = px.bar(y=bestselling_products.Description.values, x=bestselling_products.index)\n",
    "fig.update_layout(title_text=\"Bestselling products\", plot_bgcolor=\"white\", showlegend=False)\n",
    "fig.show()"
   ]
  },
  {
   "cell_type": "code",
   "execution_count": 12,
   "metadata": {},
   "outputs": [
    {
     "output_type": "display_data",
     "data": {
      "application/vnd.plotly.v1+json": {
       "config": {
        "plotlyServerURL": "https://plot.ly"
       },
       "data": [
        {
         "type": "scatter",
         "x": [
          2012,
          2013,
          2014
         ],
         "y": [
          1291,
          3802,
          3274
         ]
        }
       ],
       "layout": {
        "plot_bgcolor": "white",
        "showlegend": false,
        "template": {
         "data": {
          "bar": [
           {
            "error_x": {
             "color": "#2a3f5f"
            },
            "error_y": {
             "color": "#2a3f5f"
            },
            "marker": {
             "line": {
              "color": "#E5ECF6",
              "width": 0.5
             }
            },
            "type": "bar"
           }
          ],
          "barpolar": [
           {
            "marker": {
             "line": {
              "color": "#E5ECF6",
              "width": 0.5
             }
            },
            "type": "barpolar"
           }
          ],
          "carpet": [
           {
            "aaxis": {
             "endlinecolor": "#2a3f5f",
             "gridcolor": "white",
             "linecolor": "white",
             "minorgridcolor": "white",
             "startlinecolor": "#2a3f5f"
            },
            "baxis": {
             "endlinecolor": "#2a3f5f",
             "gridcolor": "white",
             "linecolor": "white",
             "minorgridcolor": "white",
             "startlinecolor": "#2a3f5f"
            },
            "type": "carpet"
           }
          ],
          "choropleth": [
           {
            "colorbar": {
             "outlinewidth": 0,
             "ticks": ""
            },
            "type": "choropleth"
           }
          ],
          "contour": [
           {
            "colorbar": {
             "outlinewidth": 0,
             "ticks": ""
            },
            "colorscale": [
             [
              0,
              "#0d0887"
             ],
             [
              0.1111111111111111,
              "#46039f"
             ],
             [
              0.2222222222222222,
              "#7201a8"
             ],
             [
              0.3333333333333333,
              "#9c179e"
             ],
             [
              0.4444444444444444,
              "#bd3786"
             ],
             [
              0.5555555555555556,
              "#d8576b"
             ],
             [
              0.6666666666666666,
              "#ed7953"
             ],
             [
              0.7777777777777778,
              "#fb9f3a"
             ],
             [
              0.8888888888888888,
              "#fdca26"
             ],
             [
              1,
              "#f0f921"
             ]
            ],
            "type": "contour"
           }
          ],
          "contourcarpet": [
           {
            "colorbar": {
             "outlinewidth": 0,
             "ticks": ""
            },
            "type": "contourcarpet"
           }
          ],
          "heatmap": [
           {
            "colorbar": {
             "outlinewidth": 0,
             "ticks": ""
            },
            "colorscale": [
             [
              0,
              "#0d0887"
             ],
             [
              0.1111111111111111,
              "#46039f"
             ],
             [
              0.2222222222222222,
              "#7201a8"
             ],
             [
              0.3333333333333333,
              "#9c179e"
             ],
             [
              0.4444444444444444,
              "#bd3786"
             ],
             [
              0.5555555555555556,
              "#d8576b"
             ],
             [
              0.6666666666666666,
              "#ed7953"
             ],
             [
              0.7777777777777778,
              "#fb9f3a"
             ],
             [
              0.8888888888888888,
              "#fdca26"
             ],
             [
              1,
              "#f0f921"
             ]
            ],
            "type": "heatmap"
           }
          ],
          "heatmapgl": [
           {
            "colorbar": {
             "outlinewidth": 0,
             "ticks": ""
            },
            "colorscale": [
             [
              0,
              "#0d0887"
             ],
             [
              0.1111111111111111,
              "#46039f"
             ],
             [
              0.2222222222222222,
              "#7201a8"
             ],
             [
              0.3333333333333333,
              "#9c179e"
             ],
             [
              0.4444444444444444,
              "#bd3786"
             ],
             [
              0.5555555555555556,
              "#d8576b"
             ],
             [
              0.6666666666666666,
              "#ed7953"
             ],
             [
              0.7777777777777778,
              "#fb9f3a"
             ],
             [
              0.8888888888888888,
              "#fdca26"
             ],
             [
              1,
              "#f0f921"
             ]
            ],
            "type": "heatmapgl"
           }
          ],
          "histogram": [
           {
            "marker": {
             "colorbar": {
              "outlinewidth": 0,
              "ticks": ""
             }
            },
            "type": "histogram"
           }
          ],
          "histogram2d": [
           {
            "colorbar": {
             "outlinewidth": 0,
             "ticks": ""
            },
            "colorscale": [
             [
              0,
              "#0d0887"
             ],
             [
              0.1111111111111111,
              "#46039f"
             ],
             [
              0.2222222222222222,
              "#7201a8"
             ],
             [
              0.3333333333333333,
              "#9c179e"
             ],
             [
              0.4444444444444444,
              "#bd3786"
             ],
             [
              0.5555555555555556,
              "#d8576b"
             ],
             [
              0.6666666666666666,
              "#ed7953"
             ],
             [
              0.7777777777777778,
              "#fb9f3a"
             ],
             [
              0.8888888888888888,
              "#fdca26"
             ],
             [
              1,
              "#f0f921"
             ]
            ],
            "type": "histogram2d"
           }
          ],
          "histogram2dcontour": [
           {
            "colorbar": {
             "outlinewidth": 0,
             "ticks": ""
            },
            "colorscale": [
             [
              0,
              "#0d0887"
             ],
             [
              0.1111111111111111,
              "#46039f"
             ],
             [
              0.2222222222222222,
              "#7201a8"
             ],
             [
              0.3333333333333333,
              "#9c179e"
             ],
             [
              0.4444444444444444,
              "#bd3786"
             ],
             [
              0.5555555555555556,
              "#d8576b"
             ],
             [
              0.6666666666666666,
              "#ed7953"
             ],
             [
              0.7777777777777778,
              "#fb9f3a"
             ],
             [
              0.8888888888888888,
              "#fdca26"
             ],
             [
              1,
              "#f0f921"
             ]
            ],
            "type": "histogram2dcontour"
           }
          ],
          "mesh3d": [
           {
            "colorbar": {
             "outlinewidth": 0,
             "ticks": ""
            },
            "type": "mesh3d"
           }
          ],
          "parcoords": [
           {
            "line": {
             "colorbar": {
              "outlinewidth": 0,
              "ticks": ""
             }
            },
            "type": "parcoords"
           }
          ],
          "pie": [
           {
            "automargin": true,
            "type": "pie"
           }
          ],
          "scatter": [
           {
            "marker": {
             "colorbar": {
              "outlinewidth": 0,
              "ticks": ""
             }
            },
            "type": "scatter"
           }
          ],
          "scatter3d": [
           {
            "line": {
             "colorbar": {
              "outlinewidth": 0,
              "ticks": ""
             }
            },
            "marker": {
             "colorbar": {
              "outlinewidth": 0,
              "ticks": ""
             }
            },
            "type": "scatter3d"
           }
          ],
          "scattercarpet": [
           {
            "marker": {
             "colorbar": {
              "outlinewidth": 0,
              "ticks": ""
             }
            },
            "type": "scattercarpet"
           }
          ],
          "scattergeo": [
           {
            "marker": {
             "colorbar": {
              "outlinewidth": 0,
              "ticks": ""
             }
            },
            "type": "scattergeo"
           }
          ],
          "scattergl": [
           {
            "marker": {
             "colorbar": {
              "outlinewidth": 0,
              "ticks": ""
             }
            },
            "type": "scattergl"
           }
          ],
          "scattermapbox": [
           {
            "marker": {
             "colorbar": {
              "outlinewidth": 0,
              "ticks": ""
             }
            },
            "type": "scattermapbox"
           }
          ],
          "scatterpolar": [
           {
            "marker": {
             "colorbar": {
              "outlinewidth": 0,
              "ticks": ""
             }
            },
            "type": "scatterpolar"
           }
          ],
          "scatterpolargl": [
           {
            "marker": {
             "colorbar": {
              "outlinewidth": 0,
              "ticks": ""
             }
            },
            "type": "scatterpolargl"
           }
          ],
          "scatterternary": [
           {
            "marker": {
             "colorbar": {
              "outlinewidth": 0,
              "ticks": ""
             }
            },
            "type": "scatterternary"
           }
          ],
          "surface": [
           {
            "colorbar": {
             "outlinewidth": 0,
             "ticks": ""
            },
            "colorscale": [
             [
              0,
              "#0d0887"
             ],
             [
              0.1111111111111111,
              "#46039f"
             ],
             [
              0.2222222222222222,
              "#7201a8"
             ],
             [
              0.3333333333333333,
              "#9c179e"
             ],
             [
              0.4444444444444444,
              "#bd3786"
             ],
             [
              0.5555555555555556,
              "#d8576b"
             ],
             [
              0.6666666666666666,
              "#ed7953"
             ],
             [
              0.7777777777777778,
              "#fb9f3a"
             ],
             [
              0.8888888888888888,
              "#fdca26"
             ],
             [
              1,
              "#f0f921"
             ]
            ],
            "type": "surface"
           }
          ],
          "table": [
           {
            "cells": {
             "fill": {
              "color": "#EBF0F8"
             },
             "line": {
              "color": "white"
             }
            },
            "header": {
             "fill": {
              "color": "#C8D4E3"
             },
             "line": {
              "color": "white"
             }
            },
            "type": "table"
           }
          ]
         },
         "layout": {
          "annotationdefaults": {
           "arrowcolor": "#2a3f5f",
           "arrowhead": 0,
           "arrowwidth": 1
          },
          "coloraxis": {
           "colorbar": {
            "outlinewidth": 0,
            "ticks": ""
           }
          },
          "colorscale": {
           "diverging": [
            [
             0,
             "#8e0152"
            ],
            [
             0.1,
             "#c51b7d"
            ],
            [
             0.2,
             "#de77ae"
            ],
            [
             0.3,
             "#f1b6da"
            ],
            [
             0.4,
             "#fde0ef"
            ],
            [
             0.5,
             "#f7f7f7"
            ],
            [
             0.6,
             "#e6f5d0"
            ],
            [
             0.7,
             "#b8e186"
            ],
            [
             0.8,
             "#7fbc41"
            ],
            [
             0.9,
             "#4d9221"
            ],
            [
             1,
             "#276419"
            ]
           ],
           "sequential": [
            [
             0,
             "#0d0887"
            ],
            [
             0.1111111111111111,
             "#46039f"
            ],
            [
             0.2222222222222222,
             "#7201a8"
            ],
            [
             0.3333333333333333,
             "#9c179e"
            ],
            [
             0.4444444444444444,
             "#bd3786"
            ],
            [
             0.5555555555555556,
             "#d8576b"
            ],
            [
             0.6666666666666666,
             "#ed7953"
            ],
            [
             0.7777777777777778,
             "#fb9f3a"
            ],
            [
             0.8888888888888888,
             "#fdca26"
            ],
            [
             1,
             "#f0f921"
            ]
           ],
           "sequentialminus": [
            [
             0,
             "#0d0887"
            ],
            [
             0.1111111111111111,
             "#46039f"
            ],
            [
             0.2222222222222222,
             "#7201a8"
            ],
            [
             0.3333333333333333,
             "#9c179e"
            ],
            [
             0.4444444444444444,
             "#bd3786"
            ],
            [
             0.5555555555555556,
             "#d8576b"
            ],
            [
             0.6666666666666666,
             "#ed7953"
            ],
            [
             0.7777777777777778,
             "#fb9f3a"
            ],
            [
             0.8888888888888888,
             "#fdca26"
            ],
            [
             1,
             "#f0f921"
            ]
           ]
          },
          "colorway": [
           "#636efa",
           "#EF553B",
           "#00cc96",
           "#ab63fa",
           "#FFA15A",
           "#19d3f3",
           "#FF6692",
           "#B6E880",
           "#FF97FF",
           "#FECB52"
          ],
          "font": {
           "color": "#2a3f5f"
          },
          "geo": {
           "bgcolor": "white",
           "lakecolor": "white",
           "landcolor": "#E5ECF6",
           "showlakes": true,
           "showland": true,
           "subunitcolor": "white"
          },
          "hoverlabel": {
           "align": "left"
          },
          "hovermode": "closest",
          "mapbox": {
           "style": "light"
          },
          "paper_bgcolor": "white",
          "plot_bgcolor": "#E5ECF6",
          "polar": {
           "angularaxis": {
            "gridcolor": "white",
            "linecolor": "white",
            "ticks": ""
           },
           "bgcolor": "#E5ECF6",
           "radialaxis": {
            "gridcolor": "white",
            "linecolor": "white",
            "ticks": ""
           }
          },
          "scene": {
           "xaxis": {
            "backgroundcolor": "#E5ECF6",
            "gridcolor": "white",
            "gridwidth": 2,
            "linecolor": "white",
            "showbackground": true,
            "ticks": "",
            "zerolinecolor": "white"
           },
           "yaxis": {
            "backgroundcolor": "#E5ECF6",
            "gridcolor": "white",
            "gridwidth": 2,
            "linecolor": "white",
            "showbackground": true,
            "ticks": "",
            "zerolinecolor": "white"
           },
           "zaxis": {
            "backgroundcolor": "#E5ECF6",
            "gridcolor": "white",
            "gridwidth": 2,
            "linecolor": "white",
            "showbackground": true,
            "ticks": "",
            "zerolinecolor": "white"
           }
          },
          "shapedefaults": {
           "line": {
            "color": "#2a3f5f"
           }
          },
          "ternary": {
           "aaxis": {
            "gridcolor": "white",
            "linecolor": "white",
            "ticks": ""
           },
           "baxis": {
            "gridcolor": "white",
            "linecolor": "white",
            "ticks": ""
           },
           "bgcolor": "#E5ECF6",
           "caxis": {
            "gridcolor": "white",
            "linecolor": "white",
            "ticks": ""
           }
          },
          "title": {
           "x": 0.05
          },
          "xaxis": {
           "automargin": true,
           "gridcolor": "white",
           "linecolor": "white",
           "ticks": "",
           "title": {
            "standoff": 15
           },
           "zerolinecolor": "white",
           "zerolinewidth": 2
          },
          "yaxis": {
           "automargin": true,
           "gridcolor": "white",
           "linecolor": "white",
           "ticks": "",
           "title": {
            "standoff": 15
           },
           "zerolinecolor": "white",
           "zerolinewidth": 2
          }
         }
        },
        "title": {
         "text": "Orders per Year"
        }
       }
      }
     },
     "metadata": {}
    },
    {
     "output_type": "display_data",
     "data": {
      "application/vnd.plotly.v1+json": {
       "config": {
        "plotlyServerURL": "https://plot.ly"
       },
       "data": [
        {
         "type": "scatter",
         "x": [
          "2011-12",
          "2012-01",
          "2012-02",
          "2012-03",
          "2012-04",
          "2012-05",
          "2012-06",
          "2012-07",
          "2012-08",
          "2012-09",
          "2012-10",
          "2012-11",
          "2012-12",
          "2013-01",
          "2013-02",
          "2013-03",
          "2013-04",
          "2013-05",
          "2013-06",
          "2013-07",
          "2013-08",
          "2013-09",
          "2013-10",
          "2013-11",
          "2013-12",
          "2014-01",
          "2014-02",
          "2014-03",
          "2014-04",
          "2014-05",
          "2014-06",
          "2014-07",
          "2014-08",
          "2014-09"
         ],
         "y": [
          20,
          32,
          23,
          48,
          43,
          62,
          85,
          102,
          133,
          159,
          183,
          214,
          207,
          251,
          217,
          262,
          225,
          342,
          341,
          368,
          379,
          347,
          351,
          369,
          350,
          360,
          336,
          374,
          341,
          386,
          375,
          371,
          344,
          337
         ]
        }
       ],
       "layout": {
        "plot_bgcolor": "white",
        "showlegend": false,
        "template": {
         "data": {
          "bar": [
           {
            "error_x": {
             "color": "#2a3f5f"
            },
            "error_y": {
             "color": "#2a3f5f"
            },
            "marker": {
             "line": {
              "color": "#E5ECF6",
              "width": 0.5
             }
            },
            "type": "bar"
           }
          ],
          "barpolar": [
           {
            "marker": {
             "line": {
              "color": "#E5ECF6",
              "width": 0.5
             }
            },
            "type": "barpolar"
           }
          ],
          "carpet": [
           {
            "aaxis": {
             "endlinecolor": "#2a3f5f",
             "gridcolor": "white",
             "linecolor": "white",
             "minorgridcolor": "white",
             "startlinecolor": "#2a3f5f"
            },
            "baxis": {
             "endlinecolor": "#2a3f5f",
             "gridcolor": "white",
             "linecolor": "white",
             "minorgridcolor": "white",
             "startlinecolor": "#2a3f5f"
            },
            "type": "carpet"
           }
          ],
          "choropleth": [
           {
            "colorbar": {
             "outlinewidth": 0,
             "ticks": ""
            },
            "type": "choropleth"
           }
          ],
          "contour": [
           {
            "colorbar": {
             "outlinewidth": 0,
             "ticks": ""
            },
            "colorscale": [
             [
              0,
              "#0d0887"
             ],
             [
              0.1111111111111111,
              "#46039f"
             ],
             [
              0.2222222222222222,
              "#7201a8"
             ],
             [
              0.3333333333333333,
              "#9c179e"
             ],
             [
              0.4444444444444444,
              "#bd3786"
             ],
             [
              0.5555555555555556,
              "#d8576b"
             ],
             [
              0.6666666666666666,
              "#ed7953"
             ],
             [
              0.7777777777777778,
              "#fb9f3a"
             ],
             [
              0.8888888888888888,
              "#fdca26"
             ],
             [
              1,
              "#f0f921"
             ]
            ],
            "type": "contour"
           }
          ],
          "contourcarpet": [
           {
            "colorbar": {
             "outlinewidth": 0,
             "ticks": ""
            },
            "type": "contourcarpet"
           }
          ],
          "heatmap": [
           {
            "colorbar": {
             "outlinewidth": 0,
             "ticks": ""
            },
            "colorscale": [
             [
              0,
              "#0d0887"
             ],
             [
              0.1111111111111111,
              "#46039f"
             ],
             [
              0.2222222222222222,
              "#7201a8"
             ],
             [
              0.3333333333333333,
              "#9c179e"
             ],
             [
              0.4444444444444444,
              "#bd3786"
             ],
             [
              0.5555555555555556,
              "#d8576b"
             ],
             [
              0.6666666666666666,
              "#ed7953"
             ],
             [
              0.7777777777777778,
              "#fb9f3a"
             ],
             [
              0.8888888888888888,
              "#fdca26"
             ],
             [
              1,
              "#f0f921"
             ]
            ],
            "type": "heatmap"
           }
          ],
          "heatmapgl": [
           {
            "colorbar": {
             "outlinewidth": 0,
             "ticks": ""
            },
            "colorscale": [
             [
              0,
              "#0d0887"
             ],
             [
              0.1111111111111111,
              "#46039f"
             ],
             [
              0.2222222222222222,
              "#7201a8"
             ],
             [
              0.3333333333333333,
              "#9c179e"
             ],
             [
              0.4444444444444444,
              "#bd3786"
             ],
             [
              0.5555555555555556,
              "#d8576b"
             ],
             [
              0.6666666666666666,
              "#ed7953"
             ],
             [
              0.7777777777777778,
              "#fb9f3a"
             ],
             [
              0.8888888888888888,
              "#fdca26"
             ],
             [
              1,
              "#f0f921"
             ]
            ],
            "type": "heatmapgl"
           }
          ],
          "histogram": [
           {
            "marker": {
             "colorbar": {
              "outlinewidth": 0,
              "ticks": ""
             }
            },
            "type": "histogram"
           }
          ],
          "histogram2d": [
           {
            "colorbar": {
             "outlinewidth": 0,
             "ticks": ""
            },
            "colorscale": [
             [
              0,
              "#0d0887"
             ],
             [
              0.1111111111111111,
              "#46039f"
             ],
             [
              0.2222222222222222,
              "#7201a8"
             ],
             [
              0.3333333333333333,
              "#9c179e"
             ],
             [
              0.4444444444444444,
              "#bd3786"
             ],
             [
              0.5555555555555556,
              "#d8576b"
             ],
             [
              0.6666666666666666,
              "#ed7953"
             ],
             [
              0.7777777777777778,
              "#fb9f3a"
             ],
             [
              0.8888888888888888,
              "#fdca26"
             ],
             [
              1,
              "#f0f921"
             ]
            ],
            "type": "histogram2d"
           }
          ],
          "histogram2dcontour": [
           {
            "colorbar": {
             "outlinewidth": 0,
             "ticks": ""
            },
            "colorscale": [
             [
              0,
              "#0d0887"
             ],
             [
              0.1111111111111111,
              "#46039f"
             ],
             [
              0.2222222222222222,
              "#7201a8"
             ],
             [
              0.3333333333333333,
              "#9c179e"
             ],
             [
              0.4444444444444444,
              "#bd3786"
             ],
             [
              0.5555555555555556,
              "#d8576b"
             ],
             [
              0.6666666666666666,
              "#ed7953"
             ],
             [
              0.7777777777777778,
              "#fb9f3a"
             ],
             [
              0.8888888888888888,
              "#fdca26"
             ],
             [
              1,
              "#f0f921"
             ]
            ],
            "type": "histogram2dcontour"
           }
          ],
          "mesh3d": [
           {
            "colorbar": {
             "outlinewidth": 0,
             "ticks": ""
            },
            "type": "mesh3d"
           }
          ],
          "parcoords": [
           {
            "line": {
             "colorbar": {
              "outlinewidth": 0,
              "ticks": ""
             }
            },
            "type": "parcoords"
           }
          ],
          "pie": [
           {
            "automargin": true,
            "type": "pie"
           }
          ],
          "scatter": [
           {
            "marker": {
             "colorbar": {
              "outlinewidth": 0,
              "ticks": ""
             }
            },
            "type": "scatter"
           }
          ],
          "scatter3d": [
           {
            "line": {
             "colorbar": {
              "outlinewidth": 0,
              "ticks": ""
             }
            },
            "marker": {
             "colorbar": {
              "outlinewidth": 0,
              "ticks": ""
             }
            },
            "type": "scatter3d"
           }
          ],
          "scattercarpet": [
           {
            "marker": {
             "colorbar": {
              "outlinewidth": 0,
              "ticks": ""
             }
            },
            "type": "scattercarpet"
           }
          ],
          "scattergeo": [
           {
            "marker": {
             "colorbar": {
              "outlinewidth": 0,
              "ticks": ""
             }
            },
            "type": "scattergeo"
           }
          ],
          "scattergl": [
           {
            "marker": {
             "colorbar": {
              "outlinewidth": 0,
              "ticks": ""
             }
            },
            "type": "scattergl"
           }
          ],
          "scattermapbox": [
           {
            "marker": {
             "colorbar": {
              "outlinewidth": 0,
              "ticks": ""
             }
            },
            "type": "scattermapbox"
           }
          ],
          "scatterpolar": [
           {
            "marker": {
             "colorbar": {
              "outlinewidth": 0,
              "ticks": ""
             }
            },
            "type": "scatterpolar"
           }
          ],
          "scatterpolargl": [
           {
            "marker": {
             "colorbar": {
              "outlinewidth": 0,
              "ticks": ""
             }
            },
            "type": "scatterpolargl"
           }
          ],
          "scatterternary": [
           {
            "marker": {
             "colorbar": {
              "outlinewidth": 0,
              "ticks": ""
             }
            },
            "type": "scatterternary"
           }
          ],
          "surface": [
           {
            "colorbar": {
             "outlinewidth": 0,
             "ticks": ""
            },
            "colorscale": [
             [
              0,
              "#0d0887"
             ],
             [
              0.1111111111111111,
              "#46039f"
             ],
             [
              0.2222222222222222,
              "#7201a8"
             ],
             [
              0.3333333333333333,
              "#9c179e"
             ],
             [
              0.4444444444444444,
              "#bd3786"
             ],
             [
              0.5555555555555556,
              "#d8576b"
             ],
             [
              0.6666666666666666,
              "#ed7953"
             ],
             [
              0.7777777777777778,
              "#fb9f3a"
             ],
             [
              0.8888888888888888,
              "#fdca26"
             ],
             [
              1,
              "#f0f921"
             ]
            ],
            "type": "surface"
           }
          ],
          "table": [
           {
            "cells": {
             "fill": {
              "color": "#EBF0F8"
             },
             "line": {
              "color": "white"
             }
            },
            "header": {
             "fill": {
              "color": "#C8D4E3"
             },
             "line": {
              "color": "white"
             }
            },
            "type": "table"
           }
          ]
         },
         "layout": {
          "annotationdefaults": {
           "arrowcolor": "#2a3f5f",
           "arrowhead": 0,
           "arrowwidth": 1
          },
          "coloraxis": {
           "colorbar": {
            "outlinewidth": 0,
            "ticks": ""
           }
          },
          "colorscale": {
           "diverging": [
            [
             0,
             "#8e0152"
            ],
            [
             0.1,
             "#c51b7d"
            ],
            [
             0.2,
             "#de77ae"
            ],
            [
             0.3,
             "#f1b6da"
            ],
            [
             0.4,
             "#fde0ef"
            ],
            [
             0.5,
             "#f7f7f7"
            ],
            [
             0.6,
             "#e6f5d0"
            ],
            [
             0.7,
             "#b8e186"
            ],
            [
             0.8,
             "#7fbc41"
            ],
            [
             0.9,
             "#4d9221"
            ],
            [
             1,
             "#276419"
            ]
           ],
           "sequential": [
            [
             0,
             "#0d0887"
            ],
            [
             0.1111111111111111,
             "#46039f"
            ],
            [
             0.2222222222222222,
             "#7201a8"
            ],
            [
             0.3333333333333333,
             "#9c179e"
            ],
            [
             0.4444444444444444,
             "#bd3786"
            ],
            [
             0.5555555555555556,
             "#d8576b"
            ],
            [
             0.6666666666666666,
             "#ed7953"
            ],
            [
             0.7777777777777778,
             "#fb9f3a"
            ],
            [
             0.8888888888888888,
             "#fdca26"
            ],
            [
             1,
             "#f0f921"
            ]
           ],
           "sequentialminus": [
            [
             0,
             "#0d0887"
            ],
            [
             0.1111111111111111,
             "#46039f"
            ],
            [
             0.2222222222222222,
             "#7201a8"
            ],
            [
             0.3333333333333333,
             "#9c179e"
            ],
            [
             0.4444444444444444,
             "#bd3786"
            ],
            [
             0.5555555555555556,
             "#d8576b"
            ],
            [
             0.6666666666666666,
             "#ed7953"
            ],
            [
             0.7777777777777778,
             "#fb9f3a"
            ],
            [
             0.8888888888888888,
             "#fdca26"
            ],
            [
             1,
             "#f0f921"
            ]
           ]
          },
          "colorway": [
           "#636efa",
           "#EF553B",
           "#00cc96",
           "#ab63fa",
           "#FFA15A",
           "#19d3f3",
           "#FF6692",
           "#B6E880",
           "#FF97FF",
           "#FECB52"
          ],
          "font": {
           "color": "#2a3f5f"
          },
          "geo": {
           "bgcolor": "white",
           "lakecolor": "white",
           "landcolor": "#E5ECF6",
           "showlakes": true,
           "showland": true,
           "subunitcolor": "white"
          },
          "hoverlabel": {
           "align": "left"
          },
          "hovermode": "closest",
          "mapbox": {
           "style": "light"
          },
          "paper_bgcolor": "white",
          "plot_bgcolor": "#E5ECF6",
          "polar": {
           "angularaxis": {
            "gridcolor": "white",
            "linecolor": "white",
            "ticks": ""
           },
           "bgcolor": "#E5ECF6",
           "radialaxis": {
            "gridcolor": "white",
            "linecolor": "white",
            "ticks": ""
           }
          },
          "scene": {
           "xaxis": {
            "backgroundcolor": "#E5ECF6",
            "gridcolor": "white",
            "gridwidth": 2,
            "linecolor": "white",
            "showbackground": true,
            "ticks": "",
            "zerolinecolor": "white"
           },
           "yaxis": {
            "backgroundcolor": "#E5ECF6",
            "gridcolor": "white",
            "gridwidth": 2,
            "linecolor": "white",
            "showbackground": true,
            "ticks": "",
            "zerolinecolor": "white"
           },
           "zaxis": {
            "backgroundcolor": "#E5ECF6",
            "gridcolor": "white",
            "gridwidth": 2,
            "linecolor": "white",
            "showbackground": true,
            "ticks": "",
            "zerolinecolor": "white"
           }
          },
          "shapedefaults": {
           "line": {
            "color": "#2a3f5f"
           }
          },
          "ternary": {
           "aaxis": {
            "gridcolor": "white",
            "linecolor": "white",
            "ticks": ""
           },
           "baxis": {
            "gridcolor": "white",
            "linecolor": "white",
            "ticks": ""
           },
           "bgcolor": "#E5ECF6",
           "caxis": {
            "gridcolor": "white",
            "linecolor": "white",
            "ticks": ""
           }
          },
          "title": {
           "x": 0.05
          },
          "xaxis": {
           "automargin": true,
           "gridcolor": "white",
           "linecolor": "white",
           "ticks": "",
           "title": {
            "standoff": 15
           },
           "zerolinecolor": "white",
           "zerolinewidth": 2
          },
          "yaxis": {
           "automargin": true,
           "gridcolor": "white",
           "linecolor": "white",
           "ticks": "",
           "title": {
            "standoff": 15
           },
           "zerolinecolor": "white",
           "zerolinewidth": 2
          }
         }
        },
        "title": {
         "text": "Orders development over last year"
        }
       }
      }
     },
     "metadata": {}
    },
    {
     "output_type": "display_data",
     "data": {
      "application/vnd.plotly.v1+json": {
       "config": {
        "plotlyServerURL": "https://plot.ly"
       },
       "data": [
        {
         "type": "scatter",
         "x": [
          "Monday",
          "Tuesday",
          "Wednesday",
          "Thursday",
          "Friday",
          "Saturday",
          "Sunday"
         ],
         "y": [
          1186,
          1094,
          1078,
          1144,
          1250,
          1435,
          1200
         ]
        }
       ],
       "layout": {
        "plot_bgcolor": "white",
        "showlegend": false,
        "template": {
         "data": {
          "bar": [
           {
            "error_x": {
             "color": "#2a3f5f"
            },
            "error_y": {
             "color": "#2a3f5f"
            },
            "marker": {
             "line": {
              "color": "#E5ECF6",
              "width": 0.5
             }
            },
            "type": "bar"
           }
          ],
          "barpolar": [
           {
            "marker": {
             "line": {
              "color": "#E5ECF6",
              "width": 0.5
             }
            },
            "type": "barpolar"
           }
          ],
          "carpet": [
           {
            "aaxis": {
             "endlinecolor": "#2a3f5f",
             "gridcolor": "white",
             "linecolor": "white",
             "minorgridcolor": "white",
             "startlinecolor": "#2a3f5f"
            },
            "baxis": {
             "endlinecolor": "#2a3f5f",
             "gridcolor": "white",
             "linecolor": "white",
             "minorgridcolor": "white",
             "startlinecolor": "#2a3f5f"
            },
            "type": "carpet"
           }
          ],
          "choropleth": [
           {
            "colorbar": {
             "outlinewidth": 0,
             "ticks": ""
            },
            "type": "choropleth"
           }
          ],
          "contour": [
           {
            "colorbar": {
             "outlinewidth": 0,
             "ticks": ""
            },
            "colorscale": [
             [
              0,
              "#0d0887"
             ],
             [
              0.1111111111111111,
              "#46039f"
             ],
             [
              0.2222222222222222,
              "#7201a8"
             ],
             [
              0.3333333333333333,
              "#9c179e"
             ],
             [
              0.4444444444444444,
              "#bd3786"
             ],
             [
              0.5555555555555556,
              "#d8576b"
             ],
             [
              0.6666666666666666,
              "#ed7953"
             ],
             [
              0.7777777777777778,
              "#fb9f3a"
             ],
             [
              0.8888888888888888,
              "#fdca26"
             ],
             [
              1,
              "#f0f921"
             ]
            ],
            "type": "contour"
           }
          ],
          "contourcarpet": [
           {
            "colorbar": {
             "outlinewidth": 0,
             "ticks": ""
            },
            "type": "contourcarpet"
           }
          ],
          "heatmap": [
           {
            "colorbar": {
             "outlinewidth": 0,
             "ticks": ""
            },
            "colorscale": [
             [
              0,
              "#0d0887"
             ],
             [
              0.1111111111111111,
              "#46039f"
             ],
             [
              0.2222222222222222,
              "#7201a8"
             ],
             [
              0.3333333333333333,
              "#9c179e"
             ],
             [
              0.4444444444444444,
              "#bd3786"
             ],
             [
              0.5555555555555556,
              "#d8576b"
             ],
             [
              0.6666666666666666,
              "#ed7953"
             ],
             [
              0.7777777777777778,
              "#fb9f3a"
             ],
             [
              0.8888888888888888,
              "#fdca26"
             ],
             [
              1,
              "#f0f921"
             ]
            ],
            "type": "heatmap"
           }
          ],
          "heatmapgl": [
           {
            "colorbar": {
             "outlinewidth": 0,
             "ticks": ""
            },
            "colorscale": [
             [
              0,
              "#0d0887"
             ],
             [
              0.1111111111111111,
              "#46039f"
             ],
             [
              0.2222222222222222,
              "#7201a8"
             ],
             [
              0.3333333333333333,
              "#9c179e"
             ],
             [
              0.4444444444444444,
              "#bd3786"
             ],
             [
              0.5555555555555556,
              "#d8576b"
             ],
             [
              0.6666666666666666,
              "#ed7953"
             ],
             [
              0.7777777777777778,
              "#fb9f3a"
             ],
             [
              0.8888888888888888,
              "#fdca26"
             ],
             [
              1,
              "#f0f921"
             ]
            ],
            "type": "heatmapgl"
           }
          ],
          "histogram": [
           {
            "marker": {
             "colorbar": {
              "outlinewidth": 0,
              "ticks": ""
             }
            },
            "type": "histogram"
           }
          ],
          "histogram2d": [
           {
            "colorbar": {
             "outlinewidth": 0,
             "ticks": ""
            },
            "colorscale": [
             [
              0,
              "#0d0887"
             ],
             [
              0.1111111111111111,
              "#46039f"
             ],
             [
              0.2222222222222222,
              "#7201a8"
             ],
             [
              0.3333333333333333,
              "#9c179e"
             ],
             [
              0.4444444444444444,
              "#bd3786"
             ],
             [
              0.5555555555555556,
              "#d8576b"
             ],
             [
              0.6666666666666666,
              "#ed7953"
             ],
             [
              0.7777777777777778,
              "#fb9f3a"
             ],
             [
              0.8888888888888888,
              "#fdca26"
             ],
             [
              1,
              "#f0f921"
             ]
            ],
            "type": "histogram2d"
           }
          ],
          "histogram2dcontour": [
           {
            "colorbar": {
             "outlinewidth": 0,
             "ticks": ""
            },
            "colorscale": [
             [
              0,
              "#0d0887"
             ],
             [
              0.1111111111111111,
              "#46039f"
             ],
             [
              0.2222222222222222,
              "#7201a8"
             ],
             [
              0.3333333333333333,
              "#9c179e"
             ],
             [
              0.4444444444444444,
              "#bd3786"
             ],
             [
              0.5555555555555556,
              "#d8576b"
             ],
             [
              0.6666666666666666,
              "#ed7953"
             ],
             [
              0.7777777777777778,
              "#fb9f3a"
             ],
             [
              0.8888888888888888,
              "#fdca26"
             ],
             [
              1,
              "#f0f921"
             ]
            ],
            "type": "histogram2dcontour"
           }
          ],
          "mesh3d": [
           {
            "colorbar": {
             "outlinewidth": 0,
             "ticks": ""
            },
            "type": "mesh3d"
           }
          ],
          "parcoords": [
           {
            "line": {
             "colorbar": {
              "outlinewidth": 0,
              "ticks": ""
             }
            },
            "type": "parcoords"
           }
          ],
          "pie": [
           {
            "automargin": true,
            "type": "pie"
           }
          ],
          "scatter": [
           {
            "marker": {
             "colorbar": {
              "outlinewidth": 0,
              "ticks": ""
             }
            },
            "type": "scatter"
           }
          ],
          "scatter3d": [
           {
            "line": {
             "colorbar": {
              "outlinewidth": 0,
              "ticks": ""
             }
            },
            "marker": {
             "colorbar": {
              "outlinewidth": 0,
              "ticks": ""
             }
            },
            "type": "scatter3d"
           }
          ],
          "scattercarpet": [
           {
            "marker": {
             "colorbar": {
              "outlinewidth": 0,
              "ticks": ""
             }
            },
            "type": "scattercarpet"
           }
          ],
          "scattergeo": [
           {
            "marker": {
             "colorbar": {
              "outlinewidth": 0,
              "ticks": ""
             }
            },
            "type": "scattergeo"
           }
          ],
          "scattergl": [
           {
            "marker": {
             "colorbar": {
              "outlinewidth": 0,
              "ticks": ""
             }
            },
            "type": "scattergl"
           }
          ],
          "scattermapbox": [
           {
            "marker": {
             "colorbar": {
              "outlinewidth": 0,
              "ticks": ""
             }
            },
            "type": "scattermapbox"
           }
          ],
          "scatterpolar": [
           {
            "marker": {
             "colorbar": {
              "outlinewidth": 0,
              "ticks": ""
             }
            },
            "type": "scatterpolar"
           }
          ],
          "scatterpolargl": [
           {
            "marker": {
             "colorbar": {
              "outlinewidth": 0,
              "ticks": ""
             }
            },
            "type": "scatterpolargl"
           }
          ],
          "scatterternary": [
           {
            "marker": {
             "colorbar": {
              "outlinewidth": 0,
              "ticks": ""
             }
            },
            "type": "scatterternary"
           }
          ],
          "surface": [
           {
            "colorbar": {
             "outlinewidth": 0,
             "ticks": ""
            },
            "colorscale": [
             [
              0,
              "#0d0887"
             ],
             [
              0.1111111111111111,
              "#46039f"
             ],
             [
              0.2222222222222222,
              "#7201a8"
             ],
             [
              0.3333333333333333,
              "#9c179e"
             ],
             [
              0.4444444444444444,
              "#bd3786"
             ],
             [
              0.5555555555555556,
              "#d8576b"
             ],
             [
              0.6666666666666666,
              "#ed7953"
             ],
             [
              0.7777777777777778,
              "#fb9f3a"
             ],
             [
              0.8888888888888888,
              "#fdca26"
             ],
             [
              1,
              "#f0f921"
             ]
            ],
            "type": "surface"
           }
          ],
          "table": [
           {
            "cells": {
             "fill": {
              "color": "#EBF0F8"
             },
             "line": {
              "color": "white"
             }
            },
            "header": {
             "fill": {
              "color": "#C8D4E3"
             },
             "line": {
              "color": "white"
             }
            },
            "type": "table"
           }
          ]
         },
         "layout": {
          "annotationdefaults": {
           "arrowcolor": "#2a3f5f",
           "arrowhead": 0,
           "arrowwidth": 1
          },
          "coloraxis": {
           "colorbar": {
            "outlinewidth": 0,
            "ticks": ""
           }
          },
          "colorscale": {
           "diverging": [
            [
             0,
             "#8e0152"
            ],
            [
             0.1,
             "#c51b7d"
            ],
            [
             0.2,
             "#de77ae"
            ],
            [
             0.3,
             "#f1b6da"
            ],
            [
             0.4,
             "#fde0ef"
            ],
            [
             0.5,
             "#f7f7f7"
            ],
            [
             0.6,
             "#e6f5d0"
            ],
            [
             0.7,
             "#b8e186"
            ],
            [
             0.8,
             "#7fbc41"
            ],
            [
             0.9,
             "#4d9221"
            ],
            [
             1,
             "#276419"
            ]
           ],
           "sequential": [
            [
             0,
             "#0d0887"
            ],
            [
             0.1111111111111111,
             "#46039f"
            ],
            [
             0.2222222222222222,
             "#7201a8"
            ],
            [
             0.3333333333333333,
             "#9c179e"
            ],
            [
             0.4444444444444444,
             "#bd3786"
            ],
            [
             0.5555555555555556,
             "#d8576b"
            ],
            [
             0.6666666666666666,
             "#ed7953"
            ],
            [
             0.7777777777777778,
             "#fb9f3a"
            ],
            [
             0.8888888888888888,
             "#fdca26"
            ],
            [
             1,
             "#f0f921"
            ]
           ],
           "sequentialminus": [
            [
             0,
             "#0d0887"
            ],
            [
             0.1111111111111111,
             "#46039f"
            ],
            [
             0.2222222222222222,
             "#7201a8"
            ],
            [
             0.3333333333333333,
             "#9c179e"
            ],
            [
             0.4444444444444444,
             "#bd3786"
            ],
            [
             0.5555555555555556,
             "#d8576b"
            ],
            [
             0.6666666666666666,
             "#ed7953"
            ],
            [
             0.7777777777777778,
             "#fb9f3a"
            ],
            [
             0.8888888888888888,
             "#fdca26"
            ],
            [
             1,
             "#f0f921"
            ]
           ]
          },
          "colorway": [
           "#636efa",
           "#EF553B",
           "#00cc96",
           "#ab63fa",
           "#FFA15A",
           "#19d3f3",
           "#FF6692",
           "#B6E880",
           "#FF97FF",
           "#FECB52"
          ],
          "font": {
           "color": "#2a3f5f"
          },
          "geo": {
           "bgcolor": "white",
           "lakecolor": "white",
           "landcolor": "#E5ECF6",
           "showlakes": true,
           "showland": true,
           "subunitcolor": "white"
          },
          "hoverlabel": {
           "align": "left"
          },
          "hovermode": "closest",
          "mapbox": {
           "style": "light"
          },
          "paper_bgcolor": "white",
          "plot_bgcolor": "#E5ECF6",
          "polar": {
           "angularaxis": {
            "gridcolor": "white",
            "linecolor": "white",
            "ticks": ""
           },
           "bgcolor": "#E5ECF6",
           "radialaxis": {
            "gridcolor": "white",
            "linecolor": "white",
            "ticks": ""
           }
          },
          "scene": {
           "xaxis": {
            "backgroundcolor": "#E5ECF6",
            "gridcolor": "white",
            "gridwidth": 2,
            "linecolor": "white",
            "showbackground": true,
            "ticks": "",
            "zerolinecolor": "white"
           },
           "yaxis": {
            "backgroundcolor": "#E5ECF6",
            "gridcolor": "white",
            "gridwidth": 2,
            "linecolor": "white",
            "showbackground": true,
            "ticks": "",
            "zerolinecolor": "white"
           },
           "zaxis": {
            "backgroundcolor": "#E5ECF6",
            "gridcolor": "white",
            "gridwidth": 2,
            "linecolor": "white",
            "showbackground": true,
            "ticks": "",
            "zerolinecolor": "white"
           }
          },
          "shapedefaults": {
           "line": {
            "color": "#2a3f5f"
           }
          },
          "ternary": {
           "aaxis": {
            "gridcolor": "white",
            "linecolor": "white",
            "ticks": ""
           },
           "baxis": {
            "gridcolor": "white",
            "linecolor": "white",
            "ticks": ""
           },
           "bgcolor": "#E5ECF6",
           "caxis": {
            "gridcolor": "white",
            "linecolor": "white",
            "ticks": ""
           }
          },
          "title": {
           "x": 0.05
          },
          "xaxis": {
           "automargin": true,
           "gridcolor": "white",
           "linecolor": "white",
           "ticks": "",
           "title": {
            "standoff": 15
           },
           "zerolinecolor": "white",
           "zerolinewidth": 2
          },
          "yaxis": {
           "automargin": true,
           "gridcolor": "white",
           "linecolor": "white",
           "ticks": "",
           "title": {
            "standoff": 15
           },
           "zerolinecolor": "white",
           "zerolinewidth": 2
          }
         }
        },
        "title": {
         "text": "Order per Weekday"
        }
       }
      }
     },
     "metadata": {}
    }
   ],
   "source": [
    "# Order over time \n",
    "df[\"Year\"] = df.Date.dt.year\n",
    "y = df[[\"Year\", \"Order\"]].groupby(\"Year\").agg({\"Order\": \"nunique\"}).Order\n",
    "fig = go.Figure(data=go.Scatter(x=y.index[1:], y=y[1:]))\n",
    "fig.update_layout(title_text=\"Orders per Year\", plot_bgcolor=\"white\", showlegend=False)\n",
    "fig.show()\n",
    "\n",
    "df['MonthYear'] = pd.to_datetime(df['Date']).dt.to_period('M')\n",
    "y = df[df.MonthYear != \"2014-10\"][[\"MonthYear\", \"Order\"]].groupby(\"MonthYear\").agg({\"Order\": \"nunique\"}).Order\n",
    "fig = go.Figure(data=go.Scatter(x=y.index.astype(str), y=y))\n",
    "fig.update_layout(title_text=\"Orders development over last year\", plot_bgcolor=\"white\", showlegend=False)\n",
    "fig.show()\n",
    "\n",
    "df[\"DayOfWeek\"] = df.Date.dt.day_name()\n",
    "y = df[[\"DayOfWeek\", \"Order\"]].groupby(\"DayOfWeek\").agg({\"Order\": \"nunique\"}).Order.reindex([\"Monday\", \"Tuesday\", \"Wednesday\", \"Thursday\", \"Friday\", \"Saturday\", \"Sunday\"])\n",
    "fig = go.Figure(data=go.Scatter(x=y.index.astype(str), y=y))\n",
    "fig.update_layout(title_text=\"Order per Weekday\", plot_bgcolor=\"white\", showlegend=False)\n",
    "fig.show()"
   ]
  },
  {
   "cell_type": "code",
   "execution_count": 13,
   "metadata": {},
   "outputs": [
    {
     "output_type": "display_data",
     "data": {
      "application/vnd.plotly.v1+json": {
       "config": {
        "plotlyServerURL": "https://plot.ly"
       },
       "data": [
        {
         "type": "scatter",
         "x": [
          "2011-12",
          "2012-01",
          "2012-02",
          "2012-03",
          "2012-04",
          "2012-05",
          "2012-06",
          "2012-07",
          "2012-08",
          "2012-09",
          "2012-10",
          "2012-11",
          "2012-12",
          "2013-01",
          "2013-02",
          "2013-03",
          "2013-04",
          "2013-05",
          "2013-06",
          "2013-07",
          "2013-08",
          "2013-09",
          "2013-10",
          "2013-11",
          "2013-12",
          "2014-01",
          "2014-02",
          "2014-03",
          "2014-04",
          "2014-05",
          "2014-06",
          "2014-07",
          "2014-08",
          "2014-09"
         ],
         "y": [
          5.85,
          6.46875,
          8.695652173913043,
          6.270833333333333,
          6.511627906976744,
          6.370967741935484,
          6.623529411764705,
          7.715686274509804,
          8.052631578947368,
          8.044025157232705,
          7.327868852459017,
          7.696261682242991,
          8.31400966183575,
          8.099601593625499,
          7.211981566820277,
          7.50763358778626,
          7.622222222222222,
          6.909356725146199,
          7.55425219941349,
          7.380434782608695,
          7.424802110817942,
          7.322766570605188,
          7.364672364672365,
          6.826558265582656,
          7.6657142857142855,
          7.588888888888889,
          7.3601190476190474,
          7.451871657754011,
          6.633431085043989,
          7.05699481865285,
          7.386666666666667,
          7.051212938005391,
          7.869186046511628,
          7.70326409495549
         ]
        }
       ],
       "layout": {
        "plot_bgcolor": "white",
        "showlegend": false,
        "template": {
         "data": {
          "bar": [
           {
            "error_x": {
             "color": "#2a3f5f"
            },
            "error_y": {
             "color": "#2a3f5f"
            },
            "marker": {
             "line": {
              "color": "#E5ECF6",
              "width": 0.5
             }
            },
            "type": "bar"
           }
          ],
          "barpolar": [
           {
            "marker": {
             "line": {
              "color": "#E5ECF6",
              "width": 0.5
             }
            },
            "type": "barpolar"
           }
          ],
          "carpet": [
           {
            "aaxis": {
             "endlinecolor": "#2a3f5f",
             "gridcolor": "white",
             "linecolor": "white",
             "minorgridcolor": "white",
             "startlinecolor": "#2a3f5f"
            },
            "baxis": {
             "endlinecolor": "#2a3f5f",
             "gridcolor": "white",
             "linecolor": "white",
             "minorgridcolor": "white",
             "startlinecolor": "#2a3f5f"
            },
            "type": "carpet"
           }
          ],
          "choropleth": [
           {
            "colorbar": {
             "outlinewidth": 0,
             "ticks": ""
            },
            "type": "choropleth"
           }
          ],
          "contour": [
           {
            "colorbar": {
             "outlinewidth": 0,
             "ticks": ""
            },
            "colorscale": [
             [
              0,
              "#0d0887"
             ],
             [
              0.1111111111111111,
              "#46039f"
             ],
             [
              0.2222222222222222,
              "#7201a8"
             ],
             [
              0.3333333333333333,
              "#9c179e"
             ],
             [
              0.4444444444444444,
              "#bd3786"
             ],
             [
              0.5555555555555556,
              "#d8576b"
             ],
             [
              0.6666666666666666,
              "#ed7953"
             ],
             [
              0.7777777777777778,
              "#fb9f3a"
             ],
             [
              0.8888888888888888,
              "#fdca26"
             ],
             [
              1,
              "#f0f921"
             ]
            ],
            "type": "contour"
           }
          ],
          "contourcarpet": [
           {
            "colorbar": {
             "outlinewidth": 0,
             "ticks": ""
            },
            "type": "contourcarpet"
           }
          ],
          "heatmap": [
           {
            "colorbar": {
             "outlinewidth": 0,
             "ticks": ""
            },
            "colorscale": [
             [
              0,
              "#0d0887"
             ],
             [
              0.1111111111111111,
              "#46039f"
             ],
             [
              0.2222222222222222,
              "#7201a8"
             ],
             [
              0.3333333333333333,
              "#9c179e"
             ],
             [
              0.4444444444444444,
              "#bd3786"
             ],
             [
              0.5555555555555556,
              "#d8576b"
             ],
             [
              0.6666666666666666,
              "#ed7953"
             ],
             [
              0.7777777777777778,
              "#fb9f3a"
             ],
             [
              0.8888888888888888,
              "#fdca26"
             ],
             [
              1,
              "#f0f921"
             ]
            ],
            "type": "heatmap"
           }
          ],
          "heatmapgl": [
           {
            "colorbar": {
             "outlinewidth": 0,
             "ticks": ""
            },
            "colorscale": [
             [
              0,
              "#0d0887"
             ],
             [
              0.1111111111111111,
              "#46039f"
             ],
             [
              0.2222222222222222,
              "#7201a8"
             ],
             [
              0.3333333333333333,
              "#9c179e"
             ],
             [
              0.4444444444444444,
              "#bd3786"
             ],
             [
              0.5555555555555556,
              "#d8576b"
             ],
             [
              0.6666666666666666,
              "#ed7953"
             ],
             [
              0.7777777777777778,
              "#fb9f3a"
             ],
             [
              0.8888888888888888,
              "#fdca26"
             ],
             [
              1,
              "#f0f921"
             ]
            ],
            "type": "heatmapgl"
           }
          ],
          "histogram": [
           {
            "marker": {
             "colorbar": {
              "outlinewidth": 0,
              "ticks": ""
             }
            },
            "type": "histogram"
           }
          ],
          "histogram2d": [
           {
            "colorbar": {
             "outlinewidth": 0,
             "ticks": ""
            },
            "colorscale": [
             [
              0,
              "#0d0887"
             ],
             [
              0.1111111111111111,
              "#46039f"
             ],
             [
              0.2222222222222222,
              "#7201a8"
             ],
             [
              0.3333333333333333,
              "#9c179e"
             ],
             [
              0.4444444444444444,
              "#bd3786"
             ],
             [
              0.5555555555555556,
              "#d8576b"
             ],
             [
              0.6666666666666666,
              "#ed7953"
             ],
             [
              0.7777777777777778,
              "#fb9f3a"
             ],
             [
              0.8888888888888888,
              "#fdca26"
             ],
             [
              1,
              "#f0f921"
             ]
            ],
            "type": "histogram2d"
           }
          ],
          "histogram2dcontour": [
           {
            "colorbar": {
             "outlinewidth": 0,
             "ticks": ""
            },
            "colorscale": [
             [
              0,
              "#0d0887"
             ],
             [
              0.1111111111111111,
              "#46039f"
             ],
             [
              0.2222222222222222,
              "#7201a8"
             ],
             [
              0.3333333333333333,
              "#9c179e"
             ],
             [
              0.4444444444444444,
              "#bd3786"
             ],
             [
              0.5555555555555556,
              "#d8576b"
             ],
             [
              0.6666666666666666,
              "#ed7953"
             ],
             [
              0.7777777777777778,
              "#fb9f3a"
             ],
             [
              0.8888888888888888,
              "#fdca26"
             ],
             [
              1,
              "#f0f921"
             ]
            ],
            "type": "histogram2dcontour"
           }
          ],
          "mesh3d": [
           {
            "colorbar": {
             "outlinewidth": 0,
             "ticks": ""
            },
            "type": "mesh3d"
           }
          ],
          "parcoords": [
           {
            "line": {
             "colorbar": {
              "outlinewidth": 0,
              "ticks": ""
             }
            },
            "type": "parcoords"
           }
          ],
          "pie": [
           {
            "automargin": true,
            "type": "pie"
           }
          ],
          "scatter": [
           {
            "marker": {
             "colorbar": {
              "outlinewidth": 0,
              "ticks": ""
             }
            },
            "type": "scatter"
           }
          ],
          "scatter3d": [
           {
            "line": {
             "colorbar": {
              "outlinewidth": 0,
              "ticks": ""
             }
            },
            "marker": {
             "colorbar": {
              "outlinewidth": 0,
              "ticks": ""
             }
            },
            "type": "scatter3d"
           }
          ],
          "scattercarpet": [
           {
            "marker": {
             "colorbar": {
              "outlinewidth": 0,
              "ticks": ""
             }
            },
            "type": "scattercarpet"
           }
          ],
          "scattergeo": [
           {
            "marker": {
             "colorbar": {
              "outlinewidth": 0,
              "ticks": ""
             }
            },
            "type": "scattergeo"
           }
          ],
          "scattergl": [
           {
            "marker": {
             "colorbar": {
              "outlinewidth": 0,
              "ticks": ""
             }
            },
            "type": "scattergl"
           }
          ],
          "scattermapbox": [
           {
            "marker": {
             "colorbar": {
              "outlinewidth": 0,
              "ticks": ""
             }
            },
            "type": "scattermapbox"
           }
          ],
          "scatterpolar": [
           {
            "marker": {
             "colorbar": {
              "outlinewidth": 0,
              "ticks": ""
             }
            },
            "type": "scatterpolar"
           }
          ],
          "scatterpolargl": [
           {
            "marker": {
             "colorbar": {
              "outlinewidth": 0,
              "ticks": ""
             }
            },
            "type": "scatterpolargl"
           }
          ],
          "scatterternary": [
           {
            "marker": {
             "colorbar": {
              "outlinewidth": 0,
              "ticks": ""
             }
            },
            "type": "scatterternary"
           }
          ],
          "surface": [
           {
            "colorbar": {
             "outlinewidth": 0,
             "ticks": ""
            },
            "colorscale": [
             [
              0,
              "#0d0887"
             ],
             [
              0.1111111111111111,
              "#46039f"
             ],
             [
              0.2222222222222222,
              "#7201a8"
             ],
             [
              0.3333333333333333,
              "#9c179e"
             ],
             [
              0.4444444444444444,
              "#bd3786"
             ],
             [
              0.5555555555555556,
              "#d8576b"
             ],
             [
              0.6666666666666666,
              "#ed7953"
             ],
             [
              0.7777777777777778,
              "#fb9f3a"
             ],
             [
              0.8888888888888888,
              "#fdca26"
             ],
             [
              1,
              "#f0f921"
             ]
            ],
            "type": "surface"
           }
          ],
          "table": [
           {
            "cells": {
             "fill": {
              "color": "#EBF0F8"
             },
             "line": {
              "color": "white"
             }
            },
            "header": {
             "fill": {
              "color": "#C8D4E3"
             },
             "line": {
              "color": "white"
             }
            },
            "type": "table"
           }
          ]
         },
         "layout": {
          "annotationdefaults": {
           "arrowcolor": "#2a3f5f",
           "arrowhead": 0,
           "arrowwidth": 1
          },
          "coloraxis": {
           "colorbar": {
            "outlinewidth": 0,
            "ticks": ""
           }
          },
          "colorscale": {
           "diverging": [
            [
             0,
             "#8e0152"
            ],
            [
             0.1,
             "#c51b7d"
            ],
            [
             0.2,
             "#de77ae"
            ],
            [
             0.3,
             "#f1b6da"
            ],
            [
             0.4,
             "#fde0ef"
            ],
            [
             0.5,
             "#f7f7f7"
            ],
            [
             0.6,
             "#e6f5d0"
            ],
            [
             0.7,
             "#b8e186"
            ],
            [
             0.8,
             "#7fbc41"
            ],
            [
             0.9,
             "#4d9221"
            ],
            [
             1,
             "#276419"
            ]
           ],
           "sequential": [
            [
             0,
             "#0d0887"
            ],
            [
             0.1111111111111111,
             "#46039f"
            ],
            [
             0.2222222222222222,
             "#7201a8"
            ],
            [
             0.3333333333333333,
             "#9c179e"
            ],
            [
             0.4444444444444444,
             "#bd3786"
            ],
            [
             0.5555555555555556,
             "#d8576b"
            ],
            [
             0.6666666666666666,
             "#ed7953"
            ],
            [
             0.7777777777777778,
             "#fb9f3a"
            ],
            [
             0.8888888888888888,
             "#fdca26"
            ],
            [
             1,
             "#f0f921"
            ]
           ],
           "sequentialminus": [
            [
             0,
             "#0d0887"
            ],
            [
             0.1111111111111111,
             "#46039f"
            ],
            [
             0.2222222222222222,
             "#7201a8"
            ],
            [
             0.3333333333333333,
             "#9c179e"
            ],
            [
             0.4444444444444444,
             "#bd3786"
            ],
            [
             0.5555555555555556,
             "#d8576b"
            ],
            [
             0.6666666666666666,
             "#ed7953"
            ],
            [
             0.7777777777777778,
             "#fb9f3a"
            ],
            [
             0.8888888888888888,
             "#fdca26"
            ],
            [
             1,
             "#f0f921"
            ]
           ]
          },
          "colorway": [
           "#636efa",
           "#EF553B",
           "#00cc96",
           "#ab63fa",
           "#FFA15A",
           "#19d3f3",
           "#FF6692",
           "#B6E880",
           "#FF97FF",
           "#FECB52"
          ],
          "font": {
           "color": "#2a3f5f"
          },
          "geo": {
           "bgcolor": "white",
           "lakecolor": "white",
           "landcolor": "#E5ECF6",
           "showlakes": true,
           "showland": true,
           "subunitcolor": "white"
          },
          "hoverlabel": {
           "align": "left"
          },
          "hovermode": "closest",
          "mapbox": {
           "style": "light"
          },
          "paper_bgcolor": "white",
          "plot_bgcolor": "#E5ECF6",
          "polar": {
           "angularaxis": {
            "gridcolor": "white",
            "linecolor": "white",
            "ticks": ""
           },
           "bgcolor": "#E5ECF6",
           "radialaxis": {
            "gridcolor": "white",
            "linecolor": "white",
            "ticks": ""
           }
          },
          "scene": {
           "xaxis": {
            "backgroundcolor": "#E5ECF6",
            "gridcolor": "white",
            "gridwidth": 2,
            "linecolor": "white",
            "showbackground": true,
            "ticks": "",
            "zerolinecolor": "white"
           },
           "yaxis": {
            "backgroundcolor": "#E5ECF6",
            "gridcolor": "white",
            "gridwidth": 2,
            "linecolor": "white",
            "showbackground": true,
            "ticks": "",
            "zerolinecolor": "white"
           },
           "zaxis": {
            "backgroundcolor": "#E5ECF6",
            "gridcolor": "white",
            "gridwidth": 2,
            "linecolor": "white",
            "showbackground": true,
            "ticks": "",
            "zerolinecolor": "white"
           }
          },
          "shapedefaults": {
           "line": {
            "color": "#2a3f5f"
           }
          },
          "ternary": {
           "aaxis": {
            "gridcolor": "white",
            "linecolor": "white",
            "ticks": ""
           },
           "baxis": {
            "gridcolor": "white",
            "linecolor": "white",
            "ticks": ""
           },
           "bgcolor": "#E5ECF6",
           "caxis": {
            "gridcolor": "white",
            "linecolor": "white",
            "ticks": ""
           }
          },
          "title": {
           "x": 0.05
          },
          "xaxis": {
           "automargin": true,
           "gridcolor": "white",
           "linecolor": "white",
           "ticks": "",
           "title": {
            "standoff": 15
           },
           "zerolinecolor": "white",
           "zerolinewidth": 2
          },
          "yaxis": {
           "automargin": true,
           "gridcolor": "white",
           "linecolor": "white",
           "ticks": "",
           "title": {
            "standoff": 15
           },
           "zerolinecolor": "white",
           "zerolinewidth": 2
          }
         }
        },
        "title": {
         "text": "Development of Order Size"
        }
       }
      }
     },
     "metadata": {}
    },
    {
     "output_type": "display_data",
     "data": {
      "application/vnd.plotly.v1+json": {
       "config": {
        "plotlyServerURL": "https://plot.ly"
       },
       "data": [
        {
         "type": "scatter",
         "x": [
          "Monday",
          "Tuesday",
          "Wednesday",
          "Thursday",
          "Friday",
          "Saturday",
          "Sunday"
         ],
         "y": [
          6.78752107925801,
          7.1361974405850095,
          6.9517625231910944,
          7.486888111888112,
          7.9848,
          7.986062717770035,
          7.32
         ]
        }
       ],
       "layout": {
        "plot_bgcolor": "white",
        "showlegend": false,
        "template": {
         "data": {
          "bar": [
           {
            "error_x": {
             "color": "#2a3f5f"
            },
            "error_y": {
             "color": "#2a3f5f"
            },
            "marker": {
             "line": {
              "color": "#E5ECF6",
              "width": 0.5
             }
            },
            "type": "bar"
           }
          ],
          "barpolar": [
           {
            "marker": {
             "line": {
              "color": "#E5ECF6",
              "width": 0.5
             }
            },
            "type": "barpolar"
           }
          ],
          "carpet": [
           {
            "aaxis": {
             "endlinecolor": "#2a3f5f",
             "gridcolor": "white",
             "linecolor": "white",
             "minorgridcolor": "white",
             "startlinecolor": "#2a3f5f"
            },
            "baxis": {
             "endlinecolor": "#2a3f5f",
             "gridcolor": "white",
             "linecolor": "white",
             "minorgridcolor": "white",
             "startlinecolor": "#2a3f5f"
            },
            "type": "carpet"
           }
          ],
          "choropleth": [
           {
            "colorbar": {
             "outlinewidth": 0,
             "ticks": ""
            },
            "type": "choropleth"
           }
          ],
          "contour": [
           {
            "colorbar": {
             "outlinewidth": 0,
             "ticks": ""
            },
            "colorscale": [
             [
              0,
              "#0d0887"
             ],
             [
              0.1111111111111111,
              "#46039f"
             ],
             [
              0.2222222222222222,
              "#7201a8"
             ],
             [
              0.3333333333333333,
              "#9c179e"
             ],
             [
              0.4444444444444444,
              "#bd3786"
             ],
             [
              0.5555555555555556,
              "#d8576b"
             ],
             [
              0.6666666666666666,
              "#ed7953"
             ],
             [
              0.7777777777777778,
              "#fb9f3a"
             ],
             [
              0.8888888888888888,
              "#fdca26"
             ],
             [
              1,
              "#f0f921"
             ]
            ],
            "type": "contour"
           }
          ],
          "contourcarpet": [
           {
            "colorbar": {
             "outlinewidth": 0,
             "ticks": ""
            },
            "type": "contourcarpet"
           }
          ],
          "heatmap": [
           {
            "colorbar": {
             "outlinewidth": 0,
             "ticks": ""
            },
            "colorscale": [
             [
              0,
              "#0d0887"
             ],
             [
              0.1111111111111111,
              "#46039f"
             ],
             [
              0.2222222222222222,
              "#7201a8"
             ],
             [
              0.3333333333333333,
              "#9c179e"
             ],
             [
              0.4444444444444444,
              "#bd3786"
             ],
             [
              0.5555555555555556,
              "#d8576b"
             ],
             [
              0.6666666666666666,
              "#ed7953"
             ],
             [
              0.7777777777777778,
              "#fb9f3a"
             ],
             [
              0.8888888888888888,
              "#fdca26"
             ],
             [
              1,
              "#f0f921"
             ]
            ],
            "type": "heatmap"
           }
          ],
          "heatmapgl": [
           {
            "colorbar": {
             "outlinewidth": 0,
             "ticks": ""
            },
            "colorscale": [
             [
              0,
              "#0d0887"
             ],
             [
              0.1111111111111111,
              "#46039f"
             ],
             [
              0.2222222222222222,
              "#7201a8"
             ],
             [
              0.3333333333333333,
              "#9c179e"
             ],
             [
              0.4444444444444444,
              "#bd3786"
             ],
             [
              0.5555555555555556,
              "#d8576b"
             ],
             [
              0.6666666666666666,
              "#ed7953"
             ],
             [
              0.7777777777777778,
              "#fb9f3a"
             ],
             [
              0.8888888888888888,
              "#fdca26"
             ],
             [
              1,
              "#f0f921"
             ]
            ],
            "type": "heatmapgl"
           }
          ],
          "histogram": [
           {
            "marker": {
             "colorbar": {
              "outlinewidth": 0,
              "ticks": ""
             }
            },
            "type": "histogram"
           }
          ],
          "histogram2d": [
           {
            "colorbar": {
             "outlinewidth": 0,
             "ticks": ""
            },
            "colorscale": [
             [
              0,
              "#0d0887"
             ],
             [
              0.1111111111111111,
              "#46039f"
             ],
             [
              0.2222222222222222,
              "#7201a8"
             ],
             [
              0.3333333333333333,
              "#9c179e"
             ],
             [
              0.4444444444444444,
              "#bd3786"
             ],
             [
              0.5555555555555556,
              "#d8576b"
             ],
             [
              0.6666666666666666,
              "#ed7953"
             ],
             [
              0.7777777777777778,
              "#fb9f3a"
             ],
             [
              0.8888888888888888,
              "#fdca26"
             ],
             [
              1,
              "#f0f921"
             ]
            ],
            "type": "histogram2d"
           }
          ],
          "histogram2dcontour": [
           {
            "colorbar": {
             "outlinewidth": 0,
             "ticks": ""
            },
            "colorscale": [
             [
              0,
              "#0d0887"
             ],
             [
              0.1111111111111111,
              "#46039f"
             ],
             [
              0.2222222222222222,
              "#7201a8"
             ],
             [
              0.3333333333333333,
              "#9c179e"
             ],
             [
              0.4444444444444444,
              "#bd3786"
             ],
             [
              0.5555555555555556,
              "#d8576b"
             ],
             [
              0.6666666666666666,
              "#ed7953"
             ],
             [
              0.7777777777777778,
              "#fb9f3a"
             ],
             [
              0.8888888888888888,
              "#fdca26"
             ],
             [
              1,
              "#f0f921"
             ]
            ],
            "type": "histogram2dcontour"
           }
          ],
          "mesh3d": [
           {
            "colorbar": {
             "outlinewidth": 0,
             "ticks": ""
            },
            "type": "mesh3d"
           }
          ],
          "parcoords": [
           {
            "line": {
             "colorbar": {
              "outlinewidth": 0,
              "ticks": ""
             }
            },
            "type": "parcoords"
           }
          ],
          "pie": [
           {
            "automargin": true,
            "type": "pie"
           }
          ],
          "scatter": [
           {
            "marker": {
             "colorbar": {
              "outlinewidth": 0,
              "ticks": ""
             }
            },
            "type": "scatter"
           }
          ],
          "scatter3d": [
           {
            "line": {
             "colorbar": {
              "outlinewidth": 0,
              "ticks": ""
             }
            },
            "marker": {
             "colorbar": {
              "outlinewidth": 0,
              "ticks": ""
             }
            },
            "type": "scatter3d"
           }
          ],
          "scattercarpet": [
           {
            "marker": {
             "colorbar": {
              "outlinewidth": 0,
              "ticks": ""
             }
            },
            "type": "scattercarpet"
           }
          ],
          "scattergeo": [
           {
            "marker": {
             "colorbar": {
              "outlinewidth": 0,
              "ticks": ""
             }
            },
            "type": "scattergeo"
           }
          ],
          "scattergl": [
           {
            "marker": {
             "colorbar": {
              "outlinewidth": 0,
              "ticks": ""
             }
            },
            "type": "scattergl"
           }
          ],
          "scattermapbox": [
           {
            "marker": {
             "colorbar": {
              "outlinewidth": 0,
              "ticks": ""
             }
            },
            "type": "scattermapbox"
           }
          ],
          "scatterpolar": [
           {
            "marker": {
             "colorbar": {
              "outlinewidth": 0,
              "ticks": ""
             }
            },
            "type": "scatterpolar"
           }
          ],
          "scatterpolargl": [
           {
            "marker": {
             "colorbar": {
              "outlinewidth": 0,
              "ticks": ""
             }
            },
            "type": "scatterpolargl"
           }
          ],
          "scatterternary": [
           {
            "marker": {
             "colorbar": {
              "outlinewidth": 0,
              "ticks": ""
             }
            },
            "type": "scatterternary"
           }
          ],
          "surface": [
           {
            "colorbar": {
             "outlinewidth": 0,
             "ticks": ""
            },
            "colorscale": [
             [
              0,
              "#0d0887"
             ],
             [
              0.1111111111111111,
              "#46039f"
             ],
             [
              0.2222222222222222,
              "#7201a8"
             ],
             [
              0.3333333333333333,
              "#9c179e"
             ],
             [
              0.4444444444444444,
              "#bd3786"
             ],
             [
              0.5555555555555556,
              "#d8576b"
             ],
             [
              0.6666666666666666,
              "#ed7953"
             ],
             [
              0.7777777777777778,
              "#fb9f3a"
             ],
             [
              0.8888888888888888,
              "#fdca26"
             ],
             [
              1,
              "#f0f921"
             ]
            ],
            "type": "surface"
           }
          ],
          "table": [
           {
            "cells": {
             "fill": {
              "color": "#EBF0F8"
             },
             "line": {
              "color": "white"
             }
            },
            "header": {
             "fill": {
              "color": "#C8D4E3"
             },
             "line": {
              "color": "white"
             }
            },
            "type": "table"
           }
          ]
         },
         "layout": {
          "annotationdefaults": {
           "arrowcolor": "#2a3f5f",
           "arrowhead": 0,
           "arrowwidth": 1
          },
          "coloraxis": {
           "colorbar": {
            "outlinewidth": 0,
            "ticks": ""
           }
          },
          "colorscale": {
           "diverging": [
            [
             0,
             "#8e0152"
            ],
            [
             0.1,
             "#c51b7d"
            ],
            [
             0.2,
             "#de77ae"
            ],
            [
             0.3,
             "#f1b6da"
            ],
            [
             0.4,
             "#fde0ef"
            ],
            [
             0.5,
             "#f7f7f7"
            ],
            [
             0.6,
             "#e6f5d0"
            ],
            [
             0.7,
             "#b8e186"
            ],
            [
             0.8,
             "#7fbc41"
            ],
            [
             0.9,
             "#4d9221"
            ],
            [
             1,
             "#276419"
            ]
           ],
           "sequential": [
            [
             0,
             "#0d0887"
            ],
            [
             0.1111111111111111,
             "#46039f"
            ],
            [
             0.2222222222222222,
             "#7201a8"
            ],
            [
             0.3333333333333333,
             "#9c179e"
            ],
            [
             0.4444444444444444,
             "#bd3786"
            ],
            [
             0.5555555555555556,
             "#d8576b"
            ],
            [
             0.6666666666666666,
             "#ed7953"
            ],
            [
             0.7777777777777778,
             "#fb9f3a"
            ],
            [
             0.8888888888888888,
             "#fdca26"
            ],
            [
             1,
             "#f0f921"
            ]
           ],
           "sequentialminus": [
            [
             0,
             "#0d0887"
            ],
            [
             0.1111111111111111,
             "#46039f"
            ],
            [
             0.2222222222222222,
             "#7201a8"
            ],
            [
             0.3333333333333333,
             "#9c179e"
            ],
            [
             0.4444444444444444,
             "#bd3786"
            ],
            [
             0.5555555555555556,
             "#d8576b"
            ],
            [
             0.6666666666666666,
             "#ed7953"
            ],
            [
             0.7777777777777778,
             "#fb9f3a"
            ],
            [
             0.8888888888888888,
             "#fdca26"
            ],
            [
             1,
             "#f0f921"
            ]
           ]
          },
          "colorway": [
           "#636efa",
           "#EF553B",
           "#00cc96",
           "#ab63fa",
           "#FFA15A",
           "#19d3f3",
           "#FF6692",
           "#B6E880",
           "#FF97FF",
           "#FECB52"
          ],
          "font": {
           "color": "#2a3f5f"
          },
          "geo": {
           "bgcolor": "white",
           "lakecolor": "white",
           "landcolor": "#E5ECF6",
           "showlakes": true,
           "showland": true,
           "subunitcolor": "white"
          },
          "hoverlabel": {
           "align": "left"
          },
          "hovermode": "closest",
          "mapbox": {
           "style": "light"
          },
          "paper_bgcolor": "white",
          "plot_bgcolor": "#E5ECF6",
          "polar": {
           "angularaxis": {
            "gridcolor": "white",
            "linecolor": "white",
            "ticks": ""
           },
           "bgcolor": "#E5ECF6",
           "radialaxis": {
            "gridcolor": "white",
            "linecolor": "white",
            "ticks": ""
           }
          },
          "scene": {
           "xaxis": {
            "backgroundcolor": "#E5ECF6",
            "gridcolor": "white",
            "gridwidth": 2,
            "linecolor": "white",
            "showbackground": true,
            "ticks": "",
            "zerolinecolor": "white"
           },
           "yaxis": {
            "backgroundcolor": "#E5ECF6",
            "gridcolor": "white",
            "gridwidth": 2,
            "linecolor": "white",
            "showbackground": true,
            "ticks": "",
            "zerolinecolor": "white"
           },
           "zaxis": {
            "backgroundcolor": "#E5ECF6",
            "gridcolor": "white",
            "gridwidth": 2,
            "linecolor": "white",
            "showbackground": true,
            "ticks": "",
            "zerolinecolor": "white"
           }
          },
          "shapedefaults": {
           "line": {
            "color": "#2a3f5f"
           }
          },
          "ternary": {
           "aaxis": {
            "gridcolor": "white",
            "linecolor": "white",
            "ticks": ""
           },
           "baxis": {
            "gridcolor": "white",
            "linecolor": "white",
            "ticks": ""
           },
           "bgcolor": "#E5ECF6",
           "caxis": {
            "gridcolor": "white",
            "linecolor": "white",
            "ticks": ""
           }
          },
          "title": {
           "x": 0.05
          },
          "xaxis": {
           "automargin": true,
           "gridcolor": "white",
           "linecolor": "white",
           "ticks": "",
           "title": {
            "standoff": 15
           },
           "zerolinecolor": "white",
           "zerolinewidth": 2
          },
          "yaxis": {
           "automargin": true,
           "gridcolor": "white",
           "linecolor": "white",
           "ticks": "",
           "title": {
            "standoff": 15
           },
           "zerolinecolor": "white",
           "zerolinewidth": 2
          }
         }
        },
        "title": {
         "text": "Order size per Weekday"
        }
       }
      }
     },
     "metadata": {}
    }
   ],
   "source": [
    "y= pd.DataFrame(df[df.MonthYear != \"2014-10\"][[\"SKU\", \"Order\", \"MonthYear\"]].groupby([\"MonthYear\", \"Order\"]).count().SKU).reset_index()[[\"MonthYear\", \"SKU\"]].groupby([\"MonthYear\"]).mean()\n",
    "\n",
    "fig = go.Figure(data=go.Scatter(x=y.index.astype(str), y=y.SKU))\n",
    "fig.update_layout(title_text=\"Development of Order Size\", plot_bgcolor=\"white\", showlegend=False)\n",
    "fig.show()\n",
    "\n",
    "y= pd.DataFrame(df[[\"SKU\", \"Order\", \"DayOfWeek\"]].groupby([\"DayOfWeek\", \"Order\"]).count().SKU).reset_index()[[\"DayOfWeek\", \"SKU\"]].groupby([\"DayOfWeek\"]).mean().reindex([\"Monday\", \"Tuesday\", \"Wednesday\", \"Thursday\", \"Friday\", \"Saturday\", \"Sunday\"])\n",
    "\n",
    "fig = go.Figure(data=go.Scatter(x=y.index.astype(str), y=y.SKU))\n",
    "fig.update_layout(title_text=\"Order size per Weekday\", plot_bgcolor=\"white\", showlegend=False)\n",
    "fig.show()"
   ]
  },
  {
   "cell_type": "code",
   "execution_count": 14,
   "metadata": {},
   "outputs": [
    {
     "output_type": "execute_result",
     "data": {
      "text/plain": "Other Jams                      9\nSoups                           9\nFlakes                          9\nPaneer & Tofu                   9\nDisposable Plates & Utensils    8\n                               ..\nTea                             1\nTalc                            1\nCookery Books                   1\nBiscuits                        1\nFestive Gift Pack               1\nName: Description, Length: 76, dtype: int64"
     },
     "metadata": {},
     "execution_count": 14
    }
   ],
   "source": [
    "df.Description.value_counts()[df.Description.value_counts() < 10]"
   ]
  },
  {
   "cell_type": "code",
   "execution_count": 15,
   "metadata": {},
   "outputs": [],
   "source": [
    "df[\"HelpCount\"] = 1\n",
    "bestselling_products_weekday = pd.DataFrame(df[[\"DayOfWeek\", \"Description\", \"HelpCount\"]].groupby([\"DayOfWeek\", \"Description\"]).count()).reset_index()"
   ]
  },
  {
   "cell_type": "code",
   "execution_count": 16,
   "metadata": {},
   "outputs": [
    {
     "output_type": "display_data",
     "data": {
      "application/vnd.plotly.v1+json": {
       "config": {
        "plotlyServerURL": "https://plot.ly"
       },
       "data": [
        {
         "name": "Monday",
         "type": "bar",
         "x": [
          "Beans",
          "Other Vegetables",
          "Root Vegetables",
          "Gourd & Cucumber",
          "Whole Spices",
          "Other Dals",
          "Namkeen",
          "Brinjals",
          "Banana",
          "Organic F&V",
          "Exotic Vegetables",
          "Sooji & Rava",
          "Moong Dal",
          "Toor Dal",
          "Sugar"
         ],
         "y": [
          0.07652173913043478,
          0.07428571428571429,
          0.06993788819875776,
          0.04944099378881987,
          0.04782608695652174,
          0.0462111801242236,
          0.044099378881987575,
          0.0431055900621118,
          0.0337888198757764,
          0.03366459627329193,
          0.0231055900621118,
          0.02198757763975155,
          0.02198757763975155,
          0.020993788819875778,
          0.01987577639751553
         ]
        },
        {
         "name": "Tuesday",
         "type": "bar",
         "x": [
          "Beans",
          "Other Vegetables",
          "Root Vegetables",
          "Whole Spices",
          "Other Dals",
          "Gourd & Cucumber",
          "Organic F&V",
          "Brinjals",
          "Banana",
          "Namkeen",
          "Sugar",
          "Moong Dal",
          "Sooji & Rava",
          "Exotic Vegetables",
          "Toor Dal"
         ],
         "y": [
          0.07634174458819008,
          0.07134622774433201,
          0.06250800563596771,
          0.059433841424362754,
          0.05469450493147176,
          0.05264506212373511,
          0.04483156141923914,
          0.04098885615473293,
          0.03112591264250032,
          0.03035737158959908,
          0.02510567439477392,
          0.023824772639938516,
          0.02177532983220187,
          0.02177532983220187,
          0.020494428077366466
         ]
        },
        {
         "name": "Wednesday",
         "type": "bar",
         "x": [
          "Beans",
          "Other Vegetables",
          "Root Vegetables",
          "Organic F&V",
          "Other Dals",
          "Gourd & Cucumber",
          "Whole Spices",
          "Brinjals",
          "Banana",
          "Namkeen",
          "Exotic Vegetables",
          "Sugar",
          "Moong Dal",
          "Sooji & Rava",
          "Toor Dal"
         ],
         "y": [
          0.07499332799572991,
          0.0744595676541233,
          0.07018948492127035,
          0.059781158259941285,
          0.05484387510008006,
          0.04697091006138244,
          0.04390178809714438,
          0.038030424339471576,
          0.034027221777421936,
          0.031892180410995466,
          0.028823058446757407,
          0.02241793434747798,
          0.021617293835068056,
          0.0214838537496664,
          0.02121697357886309
         ]
        },
        {
         "name": "Thursday",
         "type": "bar",
         "x": [
          "Beans",
          "Other Vegetables",
          "Root Vegetables",
          "Organic F&V",
          "Gourd & Cucumber",
          "Other Dals",
          "Whole Spices",
          "Brinjals",
          "Banana",
          "Namkeen",
          "Exotic Vegetables",
          "Sugar",
          "Moong Dal",
          "Sooji & Rava",
          "Toor Dal"
         ],
         "y": [
          0.07040280210157618,
          0.07005253940455342,
          0.06760070052539405,
          0.05872737886748395,
          0.052772913018096904,
          0.04938704028021016,
          0.04915353181552831,
          0.037011091652072385,
          0.03374197314652656,
          0.03175715119673088,
          0.027553998832457675,
          0.021015761821366025,
          0.0198482194979568,
          0.01973146526561588,
          0.0187974314068885
         ]
        },
        {
         "name": "Friday",
         "type": "bar",
         "x": [
          "Other Vegetables",
          "Beans",
          "Root Vegetables",
          "Organic F&V",
          "Other Dals",
          "Whole Spices",
          "Brinjals",
          "Gourd & Cucumber",
          "Namkeen",
          "Banana",
          "Exotic Vegetables",
          "Moong Dal",
          "Sooji & Rava",
          "Sugar",
          "Toor Dal"
         ],
         "y": [
          0.07524296162709147,
          0.07424105801021942,
          0.07243763149984972,
          0.060414788097385035,
          0.05690812543833283,
          0.04358280733393448,
          0.043081855525498446,
          0.041979761546939186,
          0.03757138563270213,
          0.037371004909327724,
          0.024847209698427013,
          0.02093978559262599,
          0.020539024145877167,
          0.02043883378418996,
          0.01813445546538423
         ]
        },
        {
         "name": "Saturday",
         "type": "bar",
         "x": [
          "Other Vegetables",
          "Root Vegetables",
          "Beans",
          "Other Dals",
          "Organic F&V",
          "Whole Spices",
          "Gourd & Cucumber",
          "Brinjals",
          "Banana",
          "Namkeen",
          "Moong Dal",
          "Toor Dal",
          "Sugar",
          "Raw Rice",
          "Sooji & Rava"
         ],
         "y": [
          0.0755671902268761,
          0.07137870855148343,
          0.07006980802792322,
          0.05331588132635253,
          0.05008726003490401,
          0.04712041884816754,
          0.04171029668411867,
          0.04022687609075044,
          0.03769633507853403,
          0.037609075043630015,
          0.025218150087260034,
          0.0231239092495637,
          0.02207678883071553,
          0.0193717277486911,
          0.018411867364746946
         ]
        },
        {
         "name": "Sunday",
         "type": "bar",
         "x": [
          "Other Vegetables",
          "Beans",
          "Root Vegetables",
          "Gourd & Cucumber",
          "Other Dals",
          "Whole Spices",
          "Brinjals",
          "Organic F&V",
          "Banana",
          "Namkeen",
          "Toor Dal",
          "Moong Dal",
          "Sooji & Rava",
          "Sugar",
          "Exotic Vegetables"
         ],
         "y": [
          0.07695810564663023,
          0.0714936247723133,
          0.06898907103825136,
          0.052709471766848814,
          0.052367941712204005,
          0.04861111111111111,
          0.04656193078324226,
          0.04143897996357013,
          0.036885245901639344,
          0.035860655737704916,
          0.02390710382513661,
          0.02163023679417122,
          0.021402550091074682,
          0.020833333333333332,
          0.018101092896174863
         ]
        }
       ],
       "layout": {
        "barmode": "group",
        "height": 600,
        "plot_bgcolor": "white",
        "template": {
         "data": {
          "bar": [
           {
            "error_x": {
             "color": "#2a3f5f"
            },
            "error_y": {
             "color": "#2a3f5f"
            },
            "marker": {
             "line": {
              "color": "#E5ECF6",
              "width": 0.5
             }
            },
            "type": "bar"
           }
          ],
          "barpolar": [
           {
            "marker": {
             "line": {
              "color": "#E5ECF6",
              "width": 0.5
             }
            },
            "type": "barpolar"
           }
          ],
          "carpet": [
           {
            "aaxis": {
             "endlinecolor": "#2a3f5f",
             "gridcolor": "white",
             "linecolor": "white",
             "minorgridcolor": "white",
             "startlinecolor": "#2a3f5f"
            },
            "baxis": {
             "endlinecolor": "#2a3f5f",
             "gridcolor": "white",
             "linecolor": "white",
             "minorgridcolor": "white",
             "startlinecolor": "#2a3f5f"
            },
            "type": "carpet"
           }
          ],
          "choropleth": [
           {
            "colorbar": {
             "outlinewidth": 0,
             "ticks": ""
            },
            "type": "choropleth"
           }
          ],
          "contour": [
           {
            "colorbar": {
             "outlinewidth": 0,
             "ticks": ""
            },
            "colorscale": [
             [
              0,
              "#0d0887"
             ],
             [
              0.1111111111111111,
              "#46039f"
             ],
             [
              0.2222222222222222,
              "#7201a8"
             ],
             [
              0.3333333333333333,
              "#9c179e"
             ],
             [
              0.4444444444444444,
              "#bd3786"
             ],
             [
              0.5555555555555556,
              "#d8576b"
             ],
             [
              0.6666666666666666,
              "#ed7953"
             ],
             [
              0.7777777777777778,
              "#fb9f3a"
             ],
             [
              0.8888888888888888,
              "#fdca26"
             ],
             [
              1,
              "#f0f921"
             ]
            ],
            "type": "contour"
           }
          ],
          "contourcarpet": [
           {
            "colorbar": {
             "outlinewidth": 0,
             "ticks": ""
            },
            "type": "contourcarpet"
           }
          ],
          "heatmap": [
           {
            "colorbar": {
             "outlinewidth": 0,
             "ticks": ""
            },
            "colorscale": [
             [
              0,
              "#0d0887"
             ],
             [
              0.1111111111111111,
              "#46039f"
             ],
             [
              0.2222222222222222,
              "#7201a8"
             ],
             [
              0.3333333333333333,
              "#9c179e"
             ],
             [
              0.4444444444444444,
              "#bd3786"
             ],
             [
              0.5555555555555556,
              "#d8576b"
             ],
             [
              0.6666666666666666,
              "#ed7953"
             ],
             [
              0.7777777777777778,
              "#fb9f3a"
             ],
             [
              0.8888888888888888,
              "#fdca26"
             ],
             [
              1,
              "#f0f921"
             ]
            ],
            "type": "heatmap"
           }
          ],
          "heatmapgl": [
           {
            "colorbar": {
             "outlinewidth": 0,
             "ticks": ""
            },
            "colorscale": [
             [
              0,
              "#0d0887"
             ],
             [
              0.1111111111111111,
              "#46039f"
             ],
             [
              0.2222222222222222,
              "#7201a8"
             ],
             [
              0.3333333333333333,
              "#9c179e"
             ],
             [
              0.4444444444444444,
              "#bd3786"
             ],
             [
              0.5555555555555556,
              "#d8576b"
             ],
             [
              0.6666666666666666,
              "#ed7953"
             ],
             [
              0.7777777777777778,
              "#fb9f3a"
             ],
             [
              0.8888888888888888,
              "#fdca26"
             ],
             [
              1,
              "#f0f921"
             ]
            ],
            "type": "heatmapgl"
           }
          ],
          "histogram": [
           {
            "marker": {
             "colorbar": {
              "outlinewidth": 0,
              "ticks": ""
             }
            },
            "type": "histogram"
           }
          ],
          "histogram2d": [
           {
            "colorbar": {
             "outlinewidth": 0,
             "ticks": ""
            },
            "colorscale": [
             [
              0,
              "#0d0887"
             ],
             [
              0.1111111111111111,
              "#46039f"
             ],
             [
              0.2222222222222222,
              "#7201a8"
             ],
             [
              0.3333333333333333,
              "#9c179e"
             ],
             [
              0.4444444444444444,
              "#bd3786"
             ],
             [
              0.5555555555555556,
              "#d8576b"
             ],
             [
              0.6666666666666666,
              "#ed7953"
             ],
             [
              0.7777777777777778,
              "#fb9f3a"
             ],
             [
              0.8888888888888888,
              "#fdca26"
             ],
             [
              1,
              "#f0f921"
             ]
            ],
            "type": "histogram2d"
           }
          ],
          "histogram2dcontour": [
           {
            "colorbar": {
             "outlinewidth": 0,
             "ticks": ""
            },
            "colorscale": [
             [
              0,
              "#0d0887"
             ],
             [
              0.1111111111111111,
              "#46039f"
             ],
             [
              0.2222222222222222,
              "#7201a8"
             ],
             [
              0.3333333333333333,
              "#9c179e"
             ],
             [
              0.4444444444444444,
              "#bd3786"
             ],
             [
              0.5555555555555556,
              "#d8576b"
             ],
             [
              0.6666666666666666,
              "#ed7953"
             ],
             [
              0.7777777777777778,
              "#fb9f3a"
             ],
             [
              0.8888888888888888,
              "#fdca26"
             ],
             [
              1,
              "#f0f921"
             ]
            ],
            "type": "histogram2dcontour"
           }
          ],
          "mesh3d": [
           {
            "colorbar": {
             "outlinewidth": 0,
             "ticks": ""
            },
            "type": "mesh3d"
           }
          ],
          "parcoords": [
           {
            "line": {
             "colorbar": {
              "outlinewidth": 0,
              "ticks": ""
             }
            },
            "type": "parcoords"
           }
          ],
          "pie": [
           {
            "automargin": true,
            "type": "pie"
           }
          ],
          "scatter": [
           {
            "marker": {
             "colorbar": {
              "outlinewidth": 0,
              "ticks": ""
             }
            },
            "type": "scatter"
           }
          ],
          "scatter3d": [
           {
            "line": {
             "colorbar": {
              "outlinewidth": 0,
              "ticks": ""
             }
            },
            "marker": {
             "colorbar": {
              "outlinewidth": 0,
              "ticks": ""
             }
            },
            "type": "scatter3d"
           }
          ],
          "scattercarpet": [
           {
            "marker": {
             "colorbar": {
              "outlinewidth": 0,
              "ticks": ""
             }
            },
            "type": "scattercarpet"
           }
          ],
          "scattergeo": [
           {
            "marker": {
             "colorbar": {
              "outlinewidth": 0,
              "ticks": ""
             }
            },
            "type": "scattergeo"
           }
          ],
          "scattergl": [
           {
            "marker": {
             "colorbar": {
              "outlinewidth": 0,
              "ticks": ""
             }
            },
            "type": "scattergl"
           }
          ],
          "scattermapbox": [
           {
            "marker": {
             "colorbar": {
              "outlinewidth": 0,
              "ticks": ""
             }
            },
            "type": "scattermapbox"
           }
          ],
          "scatterpolar": [
           {
            "marker": {
             "colorbar": {
              "outlinewidth": 0,
              "ticks": ""
             }
            },
            "type": "scatterpolar"
           }
          ],
          "scatterpolargl": [
           {
            "marker": {
             "colorbar": {
              "outlinewidth": 0,
              "ticks": ""
             }
            },
            "type": "scatterpolargl"
           }
          ],
          "scatterternary": [
           {
            "marker": {
             "colorbar": {
              "outlinewidth": 0,
              "ticks": ""
             }
            },
            "type": "scatterternary"
           }
          ],
          "surface": [
           {
            "colorbar": {
             "outlinewidth": 0,
             "ticks": ""
            },
            "colorscale": [
             [
              0,
              "#0d0887"
             ],
             [
              0.1111111111111111,
              "#46039f"
             ],
             [
              0.2222222222222222,
              "#7201a8"
             ],
             [
              0.3333333333333333,
              "#9c179e"
             ],
             [
              0.4444444444444444,
              "#bd3786"
             ],
             [
              0.5555555555555556,
              "#d8576b"
             ],
             [
              0.6666666666666666,
              "#ed7953"
             ],
             [
              0.7777777777777778,
              "#fb9f3a"
             ],
             [
              0.8888888888888888,
              "#fdca26"
             ],
             [
              1,
              "#f0f921"
             ]
            ],
            "type": "surface"
           }
          ],
          "table": [
           {
            "cells": {
             "fill": {
              "color": "#EBF0F8"
             },
             "line": {
              "color": "white"
             }
            },
            "header": {
             "fill": {
              "color": "#C8D4E3"
             },
             "line": {
              "color": "white"
             }
            },
            "type": "table"
           }
          ]
         },
         "layout": {
          "annotationdefaults": {
           "arrowcolor": "#2a3f5f",
           "arrowhead": 0,
           "arrowwidth": 1
          },
          "coloraxis": {
           "colorbar": {
            "outlinewidth": 0,
            "ticks": ""
           }
          },
          "colorscale": {
           "diverging": [
            [
             0,
             "#8e0152"
            ],
            [
             0.1,
             "#c51b7d"
            ],
            [
             0.2,
             "#de77ae"
            ],
            [
             0.3,
             "#f1b6da"
            ],
            [
             0.4,
             "#fde0ef"
            ],
            [
             0.5,
             "#f7f7f7"
            ],
            [
             0.6,
             "#e6f5d0"
            ],
            [
             0.7,
             "#b8e186"
            ],
            [
             0.8,
             "#7fbc41"
            ],
            [
             0.9,
             "#4d9221"
            ],
            [
             1,
             "#276419"
            ]
           ],
           "sequential": [
            [
             0,
             "#0d0887"
            ],
            [
             0.1111111111111111,
             "#46039f"
            ],
            [
             0.2222222222222222,
             "#7201a8"
            ],
            [
             0.3333333333333333,
             "#9c179e"
            ],
            [
             0.4444444444444444,
             "#bd3786"
            ],
            [
             0.5555555555555556,
             "#d8576b"
            ],
            [
             0.6666666666666666,
             "#ed7953"
            ],
            [
             0.7777777777777778,
             "#fb9f3a"
            ],
            [
             0.8888888888888888,
             "#fdca26"
            ],
            [
             1,
             "#f0f921"
            ]
           ],
           "sequentialminus": [
            [
             0,
             "#0d0887"
            ],
            [
             0.1111111111111111,
             "#46039f"
            ],
            [
             0.2222222222222222,
             "#7201a8"
            ],
            [
             0.3333333333333333,
             "#9c179e"
            ],
            [
             0.4444444444444444,
             "#bd3786"
            ],
            [
             0.5555555555555556,
             "#d8576b"
            ],
            [
             0.6666666666666666,
             "#ed7953"
            ],
            [
             0.7777777777777778,
             "#fb9f3a"
            ],
            [
             0.8888888888888888,
             "#fdca26"
            ],
            [
             1,
             "#f0f921"
            ]
           ]
          },
          "colorway": [
           "#636efa",
           "#EF553B",
           "#00cc96",
           "#ab63fa",
           "#FFA15A",
           "#19d3f3",
           "#FF6692",
           "#B6E880",
           "#FF97FF",
           "#FECB52"
          ],
          "font": {
           "color": "#2a3f5f"
          },
          "geo": {
           "bgcolor": "white",
           "lakecolor": "white",
           "landcolor": "#E5ECF6",
           "showlakes": true,
           "showland": true,
           "subunitcolor": "white"
          },
          "hoverlabel": {
           "align": "left"
          },
          "hovermode": "closest",
          "mapbox": {
           "style": "light"
          },
          "paper_bgcolor": "white",
          "plot_bgcolor": "#E5ECF6",
          "polar": {
           "angularaxis": {
            "gridcolor": "white",
            "linecolor": "white",
            "ticks": ""
           },
           "bgcolor": "#E5ECF6",
           "radialaxis": {
            "gridcolor": "white",
            "linecolor": "white",
            "ticks": ""
           }
          },
          "scene": {
           "xaxis": {
            "backgroundcolor": "#E5ECF6",
            "gridcolor": "white",
            "gridwidth": 2,
            "linecolor": "white",
            "showbackground": true,
            "ticks": "",
            "zerolinecolor": "white"
           },
           "yaxis": {
            "backgroundcolor": "#E5ECF6",
            "gridcolor": "white",
            "gridwidth": 2,
            "linecolor": "white",
            "showbackground": true,
            "ticks": "",
            "zerolinecolor": "white"
           },
           "zaxis": {
            "backgroundcolor": "#E5ECF6",
            "gridcolor": "white",
            "gridwidth": 2,
            "linecolor": "white",
            "showbackground": true,
            "ticks": "",
            "zerolinecolor": "white"
           }
          },
          "shapedefaults": {
           "line": {
            "color": "#2a3f5f"
           }
          },
          "ternary": {
           "aaxis": {
            "gridcolor": "white",
            "linecolor": "white",
            "ticks": ""
           },
           "baxis": {
            "gridcolor": "white",
            "linecolor": "white",
            "ticks": ""
           },
           "bgcolor": "#E5ECF6",
           "caxis": {
            "gridcolor": "white",
            "linecolor": "white",
            "ticks": ""
           }
          },
          "title": {
           "x": 0.05
          },
          "xaxis": {
           "automargin": true,
           "gridcolor": "white",
           "linecolor": "white",
           "ticks": "",
           "title": {
            "standoff": 15
           },
           "zerolinecolor": "white",
           "zerolinewidth": 2
          },
          "yaxis": {
           "automargin": true,
           "gridcolor": "white",
           "linecolor": "white",
           "ticks": "",
           "title": {
            "standoff": 15
           },
           "zerolinecolor": "white",
           "zerolinewidth": 2
          }
         }
        },
        "title": {
         "text": "Bestselling products by Weekday (in % of total)"
        },
        "width": 1200,
        "xaxis": {
         "tickangle": -45
        }
       }
      }
     },
     "metadata": {}
    }
   ],
   "source": [
    "fig = go.Figure(data=[go.Bar(x=day.Description[:15], y=day.HelpCount[:15] / day.HelpCount.sum(), name=day.DayOfWeek.values[0])\n",
    "                        for day in \n",
    "                        [bestselling_products_weekday.sort_values(\"HelpCount\",ascending=False)[bestselling_products_weekday.DayOfWeek                           == weekday]\n",
    "                        for weekday in \n",
    "                        [\"Monday\", \"Tuesday\", \"Wednesday\", \"Thursday\", \"Friday\", \"Saturday\", \"Sunday\"]]],           \n",
    "                       )\n",
    "fig.update_layout(title_text=\"Bestselling products by Weekday (in % of total)\", plot_bgcolor=\"white\", barmode='group', xaxis_tickangle=-45, width=1200,\n",
    "    height=600,)\n",
    "fig.show()"
   ]
  },
  {
   "cell_type": "code",
   "execution_count": 17,
   "metadata": {},
   "outputs": [],
   "source": [
    "fig = go.Figure(data=[go.Bar(x=day.Description[:10], y=day.HelpCount[:10])\n",
    "                        for day in \n",
    "                        [bestselling_products_weekday[bestselling_products_weekday.DayOfWeek == weekday].sort_values(\"HelpCount\",                               ascending=False)\n",
    "                        for weekday in \n",
    "                        [\"Monday\", \"Tuesday\", \"Wednesday\", \"Thursday\", \"Friday\", \"Saturday\", \"Sunday\"]]],           \n",
    "                       )"
   ]
  },
  {
   "cell_type": "markdown",
   "metadata": {},
   "source": [
    "## RFQ "
   ]
  },
  {
   "cell_type": "code",
   "execution_count": 18,
   "metadata": {},
   "outputs": [],
   "source": [
    "df_rfq=df.copy()\n",
    "df_rfq[\"Date\"]=pd.to_datetime(df_rfq[\"Date\"])\n",
    "df_rfq[\"Date\"]=pd.DatetimeIndex(df_rfq[\"Date\"])\n",
    "#Recency: Baseline data (last date in the dataset)\n",
    "basedate=df_rfq.Date.max()\n",
    "recency_df = df_rfq.groupby(by='Member', as_index=False)['Date'].max()\n",
    "recency_df.columns = ['Member','LastOrder']\n",
    "recency_df['Recency'] = recency_df['LastOrder'].apply(lambda x: (basedate - x).days)\n",
    "recency_df.drop('LastOrder',axis=1,inplace=True)\n",
    "\n",
    "#Frequency\n",
    "df_temp=df_rfq.drop_duplicates(subset=['Order', 'Member'], keep=\"first\")\n",
    "#calculate frequency of orders\n",
    "frequency_df = df_temp.groupby(by=['Member'], as_index=False)['Order'].count()\n",
    "\n",
    "#Quantity\n",
    "quantity_df=df_rfq.groupby(by=['Member'],as_index=False)['SKU'].count()\n",
    "\n",
    "#Merge and rename\n",
    "df_temp = recency_df.merge(frequency_df,on='Member')\n",
    "df_rfq=df_temp.merge(quantity_df,on='Member')\n",
    "df_rfq.rename(columns={'Order':'Frequency','SKU':'Quantity'},inplace=True)"
   ]
  },
  {
   "cell_type": "markdown",
   "metadata": {},
   "source": [
    "## Modelling"
   ]
  },
  {
   "cell_type": "code",
   "execution_count": 19,
   "metadata": {
    "scrolled": true
   },
   "outputs": [],
   "source": [
    "def get_order_table(df, member, orders_since=None, orders_until=None):\n",
    "    \"\"\"Returns dataframe with order as rows and SKUs as columns, indicating whether SKU was bought in order or not.\n",
    "    \"\"\"\n",
    "    if orders_until == None:\n",
    "        orders_until = df.Date.max()\n",
    "    if orders_since == None:\n",
    "        orders_since = df.Date.min()\n",
    "    df = df.sort_values(\"Date\")\n",
    "    member_df = df[(df.Member == member) & (df.Date <= orders_until) & (df.Date >= orders_since)]\n",
    "    return pd.crosstab(member_df.Order, member_df.SKU)"
   ]
  },
  {
   "cell_type": "code",
   "execution_count": 20,
   "metadata": {},
   "outputs": [],
   "source": [
    "def get_days_since_last_purchase(df, member, sku):\n",
    "    \"\"\"\n",
    "    Return days since member bought sku. \n",
    "    \"\"\"\n",
    "    df = df.sort_values(\"Date\")\n",
    "    # this would need to be changed to datetime.now() in production environment\n",
    "    now = pd.to_datetime(\"2014-10-07\", format=\"%Y-%m-%d\")\n",
    "\n",
    "    return (now - df[(df.Member == member) & (df.SKU == sku)].Date.values[-1]).seconds /60 /24"
   ]
  },
  {
   "cell_type": "code",
   "execution_count": 21,
   "metadata": {},
   "outputs": [],
   "source": [
    "def square_matrix(df, member, date):\n",
    "    \"\"\"\n",
    "    Returns a square matrix with all SKU combinations of the orders of a member and the probability that they occur together.\n",
    "    \"\"\"\n",
    "    sliced_df = df[[\"Order\", \"SKU\"]][(df.Member == member)&(df.Date<=date)]\n",
    "    gps = sliced_df.groupby(\"Order\")\n",
    "    unqFet = list(set(sliced_df[\"SKU\"]))\n",
    "    final = pd.DataFrame(columns=unqFet, index=unqFet)\n",
    "    final = final.fillna(0)\n",
    "    for g in gps.groups.values():\n",
    "        for i in range(len(g)):\n",
    "            for j in range(len(g)):\n",
    "                if i != j:\n",
    "                    final[ sliced_df[\"SKU\"][g[i]] ][ sliced_df[\"SKU\"][g[j]] ] += 1\n",
    "    final = final.div(final.sum(),axis=0)\n",
    "    finall = final.fillna(0)\n",
    "    return final"
   ]
  },
  {
   "cell_type": "code",
   "execution_count": 43,
   "metadata": {
    "scrolled": true
   },
   "outputs": [
    {
     "output_type": "execute_result",
     "data": {
      "text/plain": "15669760    1\n15669764    1\n15669767    1\n7753739     1\n15669772    1\n           ..\n15668684    1\n15668688    1\n34990551    1\n93025752    1\n7593949     1\nLength: 103, dtype: int64"
     },
     "metadata": {},
     "execution_count": 43
    }
   ],
   "source": [
    "a = square_matrix(df, \"M09736\", dt.datetime(2014,7,5))\n",
    "a.isna().sum()"
   ]
  },
  {
   "cell_type": "code",
   "execution_count": 23,
   "metadata": {},
   "outputs": [],
   "source": [
    "def measure_similarity(basket1, basket2, distance):\n",
    "    \"\"\" This function returns the similarity measure of two baskets.\n",
    "    The metrics could be cosine similarity, jaccard- or dice coefficient.\n",
    "    \"\"\"\n",
    "    if distance == \"cosine\":\n",
    "        result = 1-spatial.distance.cosine(basket1, basket2)\n",
    "\n",
    "    elif distance == \"jaccard\":\n",
    "        result = 1-spatial.distance.jaccard(basket1,basket2)\n",
    "        \n",
    "    elif distance == \"dice\":\n",
    "        result = 1-spatial.distance.dice(basket1,basket2)\n",
    "\n",
    "    return result"
   ]
  },
  {
   "cell_type": "code",
   "execution_count": 24,
   "metadata": {},
   "outputs": [
    {
     "output_type": "execute_result",
     "data": {
      "text/plain": "0.6666666666666667"
     },
     "metadata": {},
     "execution_count": 24
    }
   ],
   "source": [
    "recommended_items = [7543289, 15668688, 15668468, 34934495]\n",
    "test_start_date = dt.datetime(2014,7,5)\n",
    "member = \"M64379\"\n",
    "\n",
    "def evaluate_recommendation(member, recommended_items, test_start_date):\n",
    "    test_orders = get_order_table(df, member, orders_since=test_start_date)\n",
    "    recommended_order = [1 if i in recommended_items else 0 for i in test_orders.columns.values]\n",
    "\n",
    "    similarity_scores = []\n",
    "    for order_id, order in test_orders.iterrows():\n",
    "        score = measure_similarity(order.values, recommended_order, \"jaccard\")\n",
    "        similarity_scores.append(score)\n",
    "        return np.mean(similarity_scores)\n",
    "\n",
    "evaluate_recommendation(member, recommended_items, test_start_date)"
   ]
  },
  {
   "cell_type": "code",
   "execution_count": 38,
   "metadata": {},
   "outputs": [
    {
     "output_type": "execute_result",
     "data": {
      "text/plain": "array([0.01497107, 0.09867281, 0.06413548, 0.20705078, 0.62082127,\n       0.03951112, 0.0198125 , 0.03460667, 0.02476141, 0.0691243 ,\n       0.01982056, 0.38927643, 0.01486737, 0.01980243, 0.03949506,\n       0.02473994, 0.28585424, 0.08877726, 0.68005091, 0.03950857,\n       0.01982076, 0.16264243, 0.07891041, 0.14787276, 0.03460667,\n       0.09864804, 0.03458147, 0.11337573, 0.03949364, 0.08875913,\n       0.17747233, 0.03460667, 0.12818741, 0.0986219 , 0.18727572,\n       0.40899615, 0.07398627, 0.03458147, 0.03457509, 0.08382366,\n       0.14787835, 0.13310364, 0.07398627, 0.01980954, 0.01490858,\n       0.20698857, 0.25627027, 0.38438228, 0.64078184, 0.50261906,\n       0.05427474, 0.04449518, 0.06413548, 0.82300477, 0.10845631,\n       0.01497107, 0.03458607, 0.12819496, 0.46828662, 0.05920338,\n       0.0296447 , 0.00994538, 0.15774299, 0.01488361, 0.00994357,\n       0.01982076, 0.14301025, 0.59125158, 0.11338159, 0.03459769,\n       0.05920338, 0.05928113, 0.03457654, 0.18733652, 0.31044754,\n       0.20220257, 0.52228905, 0.39428169, 0.0937258 , 0.23664112,\n       0.04934903, 0.24152694, 0.02473994, 0.05427231, 0.05919705,\n       0.06906054, 0.38945233, 0.03950857, 0.13311739, 0.07398627,\n       0.04934836, 0.03459769, 0.06413548, 0.02475148, 0.05433386,\n       0.41880054, 0.64063371, 0.66032121, 0.02981014, 0.03951112,\n       0.03458607, 0.29079019, 0.03949761, 0.11832241])"
     },
     "metadata": {},
     "execution_count": 38
    }
   ],
   "source": [
    "def powerMethod(A,iter):\n",
    "    n = A.shape[1]\n",
    "    m = 1/n #weight of each product\n",
    "    x0 = [1]*n #final vector\n",
    "    delta = m*(np.array([1]*n,dtype='float64')/n) # array([1]*n is [1 1 ... 1] n times how the iteration proceed\n",
    "    for i in range(iter):\n",
    "        x0 = np.dot((1-m),np.dot(A,x0)) + delta\n",
    "    return x0\n",
    "\n",
    "df1_transposed = a.T # or df1.transpose()\n",
    "A = np.array(df1_transposed)\n",
    "powerMethod(A,200)"
   ]
  },
  {
   "cell_type": "code",
   "execution_count": 39,
   "metadata": {},
   "outputs": [
    {
     "output_type": "execute_result",
     "data": {
      "text/plain": "15668478    0.823005\n7629391     0.680051\n15668688    0.660321\n15668465    0.640782\n15668685    0.640634\n              ...   \n15668454    0.014909\n7587648     0.014884\n15669790    0.014867\n7664954     0.009945\n7587651     0.009944\nLength: 104, dtype: float64"
     },
     "metadata": {},
     "execution_count": 39
    }
   ],
   "source": [
    "s = pd.Series(powerMethod(A,200),index=df1_transposed.columns.values)\n",
    "s.sort_values(ascending=False)"
   ]
  },
  {
   "cell_type": "code",
   "execution_count": null,
   "metadata": {},
   "outputs": [],
   "source": []
  },
  {
   "cell_type": "code",
   "execution_count": 42,
   "metadata": {},
   "outputs": [
    {
     "output_type": "execute_result",
     "data": {
      "text/plain": "0.16666666666666663"
     },
     "metadata": {},
     "execution_count": 42
    }
   ],
   "source": [
    "basket1 = [15668478,7629391,15668688]\n",
    "basket2 = [7587651, 7664954,15669790 ]\n",
    "member = \"M64379\"\n",
    "test_start_date = dt.datetime(2014,7,5)\n",
    "evaluate_recommendation(member, basket1, test_start_date)"
   ]
  },
  {
   "cell_type": "code",
   "execution_count": null,
   "metadata": {},
   "outputs": [],
   "source": [
    "def get_smart_basket(df,Member,score_vector,additional_items_perc):\n",
    "    \"\"\"Takes the final score of function \"get final score\" and returns a list of recommended items of each customer based on the page rank score. The length of the list can be defined by \"additional_items_perc\" which is the percentage above the average number of products a customer ever bought since.\"\"\"\n",
    "    orders=get_order_table(df, Member, orders_since=None, orders_until=None)\n",
    "    orders[\"counter\"]=orders.sum(axis=1)\n",
    "    mean_items=orders.counter.mean()\n",
    "    length=round(mean_items*(1+additional_items_perc),0)\n",
    "    sv=score_vector.sort_values(by=[\"score\"])#name column according to output of final score function\n",
    "    rec_list=sv.iloc[0:length,0]\n",
    "    return rec_list"
   ]
  }
 ],
 "metadata": {
  "kernelspec": {
   "display_name": "Python 3.7.4 64-bit ('Michael': virtualenv)",
   "language": "python",
   "name": "python37464bitmichaelvirtualenv8c63a04aa4df46b1aed515199121a56c"
  },
  "language_info": {
   "codemirror_mode": {
    "name": "ipython",
    "version": 3
   },
   "file_extension": ".py",
   "mimetype": "text/x-python",
   "name": "python",
   "nbconvert_exporter": "python",
   "pygments_lexer": "ipython3",
   "version": "3.7.4-final"
  }
 },
 "nbformat": 4,
 "nbformat_minor": 2
}