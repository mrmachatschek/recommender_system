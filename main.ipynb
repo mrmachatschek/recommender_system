{
 "cells": [
  {
   "cell_type": "code",
   "execution_count": 32,
   "metadata": {},
   "outputs": [],
   "source": [
    "import pandas as pd \n",
    "import datetime as dt"
   ]
  },
  {
   "cell_type": "code",
   "execution_count": 33,
   "metadata": {},
   "outputs": [],
   "source": [
    "df = pd.read_csv(\"BigBasketDataset.tsv\", sep=\"\\t\")"
   ]
  },
  {
   "cell_type": "code",
   "execution_count": 34,
   "metadata": {},
   "outputs": [
    {
     "output_type": "execute_result",
     "data": {
      "text/plain": "   Member    Order       SKU        Created On   Description\n0  M09736  6468572  34993740  22-09-2014 22:45  Other Sauces\n1  M09736  6468572  15669800  22-09-2014 22:45       Cashews\n2  M09736  6468572  34989501  22-09-2014 22:45    Other Dals\n3  M09736  6468572   7572303  22-09-2014 22:45       Namkeen\n4  M09736  6468572  15669856  22-09-2014 22:45         Sugar",
      "text/html": "<div>\n<style scoped>\n    .dataframe tbody tr th:only-of-type {\n        vertical-align: middle;\n    }\n\n    .dataframe tbody tr th {\n        vertical-align: top;\n    }\n\n    .dataframe thead th {\n        text-align: right;\n    }\n</style>\n<table border=\"1\" class=\"dataframe\">\n  <thead>\n    <tr style=\"text-align: right;\">\n      <th></th>\n      <th>Member</th>\n      <th>Order</th>\n      <th>SKU</th>\n      <th>Created On</th>\n      <th>Description</th>\n    </tr>\n  </thead>\n  <tbody>\n    <tr>\n      <th>0</th>\n      <td>M09736</td>\n      <td>6468572</td>\n      <td>34993740</td>\n      <td>22-09-2014 22:45</td>\n      <td>Other Sauces</td>\n    </tr>\n    <tr>\n      <th>1</th>\n      <td>M09736</td>\n      <td>6468572</td>\n      <td>15669800</td>\n      <td>22-09-2014 22:45</td>\n      <td>Cashews</td>\n    </tr>\n    <tr>\n      <th>2</th>\n      <td>M09736</td>\n      <td>6468572</td>\n      <td>34989501</td>\n      <td>22-09-2014 22:45</td>\n      <td>Other Dals</td>\n    </tr>\n    <tr>\n      <th>3</th>\n      <td>M09736</td>\n      <td>6468572</td>\n      <td>7572303</td>\n      <td>22-09-2014 22:45</td>\n      <td>Namkeen</td>\n    </tr>\n    <tr>\n      <th>4</th>\n      <td>M09736</td>\n      <td>6468572</td>\n      <td>15669856</td>\n      <td>22-09-2014 22:45</td>\n      <td>Sugar</td>\n    </tr>\n  </tbody>\n</table>\n</div>"
     },
     "metadata": {},
     "execution_count": 34
    }
   ],
   "source": [
    "df.head()"
   ]
  },
  {
   "cell_type": "code",
   "execution_count": 35,
   "metadata": {},
   "outputs": [
    {
     "output_type": "stream",
     "name": "stdout",
     "text": "<class 'pandas.core.frame.DataFrame'>\nRangeIndex: 62141 entries, 0 to 62140\nData columns (total 5 columns):\nMember         62141 non-null object\nOrder          62141 non-null int64\nSKU            62141 non-null int64\nCreated On     62141 non-null object\nDescription    62141 non-null object\ndtypes: int64(2), object(3)\nmemory usage: 2.4+ MB\n"
    }
   ],
   "source": [
    "df.info()"
   ]
  },
  {
   "cell_type": "code",
   "execution_count": 36,
   "metadata": {},
   "outputs": [
    {
     "output_type": "stream",
     "name": "stdout",
     "text": "Number of orders:  8387\nNumber of products bought:  1732\nNumber of customers: 106\n"
    }
   ],
   "source": [
    "print(\"Number of orders: \", df.Order.nunique())\n",
    "print(\"Number of products bought: \",df.SKU.nunique())\n",
    "print(\"Number of customers:\", df.Member.nunique() )\n"
   ]
  },
  {
   "cell_type": "markdown",
   "metadata": {},
   "source": [
    "## Creating RFQ - Dataframe"
   ]
  },
  {
   "cell_type": "code",
   "execution_count": 37,
   "metadata": {},
   "outputs": [],
   "source": [
    "df_rfq=df.copy()\n",
    "\n"
   ]
  },
  {
   "cell_type": "code",
   "execution_count": 38,
   "metadata": {},
   "outputs": [],
   "source": [
    "df_rfq[\"Created On\"]=pd.to_datetime(df_rfq[\"Created On\"])\n",
    "df_rfq[\"Date\"]=pd.DatetimeIndex(df_rfq[\"Created On\"])"
   ]
  },
  {
   "cell_type": "code",
   "execution_count": 39,
   "metadata": {},
   "outputs": [],
   "source": [
    "#Recency: Baseline data (last date in the dataset)\n",
    "basedate=df_rfq.Date.max()"
   ]
  },
  {
   "cell_type": "code",
   "execution_count": 40,
   "metadata": {},
   "outputs": [],
   "source": [
    "recency_df = df_rfq.groupby(by='Member', as_index=False)['Date'].max()\n",
    "recency_df.columns = ['Member','LastOrder']"
   ]
  },
  {
   "cell_type": "code",
   "execution_count": 41,
   "metadata": {},
   "outputs": [],
   "source": [
    "recency_df['Recency'] = recency_df['LastOrder'].apply(lambda x: (basedate - x).days)\n",
    "recency_df.drop('LastOrder',axis=1,inplace=True)"
   ]
  },
  {
   "cell_type": "code",
   "execution_count": 42,
   "metadata": {},
   "outputs": [],
   "source": [
    "#Frequency\n",
    "df_temp=df_rfq.drop_duplicates(subset=['Order', 'Member'], keep=\"first\")\n",
    "#calculate frequency of orders\n",
    "frequency_df = df_temp.groupby(by=['Member'], as_index=False)['Order'].count()"
   ]
  },
  {
   "cell_type": "code",
   "execution_count": 43,
   "metadata": {},
   "outputs": [],
   "source": [
    "#Quantity\n",
    "quantity_df=df_rfq.groupby(by=['Member'],as_index=False)['SKU'].count()"
   ]
  },
  {
   "cell_type": "code",
   "execution_count": 44,
   "metadata": {},
   "outputs": [],
   "source": [
    "#Merge and rename\n",
    "df_temp = recency_df.merge(frequency_df,on='Member')\n",
    "df_rfq=df_temp.merge(quantity_df,on='Member')\n",
    "df_rfq.rename(columns={'Order':'Frequency','SKU':'Quantity'},inplace=True)"
   ]
  },
  {
   "cell_type": "code",
   "execution_count": null,
   "metadata": {},
   "outputs": [],
   "source": []
  }
 ],
 "metadata": {
  "kernelspec": {
   "display_name": "Python 3",
   "language": "python",
   "name": "python3"
  },
  "language_info": {
   "codemirror_mode": {
    "name": "ipython",
    "version": 3
   },
   "file_extension": ".py",
   "mimetype": "text/x-python",
   "name": "python",
   "nbconvert_exporter": "python",
   "pygments_lexer": "ipython3",
   "version": "3.7.3-final"
  }
 },
 "nbformat": 4,
 "nbformat_minor": 2
}