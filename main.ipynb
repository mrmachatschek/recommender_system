{
 "cells": [
  {
   "cell_type": "code",
   "execution_count": 1,
   "metadata": {},
   "outputs": [],
   "source": [
    "import pandas as pd "
   ]
  },
  {
   "cell_type": "code",
   "execution_count": 2,
   "metadata": {},
   "outputs": [],
   "source": [
    "df = pd.read_csv(\"BigBasketDataset.tsv\", sep=\"\\t\")"
   ]
  },
  {
   "cell_type": "code",
   "execution_count": 3,
   "metadata": {},
   "outputs": [
    {
     "output_type": "execute_result",
     "data": {
      "text/plain": "   Member    Order       SKU        Created On   Description\n0  M09736  6468572  34993740  22-09-2014 22:45  Other Sauces\n1  M09736  6468572  15669800  22-09-2014 22:45       Cashews\n2  M09736  6468572  34989501  22-09-2014 22:45    Other Dals\n3  M09736  6468572   7572303  22-09-2014 22:45       Namkeen\n4  M09736  6468572  15669856  22-09-2014 22:45         Sugar",
      "text/html": "<div>\n<style scoped>\n    .dataframe tbody tr th:only-of-type {\n        vertical-align: middle;\n    }\n\n    .dataframe tbody tr th {\n        vertical-align: top;\n    }\n\n    .dataframe thead th {\n        text-align: right;\n    }\n</style>\n<table border=\"1\" class=\"dataframe\">\n  <thead>\n    <tr style=\"text-align: right;\">\n      <th></th>\n      <th>Member</th>\n      <th>Order</th>\n      <th>SKU</th>\n      <th>Created On</th>\n      <th>Description</th>\n    </tr>\n  </thead>\n  <tbody>\n    <tr>\n      <td>0</td>\n      <td>M09736</td>\n      <td>6468572</td>\n      <td>34993740</td>\n      <td>22-09-2014 22:45</td>\n      <td>Other Sauces</td>\n    </tr>\n    <tr>\n      <td>1</td>\n      <td>M09736</td>\n      <td>6468572</td>\n      <td>15669800</td>\n      <td>22-09-2014 22:45</td>\n      <td>Cashews</td>\n    </tr>\n    <tr>\n      <td>2</td>\n      <td>M09736</td>\n      <td>6468572</td>\n      <td>34989501</td>\n      <td>22-09-2014 22:45</td>\n      <td>Other Dals</td>\n    </tr>\n    <tr>\n      <td>3</td>\n      <td>M09736</td>\n      <td>6468572</td>\n      <td>7572303</td>\n      <td>22-09-2014 22:45</td>\n      <td>Namkeen</td>\n    </tr>\n    <tr>\n      <td>4</td>\n      <td>M09736</td>\n      <td>6468572</td>\n      <td>15669856</td>\n      <td>22-09-2014 22:45</td>\n      <td>Sugar</td>\n    </tr>\n  </tbody>\n</table>\n</div>"
     },
     "metadata": {},
     "execution_count": 3
    }
   ],
   "source": [
    "df.head()"
   ]
  },
  {
   "cell_type": "code",
   "execution_count": 4,
   "metadata": {},
   "outputs": [
    {
     "output_type": "stream",
     "name": "stdout",
     "text": "<class 'pandas.core.frame.DataFrame'>\nRangeIndex: 62141 entries, 0 to 62140\nData columns (total 5 columns):\nMember         62141 non-null object\nOrder          62141 non-null int64\nSKU            62141 non-null int64\nCreated On     62141 non-null object\nDescription    62141 non-null object\ndtypes: int64(2), object(3)\nmemory usage: 2.4+ MB\n"
    }
   ],
   "source": [
    "df.info()"
   ]
  },
  {
   "cell_type": "code",
   "execution_count": null,
   "metadata": {},
   "outputs": [],
   "source": []
  }
 ],
 "metadata": {
  "language_info": {
   "codemirror_mode": {
    "name": "ipython",
    "version": 3
   },
   "file_extension": ".py",
   "mimetype": "text/x-python",
   "name": "python",
   "nbconvert_exporter": "python",
   "pygments_lexer": "ipython3",
   "version": "3.7.4-final"
  },
  "orig_nbformat": 2,
  "kernelspec": {
   "name": "python37464bitmichaelvirtualenv8c63a04aa4df46b1aed515199121a56c",
   "display_name": "Python 3.7.4 64-bit ('Michael': virtualenv)"
  }
 },
 "nbformat": 4,
 "nbformat_minor": 2
}